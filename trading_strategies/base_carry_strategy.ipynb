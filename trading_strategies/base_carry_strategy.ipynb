{
 "cells": [
  {
   "cell_type": "code",
   "execution_count": 1,
   "outputs": [],
   "source": [
    "import eikon as ek\n",
    "import numpy as np\n",
    "import pandas as pd\n",
    "import json\n",
    "import datetime as dt\n",
    "import traceback\n",
    "import math"
   ],
   "metadata": {
    "collapsed": false,
    "pycharm": {
     "name": "#%%\n"
    }
   }
  },
  {
   "cell_type": "markdown",
   "source": [
    "# Import Cleaned Data"
   ],
   "metadata": {
    "collapsed": false
   }
  },
  {
   "cell_type": "code",
   "execution_count": 2,
   "outputs": [],
   "source": [
    "price_data = pd.read_csv(\"price_data_cleaned.csv\")"
   ],
   "metadata": {
    "collapsed": false,
    "pycharm": {
     "name": "#%%\n"
    }
   }
  },
  {
   "cell_type": "code",
   "execution_count": 3,
   "outputs": [
    {
     "data": {
      "text/plain": "                Year          Month            Day    Day of Week  \\\ncount  166554.000000  166554.000000  166554.000000  166554.000000   \nmean     2007.503032       6.555964      15.772128       2.014272   \nstd         8.644937       3.433873       8.750959       1.399904   \nmin      1992.000000       1.000000       1.000000       0.000000   \n25%      2000.000000       4.000000       8.000000       1.000000   \n50%      2008.000000       7.000000      16.000000       2.000000   \n75%      2015.000000      10.000000      23.000000       3.000000   \nmax      2021.000000      12.000000      31.000000       6.000000   \n\n         Close Price  Accumulated Volume  C2 - Close Price  \\\ncount  166554.000000        1.664290e+05     166554.000000   \nmean     2247.252814        1.925024e+05       2248.873235   \nstd     10215.661480        3.268517e+06      10218.444864   \nmin       -13.100000        0.000000e+00          0.302000   \n25%        19.490000        7.530000e+02         19.430000   \n50%       111.450000        4.979000e+03        111.700000   \n75%       502.750000        2.227400e+04        506.875000   \nmax    155880.000000        1.734515e+08     154750.000000   \n\n       C2 - Accumulated Volume  C3 - Close Price  C3 - Accumulated Volume  \\\ncount             1.665070e+05     162312.000000             1.622760e+05   \nmean              1.765483e+05       2290.334560             4.550426e+04   \nstd               2.920270e+06      10305.344406             1.103189e+06   \nmin               0.000000e+00          0.308000             0.000000e+00   \n25%               2.519000e+03         19.800000             9.200000e+02   \n50%               1.022200e+04        112.850000             4.084000e+03   \n75%               3.527050e+04        524.000000             1.610625e+04   \nmax               2.790027e+08     154540.000000             1.340868e+08   \n\n       C4 - Close Price  C4 - Accumulated Volume  Daily Adjusted Return  \\\ncount     162312.000000             1.622760e+05          166554.000000   \nmean        2290.334560             4.550426e+04               0.000187   \nstd        10305.344406             1.103189e+06               0.016653   \nmin            0.308000             0.000000e+00              -0.359333   \n25%           19.800000             9.200000e+02              -0.006027   \n50%          112.850000             4.084000e+03               0.000000   \n75%          524.000000             1.610625e+04               0.006370   \nmax       154540.000000             1.340868e+08               0.479290   \n\n       C2 - Daily Adjusted Return  C3 - Daily Adjusted Return  \\\ncount               166554.000000               162726.000000   \nmean                     0.000119                    0.000135   \nstd                      0.015798                    0.014556   \nmin                     -0.941776                   -0.261407   \n25%                     -0.005932                   -0.005422   \n50%                      0.000000                    0.000000   \n75%                      0.006090                    0.005732   \nmax                      0.387716                    0.409346   \n\n       C4 - Daily Adjusted Return  \ncount               162726.000000  \nmean                     0.000135  \nstd                      0.014556  \nmin                     -0.261407  \n25%                     -0.005422  \n50%                      0.000000  \n75%                      0.005732  \nmax                      0.409346  ",
      "text/html": "<div>\n<style scoped>\n    .dataframe tbody tr th:only-of-type {\n        vertical-align: middle;\n    }\n\n    .dataframe tbody tr th {\n        vertical-align: top;\n    }\n\n    .dataframe thead th {\n        text-align: right;\n    }\n</style>\n<table border=\"1\" class=\"dataframe\">\n  <thead>\n    <tr style=\"text-align: right;\">\n      <th></th>\n      <th>Year</th>\n      <th>Month</th>\n      <th>Day</th>\n      <th>Day of Week</th>\n      <th>Close Price</th>\n      <th>Accumulated Volume</th>\n      <th>C2 - Close Price</th>\n      <th>C2 - Accumulated Volume</th>\n      <th>C3 - Close Price</th>\n      <th>C3 - Accumulated Volume</th>\n      <th>C4 - Close Price</th>\n      <th>C4 - Accumulated Volume</th>\n      <th>Daily Adjusted Return</th>\n      <th>C2 - Daily Adjusted Return</th>\n      <th>C3 - Daily Adjusted Return</th>\n      <th>C4 - Daily Adjusted Return</th>\n    </tr>\n  </thead>\n  <tbody>\n    <tr>\n      <th>count</th>\n      <td>166554.000000</td>\n      <td>166554.000000</td>\n      <td>166554.000000</td>\n      <td>166554.000000</td>\n      <td>166554.000000</td>\n      <td>1.664290e+05</td>\n      <td>166554.000000</td>\n      <td>1.665070e+05</td>\n      <td>162312.000000</td>\n      <td>1.622760e+05</td>\n      <td>162312.000000</td>\n      <td>1.622760e+05</td>\n      <td>166554.000000</td>\n      <td>166554.000000</td>\n      <td>162726.000000</td>\n      <td>162726.000000</td>\n    </tr>\n    <tr>\n      <th>mean</th>\n      <td>2007.503032</td>\n      <td>6.555964</td>\n      <td>15.772128</td>\n      <td>2.014272</td>\n      <td>2247.252814</td>\n      <td>1.925024e+05</td>\n      <td>2248.873235</td>\n      <td>1.765483e+05</td>\n      <td>2290.334560</td>\n      <td>4.550426e+04</td>\n      <td>2290.334560</td>\n      <td>4.550426e+04</td>\n      <td>0.000187</td>\n      <td>0.000119</td>\n      <td>0.000135</td>\n      <td>0.000135</td>\n    </tr>\n    <tr>\n      <th>std</th>\n      <td>8.644937</td>\n      <td>3.433873</td>\n      <td>8.750959</td>\n      <td>1.399904</td>\n      <td>10215.661480</td>\n      <td>3.268517e+06</td>\n      <td>10218.444864</td>\n      <td>2.920270e+06</td>\n      <td>10305.344406</td>\n      <td>1.103189e+06</td>\n      <td>10305.344406</td>\n      <td>1.103189e+06</td>\n      <td>0.016653</td>\n      <td>0.015798</td>\n      <td>0.014556</td>\n      <td>0.014556</td>\n    </tr>\n    <tr>\n      <th>min</th>\n      <td>1992.000000</td>\n      <td>1.000000</td>\n      <td>1.000000</td>\n      <td>0.000000</td>\n      <td>-13.100000</td>\n      <td>0.000000e+00</td>\n      <td>0.302000</td>\n      <td>0.000000e+00</td>\n      <td>0.308000</td>\n      <td>0.000000e+00</td>\n      <td>0.308000</td>\n      <td>0.000000e+00</td>\n      <td>-0.359333</td>\n      <td>-0.941776</td>\n      <td>-0.261407</td>\n      <td>-0.261407</td>\n    </tr>\n    <tr>\n      <th>25%</th>\n      <td>2000.000000</td>\n      <td>4.000000</td>\n      <td>8.000000</td>\n      <td>1.000000</td>\n      <td>19.490000</td>\n      <td>7.530000e+02</td>\n      <td>19.430000</td>\n      <td>2.519000e+03</td>\n      <td>19.800000</td>\n      <td>9.200000e+02</td>\n      <td>19.800000</td>\n      <td>9.200000e+02</td>\n      <td>-0.006027</td>\n      <td>-0.005932</td>\n      <td>-0.005422</td>\n      <td>-0.005422</td>\n    </tr>\n    <tr>\n      <th>50%</th>\n      <td>2008.000000</td>\n      <td>7.000000</td>\n      <td>16.000000</td>\n      <td>2.000000</td>\n      <td>111.450000</td>\n      <td>4.979000e+03</td>\n      <td>111.700000</td>\n      <td>1.022200e+04</td>\n      <td>112.850000</td>\n      <td>4.084000e+03</td>\n      <td>112.850000</td>\n      <td>4.084000e+03</td>\n      <td>0.000000</td>\n      <td>0.000000</td>\n      <td>0.000000</td>\n      <td>0.000000</td>\n    </tr>\n    <tr>\n      <th>75%</th>\n      <td>2015.000000</td>\n      <td>10.000000</td>\n      <td>23.000000</td>\n      <td>3.000000</td>\n      <td>502.750000</td>\n      <td>2.227400e+04</td>\n      <td>506.875000</td>\n      <td>3.527050e+04</td>\n      <td>524.000000</td>\n      <td>1.610625e+04</td>\n      <td>524.000000</td>\n      <td>1.610625e+04</td>\n      <td>0.006370</td>\n      <td>0.006090</td>\n      <td>0.005732</td>\n      <td>0.005732</td>\n    </tr>\n    <tr>\n      <th>max</th>\n      <td>2021.000000</td>\n      <td>12.000000</td>\n      <td>31.000000</td>\n      <td>6.000000</td>\n      <td>155880.000000</td>\n      <td>1.734515e+08</td>\n      <td>154750.000000</td>\n      <td>2.790027e+08</td>\n      <td>154540.000000</td>\n      <td>1.340868e+08</td>\n      <td>154540.000000</td>\n      <td>1.340868e+08</td>\n      <td>0.479290</td>\n      <td>0.387716</td>\n      <td>0.409346</td>\n      <td>0.409346</td>\n    </tr>\n  </tbody>\n</table>\n</div>"
     },
     "execution_count": 3,
     "metadata": {},
     "output_type": "execute_result"
    }
   ],
   "source": [
    "price_data.describe()"
   ],
   "metadata": {
    "collapsed": false,
    "pycharm": {
     "name": "#%%\n"
    }
   }
  },
  {
   "cell_type": "markdown",
   "source": [
    "# Create Carry Signals & Trading Data Set"
   ],
   "metadata": {
    "collapsed": false
   }
  },
  {
   "cell_type": "code",
   "execution_count": 4,
   "outputs": [],
   "source": [
    "price_data[\"C1 - C2 Carry\"] = price_data[\"C2 - Close Price\"] / price_data[\"Close Price\"] - 1"
   ],
   "metadata": {
    "collapsed": false,
    "pycharm": {
     "name": "#%%\n"
    }
   }
  },
  {
   "cell_type": "code",
   "execution_count": 5,
   "outputs": [],
   "source": [
    "price_data[\"Instrument - Lag\"] = price_data.Instrument.shift(1)\n",
    "price_data[\"Date - Lag\"] = price_data.Date.shift(1)\n",
    "price_data[\"C2 - Close Price - Lag\"] = price_data[\"C2 - Close Price\"].shift(1)\n",
    "price_data[\"Close Price - Lag\"] = price_data[\"Close Price\"].shift(1)\n",
    "price_data[\"C1 - C2 Carry - Lag\"] = price_data[\"C1 - C2 Carry\"].shift(1)"
   ],
   "metadata": {
    "collapsed": false,
    "pycharm": {
     "name": "#%%\n"
    }
   }
  },
  {
   "cell_type": "code",
   "execution_count": 6,
   "outputs": [],
   "source": [
    "price_data[\"Date - Lag\"] = price_data[[\"Instrument - Lag\", \"Instrument\", \"Date - Lag\"]].apply(\n",
    "    lambda x: np.nan if x[0] != x[1] else x[2],\n",
    "    axis=1\n",
    ")\n",
    "\n",
    "price_data[\"C2 - Close Price - Lag\"] = price_data[[\"Instrument - Lag\", \"Instrument\", \"C2 - Close Price - Lag\"]].apply(\n",
    "    lambda x: np.nan if x[0] != x[1] else x[2],\n",
    "    axis=1\n",
    ")\n",
    "\n",
    "price_data[\"Close Price - Lag\"] = price_data[[\"Instrument - Lag\", \"Instrument\", \"Close Price - Lag\"]].apply(\n",
    "    lambda x: np.nan if x[0] != x[1] else x[2],\n",
    "    axis=1\n",
    ")\n",
    "\n",
    "price_data[\"C1 - C2 Carry - Lag\"] = price_data[[\"Instrument - Lag\", \"Instrument\", \"C1 - C2 Carry - Lag\"]].apply(\n",
    "    lambda x: np.nan if x[0] != x[1] else x[2],\n",
    "    axis=1\n",
    ")"
   ],
   "metadata": {
    "collapsed": false,
    "pycharm": {
     "name": "#%%\n"
    }
   }
  },
  {
   "cell_type": "code",
   "execution_count": 7,
   "outputs": [],
   "source": [
    "trading_data = price_data.copy()"
   ],
   "metadata": {
    "collapsed": false,
    "pycharm": {
     "name": "#%%\n"
    }
   }
  },
  {
   "cell_type": "code",
   "execution_count": 8,
   "outputs": [
    {
     "data": {
      "text/plain": "       Instrument        Date  Year  Month  Day  Day of Week  Close Price  \\\n0              SB  1992-01-03  1992      1    3            4        8.410   \n1              SB  1992-01-06  1992      1    6            0        8.500   \n2              SB  1992-01-07  1992      1    7            1        8.350   \n3              SB  1992-01-08  1992      1    8            2        8.430   \n4              SB  1992-01-09  1992      1    9            3        8.450   \n...           ...         ...   ...    ...  ...          ...          ...   \n166549         SI  2021-12-27  2021     12   27            0       22.680   \n166550         SI  2021-12-28  2021     12   28            1       23.150   \n166551         SI  2021-12-29  2021     12   29            2       22.635   \n166552         SI  2021-12-30  2021     12   30            3       23.070   \n166553         SI  2021-12-31  2021     12   31            4       23.310   \n\n        Accumulated Volume  C2 - Close Price  C2 - Accumulated Volume  ...  \\\n0                   5154.0             8.370                   3388.0  ...   \n1                   4996.0             8.440                   2751.0  ...   \n2                   4846.0             8.320                   4290.0  ...   \n3                   5456.0             8.460                   4665.0  ...   \n4                   4213.0             8.440                   4566.0  ...   \n...                    ...               ...                      ...  ...   \n166549                 1.0            23.060                 108793.0  ...   \n166550               211.0            23.015                  73451.0  ...   \n166551               172.0            22.825                  98976.0  ...   \n166552               344.0            23.100                  75359.0  ...   \n166553               230.0            23.345                    392.0  ...   \n\n        Daily Adjusted Return  C2 - Daily Adjusted Return  \\\n0                   -0.020955                   -0.018757   \n1                    0.010702                    0.008363   \n2                   -0.017647                   -0.014218   \n3                    0.009581                    0.016827   \n4                    0.002372                   -0.002364   \n...                       ...                         ...   \n166549               0.000000                    0.000000   \n166550               0.000000                    0.000000   \n166551               0.000000                    0.000000   \n166552               0.000000                    0.000000   \n166553               0.000000                    0.000000   \n\n        C3 - Daily Adjusted Return  C4 - Daily Adjusted Return  C1 - C2 Carry  \\\n0                        -0.012972                   -0.012972      -0.004756   \n1                         0.003584                    0.003584      -0.007059   \n2                        -0.007143                   -0.007143      -0.003593   \n3                         0.014388                    0.014388       0.003559   \n4                         0.001182                    0.001182      -0.001183   \n...                            ...                         ...            ...   \n166549                    0.000000                    0.000000       0.016755   \n166550                    0.000000                    0.000000      -0.005832   \n166551                    0.000000                    0.000000       0.008394   \n166552                    0.000000                    0.000000       0.001300   \n166553                    0.000000                    0.000000       0.001502   \n\n        Instrument - Lag  Date - Lag  C2 - Close Price - Lag  \\\n0                    NaN         NaN                     NaN   \n1                     SB  1992-01-03                   8.370   \n2                     SB  1992-01-06                   8.440   \n3                     SB  1992-01-07                   8.320   \n4                     SB  1992-01-08                   8.460   \n...                  ...         ...                     ...   \n166549                SI  2021-12-23                  22.895   \n166550                SI  2021-12-27                  23.060   \n166551                SI  2021-12-28                  23.015   \n166552                SI  2021-12-29                  22.825   \n166553                SI  2021-12-30                  23.100   \n\n        Close Price - Lag C1 - C2 Carry - Lag  \n0                     NaN                 NaN  \n1                   8.410           -0.004756  \n2                   8.500           -0.007059  \n3                   8.350           -0.003593  \n4                   8.430            0.003559  \n...                   ...                 ...  \n166549             22.835            0.002628  \n166550             22.680            0.016755  \n166551             23.150           -0.005832  \n166552             22.635            0.008394  \n166553             23.070            0.001300  \n\n[166554 rows x 24 columns]",
      "text/html": "<div>\n<style scoped>\n    .dataframe tbody tr th:only-of-type {\n        vertical-align: middle;\n    }\n\n    .dataframe tbody tr th {\n        vertical-align: top;\n    }\n\n    .dataframe thead th {\n        text-align: right;\n    }\n</style>\n<table border=\"1\" class=\"dataframe\">\n  <thead>\n    <tr style=\"text-align: right;\">\n      <th></th>\n      <th>Instrument</th>\n      <th>Date</th>\n      <th>Year</th>\n      <th>Month</th>\n      <th>Day</th>\n      <th>Day of Week</th>\n      <th>Close Price</th>\n      <th>Accumulated Volume</th>\n      <th>C2 - Close Price</th>\n      <th>C2 - Accumulated Volume</th>\n      <th>...</th>\n      <th>Daily Adjusted Return</th>\n      <th>C2 - Daily Adjusted Return</th>\n      <th>C3 - Daily Adjusted Return</th>\n      <th>C4 - Daily Adjusted Return</th>\n      <th>C1 - C2 Carry</th>\n      <th>Instrument - Lag</th>\n      <th>Date - Lag</th>\n      <th>C2 - Close Price - Lag</th>\n      <th>Close Price - Lag</th>\n      <th>C1 - C2 Carry - Lag</th>\n    </tr>\n  </thead>\n  <tbody>\n    <tr>\n      <th>0</th>\n      <td>SB</td>\n      <td>1992-01-03</td>\n      <td>1992</td>\n      <td>1</td>\n      <td>3</td>\n      <td>4</td>\n      <td>8.410</td>\n      <td>5154.0</td>\n      <td>8.370</td>\n      <td>3388.0</td>\n      <td>...</td>\n      <td>-0.020955</td>\n      <td>-0.018757</td>\n      <td>-0.012972</td>\n      <td>-0.012972</td>\n      <td>-0.004756</td>\n      <td>NaN</td>\n      <td>NaN</td>\n      <td>NaN</td>\n      <td>NaN</td>\n      <td>NaN</td>\n    </tr>\n    <tr>\n      <th>1</th>\n      <td>SB</td>\n      <td>1992-01-06</td>\n      <td>1992</td>\n      <td>1</td>\n      <td>6</td>\n      <td>0</td>\n      <td>8.500</td>\n      <td>4996.0</td>\n      <td>8.440</td>\n      <td>2751.0</td>\n      <td>...</td>\n      <td>0.010702</td>\n      <td>0.008363</td>\n      <td>0.003584</td>\n      <td>0.003584</td>\n      <td>-0.007059</td>\n      <td>SB</td>\n      <td>1992-01-03</td>\n      <td>8.370</td>\n      <td>8.410</td>\n      <td>-0.004756</td>\n    </tr>\n    <tr>\n      <th>2</th>\n      <td>SB</td>\n      <td>1992-01-07</td>\n      <td>1992</td>\n      <td>1</td>\n      <td>7</td>\n      <td>1</td>\n      <td>8.350</td>\n      <td>4846.0</td>\n      <td>8.320</td>\n      <td>4290.0</td>\n      <td>...</td>\n      <td>-0.017647</td>\n      <td>-0.014218</td>\n      <td>-0.007143</td>\n      <td>-0.007143</td>\n      <td>-0.003593</td>\n      <td>SB</td>\n      <td>1992-01-06</td>\n      <td>8.440</td>\n      <td>8.500</td>\n      <td>-0.007059</td>\n    </tr>\n    <tr>\n      <th>3</th>\n      <td>SB</td>\n      <td>1992-01-08</td>\n      <td>1992</td>\n      <td>1</td>\n      <td>8</td>\n      <td>2</td>\n      <td>8.430</td>\n      <td>5456.0</td>\n      <td>8.460</td>\n      <td>4665.0</td>\n      <td>...</td>\n      <td>0.009581</td>\n      <td>0.016827</td>\n      <td>0.014388</td>\n      <td>0.014388</td>\n      <td>0.003559</td>\n      <td>SB</td>\n      <td>1992-01-07</td>\n      <td>8.320</td>\n      <td>8.350</td>\n      <td>-0.003593</td>\n    </tr>\n    <tr>\n      <th>4</th>\n      <td>SB</td>\n      <td>1992-01-09</td>\n      <td>1992</td>\n      <td>1</td>\n      <td>9</td>\n      <td>3</td>\n      <td>8.450</td>\n      <td>4213.0</td>\n      <td>8.440</td>\n      <td>4566.0</td>\n      <td>...</td>\n      <td>0.002372</td>\n      <td>-0.002364</td>\n      <td>0.001182</td>\n      <td>0.001182</td>\n      <td>-0.001183</td>\n      <td>SB</td>\n      <td>1992-01-08</td>\n      <td>8.460</td>\n      <td>8.430</td>\n      <td>0.003559</td>\n    </tr>\n    <tr>\n      <th>...</th>\n      <td>...</td>\n      <td>...</td>\n      <td>...</td>\n      <td>...</td>\n      <td>...</td>\n      <td>...</td>\n      <td>...</td>\n      <td>...</td>\n      <td>...</td>\n      <td>...</td>\n      <td>...</td>\n      <td>...</td>\n      <td>...</td>\n      <td>...</td>\n      <td>...</td>\n      <td>...</td>\n      <td>...</td>\n      <td>...</td>\n      <td>...</td>\n      <td>...</td>\n      <td>...</td>\n    </tr>\n    <tr>\n      <th>166549</th>\n      <td>SI</td>\n      <td>2021-12-27</td>\n      <td>2021</td>\n      <td>12</td>\n      <td>27</td>\n      <td>0</td>\n      <td>22.680</td>\n      <td>1.0</td>\n      <td>23.060</td>\n      <td>108793.0</td>\n      <td>...</td>\n      <td>0.000000</td>\n      <td>0.000000</td>\n      <td>0.000000</td>\n      <td>0.000000</td>\n      <td>0.016755</td>\n      <td>SI</td>\n      <td>2021-12-23</td>\n      <td>22.895</td>\n      <td>22.835</td>\n      <td>0.002628</td>\n    </tr>\n    <tr>\n      <th>166550</th>\n      <td>SI</td>\n      <td>2021-12-28</td>\n      <td>2021</td>\n      <td>12</td>\n      <td>28</td>\n      <td>1</td>\n      <td>23.150</td>\n      <td>211.0</td>\n      <td>23.015</td>\n      <td>73451.0</td>\n      <td>...</td>\n      <td>0.000000</td>\n      <td>0.000000</td>\n      <td>0.000000</td>\n      <td>0.000000</td>\n      <td>-0.005832</td>\n      <td>SI</td>\n      <td>2021-12-27</td>\n      <td>23.060</td>\n      <td>22.680</td>\n      <td>0.016755</td>\n    </tr>\n    <tr>\n      <th>166551</th>\n      <td>SI</td>\n      <td>2021-12-29</td>\n      <td>2021</td>\n      <td>12</td>\n      <td>29</td>\n      <td>2</td>\n      <td>22.635</td>\n      <td>172.0</td>\n      <td>22.825</td>\n      <td>98976.0</td>\n      <td>...</td>\n      <td>0.000000</td>\n      <td>0.000000</td>\n      <td>0.000000</td>\n      <td>0.000000</td>\n      <td>0.008394</td>\n      <td>SI</td>\n      <td>2021-12-28</td>\n      <td>23.015</td>\n      <td>23.150</td>\n      <td>-0.005832</td>\n    </tr>\n    <tr>\n      <th>166552</th>\n      <td>SI</td>\n      <td>2021-12-30</td>\n      <td>2021</td>\n      <td>12</td>\n      <td>30</td>\n      <td>3</td>\n      <td>23.070</td>\n      <td>344.0</td>\n      <td>23.100</td>\n      <td>75359.0</td>\n      <td>...</td>\n      <td>0.000000</td>\n      <td>0.000000</td>\n      <td>0.000000</td>\n      <td>0.000000</td>\n      <td>0.001300</td>\n      <td>SI</td>\n      <td>2021-12-29</td>\n      <td>22.825</td>\n      <td>22.635</td>\n      <td>0.008394</td>\n    </tr>\n    <tr>\n      <th>166553</th>\n      <td>SI</td>\n      <td>2021-12-31</td>\n      <td>2021</td>\n      <td>12</td>\n      <td>31</td>\n      <td>4</td>\n      <td>23.310</td>\n      <td>230.0</td>\n      <td>23.345</td>\n      <td>392.0</td>\n      <td>...</td>\n      <td>0.000000</td>\n      <td>0.000000</td>\n      <td>0.000000</td>\n      <td>0.000000</td>\n      <td>0.001502</td>\n      <td>SI</td>\n      <td>2021-12-30</td>\n      <td>23.100</td>\n      <td>23.070</td>\n      <td>0.001300</td>\n    </tr>\n  </tbody>\n</table>\n<p>166554 rows × 24 columns</p>\n</div>"
     },
     "execution_count": 8,
     "metadata": {},
     "output_type": "execute_result"
    }
   ],
   "source": [
    "trading_data"
   ],
   "metadata": {
    "collapsed": false,
    "pycharm": {
     "name": "#%%\n"
    }
   }
  },
  {
   "cell_type": "code",
   "execution_count": 9,
   "outputs": [],
   "source": [
    "trading_data.Date = pd.to_datetime(trading_data.Date)"
   ],
   "metadata": {
    "collapsed": false,
    "pycharm": {
     "name": "#%%\n"
    }
   }
  },
  {
   "cell_type": "markdown",
   "source": [
    "Value Baseline\n",
    "\n",
    "To calculate the value factor we need the average price over the past 5 years. The average excludes the current date to prevent forward-looking bias"
   ],
   "metadata": {
    "collapsed": false,
    "pycharm": {
     "name": "#%% md\n"
    }
   }
  },
  {
   "cell_type": "code",
   "execution_count": 10,
   "outputs": [],
   "source": [
    "trading_data.sort_values([\"Instrument\", \"Date\"], ascending=True, inplace=True)\n",
    "\n",
    "trading_data[\"5Y Average Price\"] = trading_data.groupby(\n",
    "    \"Instrument\"\n",
    ").rolling(\n",
    "    \"1825d\",\n",
    "    on=\"Date\",\n",
    "    closed=\"neither\"\n",
    ")[\"Close Price\"].mean().to_numpy()\n",
    "\n",
    "trading_data[\"C2 - 5Y Average Price\"] = trading_data.groupby(\n",
    "    \"Instrument\"\n",
    ").rolling(\n",
    "    \"1825d\",\n",
    "    on=\"Date\",\n",
    "    closed=\"neither\"\n",
    ")[\"C2 - Close Price\"].mean().to_numpy()"
   ],
   "metadata": {
    "collapsed": false,
    "pycharm": {
     "name": "#%%\n"
    }
   }
  },
  {
   "cell_type": "code",
   "execution_count": 11,
   "outputs": [],
   "source": [
    "min_dates = trading_data.groupby(\"Instrument\").agg(\n",
    "    min_date = (\"Date\", \"min\")\n",
    ").reset_index()\n",
    "\n",
    "trading_data = trading_data.merge(min_dates, how=\"left\")\n",
    "\n",
    "trading_data[\"5Y Average Price\"] = trading_data[[\n",
    "    \"5Y Average Price\",\n",
    "    \"Date\",\n",
    "    \"min_date\"\n",
    "]].apply(\n",
    "    lambda x: x[0] if (x[1] - x[2]) / np.timedelta64(1, 'D') > 1825 else np.nan, axis=1\n",
    ")\n",
    "trading_data[\"C2 - 5Y Average Price\"] = trading_data[[\n",
    "    \"C2 - 5Y Average Price\",\n",
    "    \"Date\",\n",
    "    \"min_date\"\n",
    "]].apply(\n",
    "    lambda x: x[0] if (x[1] - x[2]) / np.timedelta64(1, 'D') > 1825 else np.nan, axis=1\n",
    ")"
   ],
   "metadata": {
    "collapsed": false,
    "pycharm": {
     "name": "#%%\n"
    }
   }
  },
  {
   "cell_type": "code",
   "execution_count": 12,
   "outputs": [
    {
     "data": {
      "text/plain": "       Instrument       Date  Year  Month  Day  Day of Week  Close Price  \\\n0               C 1992-01-03  1992      1    3            4       248.75   \n1               C 1992-01-06  1992      1    6            0       250.00   \n2               C 1992-01-07  1992      1    7            1       249.75   \n3               C 1992-01-08  1992      1    8            2       253.00   \n4               C 1992-01-09  1992      1    9            3       252.50   \n...           ...        ...   ...    ...  ...          ...          ...   \n166549          W 2021-12-27  2021     12   27            0       805.75   \n166550          W 2021-12-28  2021     12   28            1       784.00   \n166551          W 2021-12-29  2021     12   29            2       789.25   \n166552          W 2021-12-30  2021     12   30            3       780.50   \n166553          W 2021-12-31  2021     12   31            4       770.25   \n\n        Accumulated Volume  C2 - Close Price  C2 - Accumulated Volume  ...  \\\n0                  23080.0            254.25                   5508.0  ...   \n1                  20980.0            256.00                   4266.0  ...   \n2                  11869.0            256.00                   4310.0  ...   \n3                  18428.0            259.75                   4042.0  ...   \n4                  20440.0            259.25                   6553.0  ...   \n...                    ...               ...                      ...  ...   \n166549             52917.0            810.00                  12813.0  ...   \n166550             64228.0            789.50                  11353.0  ...   \n166551             78959.0            793.00                  11679.0  ...   \n166552             74145.0            783.50                  13878.0  ...   \n166553             82025.0            773.75                  11276.0  ...   \n\n        C4 - Daily Adjusted Return  C1 - C2 Carry  Instrument - Lag  \\\n0                        -0.006699       0.022111                KW   \n1                         0.005780       0.024000                 C   \n2                         0.001916       0.025025                 C   \n3                         0.009560       0.026680                 C   \n4                         0.001894       0.026733                 C   \n...                            ...            ...               ...   \n166549                   -0.005581       0.005275                 W   \n166550                   -0.022763       0.007015                 W   \n166551                    0.003510       0.004751                 W   \n166552                   -0.014308       0.003844                 W   \n166553                   -0.013226       0.004544                 W   \n\n        Date - Lag  C2 - Close Price - Lag  Close Price - Lag  \\\n0              NaN                     NaN                NaN   \n1       1992-01-03                  254.25             248.75   \n2       1992-01-06                  256.00             250.00   \n3       1992-01-07                  256.00             249.75   \n4       1992-01-08                  259.75             253.00   \n...            ...                     ...                ...   \n166549  2021-12-23                  819.00             815.25   \n166550  2021-12-27                  810.00             805.75   \n166551  2021-12-28                  789.50             784.00   \n166552  2021-12-29                  793.00             789.25   \n166553  2021-12-30                  783.50             780.50   \n\n        C1 - C2 Carry - Lag  5Y Average Price  C2 - 5Y Average Price  \\\n0                       NaN               NaN                    NaN   \n1                  0.022111               NaN                    NaN   \n2                  0.024000               NaN                    NaN   \n3                  0.025025               NaN                    NaN   \n4                  0.026680               NaN                    NaN   \n...                     ...               ...                    ...   \n166549             0.004600        534.847368             543.463563   \n166550             0.005275        535.171862             543.780972   \n166551             0.007015        535.475709             544.079352   \n166552             0.004751        535.681028             544.280744   \n166553             0.003844        535.878941             544.474131   \n\n         min_date  \n0      1992-01-03  \n1      1992-01-03  \n2      1992-01-03  \n3      1992-01-03  \n4      1992-01-03  \n...           ...  \n166549 1992-01-03  \n166550 1992-01-03  \n166551 1992-01-03  \n166552 1992-01-03  \n166553 1992-01-03  \n\n[166554 rows x 27 columns]",
      "text/html": "<div>\n<style scoped>\n    .dataframe tbody tr th:only-of-type {\n        vertical-align: middle;\n    }\n\n    .dataframe tbody tr th {\n        vertical-align: top;\n    }\n\n    .dataframe thead th {\n        text-align: right;\n    }\n</style>\n<table border=\"1\" class=\"dataframe\">\n  <thead>\n    <tr style=\"text-align: right;\">\n      <th></th>\n      <th>Instrument</th>\n      <th>Date</th>\n      <th>Year</th>\n      <th>Month</th>\n      <th>Day</th>\n      <th>Day of Week</th>\n      <th>Close Price</th>\n      <th>Accumulated Volume</th>\n      <th>C2 - Close Price</th>\n      <th>C2 - Accumulated Volume</th>\n      <th>...</th>\n      <th>C4 - Daily Adjusted Return</th>\n      <th>C1 - C2 Carry</th>\n      <th>Instrument - Lag</th>\n      <th>Date - Lag</th>\n      <th>C2 - Close Price - Lag</th>\n      <th>Close Price - Lag</th>\n      <th>C1 - C2 Carry - Lag</th>\n      <th>5Y Average Price</th>\n      <th>C2 - 5Y Average Price</th>\n      <th>min_date</th>\n    </tr>\n  </thead>\n  <tbody>\n    <tr>\n      <th>0</th>\n      <td>C</td>\n      <td>1992-01-03</td>\n      <td>1992</td>\n      <td>1</td>\n      <td>3</td>\n      <td>4</td>\n      <td>248.75</td>\n      <td>23080.0</td>\n      <td>254.25</td>\n      <td>5508.0</td>\n      <td>...</td>\n      <td>-0.006699</td>\n      <td>0.022111</td>\n      <td>KW</td>\n      <td>NaN</td>\n      <td>NaN</td>\n      <td>NaN</td>\n      <td>NaN</td>\n      <td>NaN</td>\n      <td>NaN</td>\n      <td>1992-01-03</td>\n    </tr>\n    <tr>\n      <th>1</th>\n      <td>C</td>\n      <td>1992-01-06</td>\n      <td>1992</td>\n      <td>1</td>\n      <td>6</td>\n      <td>0</td>\n      <td>250.00</td>\n      <td>20980.0</td>\n      <td>256.00</td>\n      <td>4266.0</td>\n      <td>...</td>\n      <td>0.005780</td>\n      <td>0.024000</td>\n      <td>C</td>\n      <td>1992-01-03</td>\n      <td>254.25</td>\n      <td>248.75</td>\n      <td>0.022111</td>\n      <td>NaN</td>\n      <td>NaN</td>\n      <td>1992-01-03</td>\n    </tr>\n    <tr>\n      <th>2</th>\n      <td>C</td>\n      <td>1992-01-07</td>\n      <td>1992</td>\n      <td>1</td>\n      <td>7</td>\n      <td>1</td>\n      <td>249.75</td>\n      <td>11869.0</td>\n      <td>256.00</td>\n      <td>4310.0</td>\n      <td>...</td>\n      <td>0.001916</td>\n      <td>0.025025</td>\n      <td>C</td>\n      <td>1992-01-06</td>\n      <td>256.00</td>\n      <td>250.00</td>\n      <td>0.024000</td>\n      <td>NaN</td>\n      <td>NaN</td>\n      <td>1992-01-03</td>\n    </tr>\n    <tr>\n      <th>3</th>\n      <td>C</td>\n      <td>1992-01-08</td>\n      <td>1992</td>\n      <td>1</td>\n      <td>8</td>\n      <td>2</td>\n      <td>253.00</td>\n      <td>18428.0</td>\n      <td>259.75</td>\n      <td>4042.0</td>\n      <td>...</td>\n      <td>0.009560</td>\n      <td>0.026680</td>\n      <td>C</td>\n      <td>1992-01-07</td>\n      <td>256.00</td>\n      <td>249.75</td>\n      <td>0.025025</td>\n      <td>NaN</td>\n      <td>NaN</td>\n      <td>1992-01-03</td>\n    </tr>\n    <tr>\n      <th>4</th>\n      <td>C</td>\n      <td>1992-01-09</td>\n      <td>1992</td>\n      <td>1</td>\n      <td>9</td>\n      <td>3</td>\n      <td>252.50</td>\n      <td>20440.0</td>\n      <td>259.25</td>\n      <td>6553.0</td>\n      <td>...</td>\n      <td>0.001894</td>\n      <td>0.026733</td>\n      <td>C</td>\n      <td>1992-01-08</td>\n      <td>259.75</td>\n      <td>253.00</td>\n      <td>0.026680</td>\n      <td>NaN</td>\n      <td>NaN</td>\n      <td>1992-01-03</td>\n    </tr>\n    <tr>\n      <th>...</th>\n      <td>...</td>\n      <td>...</td>\n      <td>...</td>\n      <td>...</td>\n      <td>...</td>\n      <td>...</td>\n      <td>...</td>\n      <td>...</td>\n      <td>...</td>\n      <td>...</td>\n      <td>...</td>\n      <td>...</td>\n      <td>...</td>\n      <td>...</td>\n      <td>...</td>\n      <td>...</td>\n      <td>...</td>\n      <td>...</td>\n      <td>...</td>\n      <td>...</td>\n      <td>...</td>\n    </tr>\n    <tr>\n      <th>166549</th>\n      <td>W</td>\n      <td>2021-12-27</td>\n      <td>2021</td>\n      <td>12</td>\n      <td>27</td>\n      <td>0</td>\n      <td>805.75</td>\n      <td>52917.0</td>\n      <td>810.00</td>\n      <td>12813.0</td>\n      <td>...</td>\n      <td>-0.005581</td>\n      <td>0.005275</td>\n      <td>W</td>\n      <td>2021-12-23</td>\n      <td>819.00</td>\n      <td>815.25</td>\n      <td>0.004600</td>\n      <td>534.847368</td>\n      <td>543.463563</td>\n      <td>1992-01-03</td>\n    </tr>\n    <tr>\n      <th>166550</th>\n      <td>W</td>\n      <td>2021-12-28</td>\n      <td>2021</td>\n      <td>12</td>\n      <td>28</td>\n      <td>1</td>\n      <td>784.00</td>\n      <td>64228.0</td>\n      <td>789.50</td>\n      <td>11353.0</td>\n      <td>...</td>\n      <td>-0.022763</td>\n      <td>0.007015</td>\n      <td>W</td>\n      <td>2021-12-27</td>\n      <td>810.00</td>\n      <td>805.75</td>\n      <td>0.005275</td>\n      <td>535.171862</td>\n      <td>543.780972</td>\n      <td>1992-01-03</td>\n    </tr>\n    <tr>\n      <th>166551</th>\n      <td>W</td>\n      <td>2021-12-29</td>\n      <td>2021</td>\n      <td>12</td>\n      <td>29</td>\n      <td>2</td>\n      <td>789.25</td>\n      <td>78959.0</td>\n      <td>793.00</td>\n      <td>11679.0</td>\n      <td>...</td>\n      <td>0.003510</td>\n      <td>0.004751</td>\n      <td>W</td>\n      <td>2021-12-28</td>\n      <td>789.50</td>\n      <td>784.00</td>\n      <td>0.007015</td>\n      <td>535.475709</td>\n      <td>544.079352</td>\n      <td>1992-01-03</td>\n    </tr>\n    <tr>\n      <th>166552</th>\n      <td>W</td>\n      <td>2021-12-30</td>\n      <td>2021</td>\n      <td>12</td>\n      <td>30</td>\n      <td>3</td>\n      <td>780.50</td>\n      <td>74145.0</td>\n      <td>783.50</td>\n      <td>13878.0</td>\n      <td>...</td>\n      <td>-0.014308</td>\n      <td>0.003844</td>\n      <td>W</td>\n      <td>2021-12-29</td>\n      <td>793.00</td>\n      <td>789.25</td>\n      <td>0.004751</td>\n      <td>535.681028</td>\n      <td>544.280744</td>\n      <td>1992-01-03</td>\n    </tr>\n    <tr>\n      <th>166553</th>\n      <td>W</td>\n      <td>2021-12-31</td>\n      <td>2021</td>\n      <td>12</td>\n      <td>31</td>\n      <td>4</td>\n      <td>770.25</td>\n      <td>82025.0</td>\n      <td>773.75</td>\n      <td>11276.0</td>\n      <td>...</td>\n      <td>-0.013226</td>\n      <td>0.004544</td>\n      <td>W</td>\n      <td>2021-12-30</td>\n      <td>783.50</td>\n      <td>780.50</td>\n      <td>0.003844</td>\n      <td>535.878941</td>\n      <td>544.474131</td>\n      <td>1992-01-03</td>\n    </tr>\n  </tbody>\n</table>\n<p>166554 rows × 27 columns</p>\n</div>"
     },
     "execution_count": 12,
     "metadata": {},
     "output_type": "execute_result"
    }
   ],
   "source": [
    "trading_data"
   ],
   "metadata": {
    "collapsed": false,
    "pycharm": {
     "name": "#%%\n"
    }
   }
  },
  {
   "cell_type": "markdown",
   "source": [
    "We trade on the first available trading day of every month"
   ],
   "metadata": {
    "collapsed": false
   }
  },
  {
   "cell_type": "code",
   "execution_count": 13,
   "outputs": [],
   "source": [
    "trading_data[\"Daily Adjusted Return\"] += 1\n",
    "trading_data[\"C2 - Daily Adjusted Return\"] += 1\n",
    "trading_data[\"C3 - Daily Adjusted Return\"] += 1\n",
    "trading_data[\"C4 - Daily Adjusted Return\"] += 1"
   ],
   "metadata": {
    "collapsed": false,
    "pycharm": {
     "name": "#%%\n"
    }
   }
  },
  {
   "cell_type": "code",
   "execution_count": 14,
   "outputs": [],
   "source": [
    "backtest_data = trading_data.sort_values(\n",
    "    by=\"Date\",\n",
    "    ascending=True\n",
    ").groupby([\n",
    "    \"Instrument\", \"Year\", \"Month\"\n",
    "]).agg(\n",
    "    Day = (\"Day\", \"first\"),\n",
    "    date = (\"Date\", \"first\"),\n",
    "    c2_close_price_lag = (\"C2 - Close Price - Lag\", \"first\"),\n",
    "    c1_c2_carry_signal = (\"C1 - C2 Carry - Lag\", \"first\"),\n",
    "    adj_monthly_return = (\"Daily Adjusted Return\", \"prod\"),\n",
    "    c2_adj_monthly_return = (\"C2 - Daily Adjusted Return\", \"prod\"),\n",
    "    adj_monthly_var = (\"Daily Adjusted Return\", np.std),\n",
    "    c2_adj_monthly_var = (\"C2 - Daily Adjusted Return\", np.std),\n",
    "    c2_y5_mean_price = (\"C2 - 5Y Average Price\", \"first\")\n",
    ").reset_index()"
   ],
   "metadata": {
    "collapsed": false,
    "pycharm": {
     "name": "#%%\n"
    }
   }
  },
  {
   "cell_type": "code",
   "execution_count": 15,
   "outputs": [],
   "source": [
    "backtest_data[\"c2_momentum_signal\"] = (backtest_data.groupby(\"Instrument\").c2_adj_monthly_return.shift(1) - 1) / backtest_data.groupby(\"Instrument\").c2_adj_monthly_var.shift(1)\n",
    "\n",
    "backtest_data[\"c2_value_signal\"] = backtest_data[\"c2_close_price_lag\"] / backtest_data[\"c2_y5_mean_price\"]\n",
    "\n",
    "# We only drop NA values for carry & signal now as dropping value would incur a hefty loss in the amount of data\n",
    "backtest_data.dropna(\n",
    "    subset=[\n",
    "        \"c1_c2_carry_signal\",\n",
    "        \"c2_momentum_signal\"\n",
    "    ],\n",
    "    inplace=True\n",
    ")\n",
    "\n",
    "# Next we drop columns that are not needed for the backtests to keep a simple dataset\n",
    "backtest_data.drop(\n",
    "    columns=[\n",
    "        \"c2_close_price_lag\",\n",
    "        \"c2_y5_mean_price\"\n",
    "    ],\n",
    "    inplace=True\n",
    ")"
   ],
   "metadata": {
    "collapsed": false,
    "pycharm": {
     "name": "#%%\n"
    }
   }
  },
  {
   "cell_type": "code",
   "execution_count": 16,
   "outputs": [
    {
     "data": {
      "text/plain": "     Instrument  Year  Month  Day       date  c1_c2_carry_signal  \\\n1             C  1992      2    3 1992-02-03            0.023674   \n2             C  1992      3    2 1992-03-02            0.034939   \n3             C  1992      4    1 1992-04-01            0.019886   \n4             C  1992      5    1 1992-05-01            0.024615   \n5             C  1992      6    1 1992-06-01            0.017341   \n...         ...   ...    ...  ...        ...                 ...   \n8391          W  2021      8    2 2021-08-02            0.013149   \n8392          W  2021      9    1 2021-09-01            0.024407   \n8393          W  2021     10    1 2021-10-01            0.014812   \n8394          W  2021     11    1 2021-11-01            0.015524   \n8395          W  2021     12    1 2021-12-01            0.016742   \n\n      adj_monthly_return  c2_adj_monthly_return  adj_monthly_var  \\\n1               1.002841               1.013876         0.010022   \n2               1.020887               1.004501         0.007213   \n3               0.923295               0.927577         0.008083   \n4               1.054299               1.052023         0.012753   \n5               0.957611               0.959280         0.013771   \n...                  ...                    ...              ...   \n8391            1.004620               1.015784         0.017681   \n8392            0.977518               0.975809         0.012899   \n8393            1.065105               1.065852         0.014990   \n8394            1.004528               1.005732         0.018993   \n8395            1.002834               0.986977         0.014627   \n\n      c2_adj_monthly_var  c2_momentum_signal  c2_value_signal  \n1               0.011309            7.237623              NaN  \n2               0.007605            1.226960              NaN  \n3               0.008303            0.591895              NaN  \n4               0.011620           -8.722805              NaN  \n5               0.014253            4.476899              NaN  \n...                  ...                 ...              ...  \n8391            0.017467           -5.226479         1.382659  \n8392            0.012722            0.903645         1.389423  \n8393            0.014640           -1.901552         1.400500  \n8394            0.018696            4.498064         1.476571  \n8395            0.014845            0.306614         1.466286  \n\n[8147 rows x 12 columns]",
      "text/html": "<div>\n<style scoped>\n    .dataframe tbody tr th:only-of-type {\n        vertical-align: middle;\n    }\n\n    .dataframe tbody tr th {\n        vertical-align: top;\n    }\n\n    .dataframe thead th {\n        text-align: right;\n    }\n</style>\n<table border=\"1\" class=\"dataframe\">\n  <thead>\n    <tr style=\"text-align: right;\">\n      <th></th>\n      <th>Instrument</th>\n      <th>Year</th>\n      <th>Month</th>\n      <th>Day</th>\n      <th>date</th>\n      <th>c1_c2_carry_signal</th>\n      <th>adj_monthly_return</th>\n      <th>c2_adj_monthly_return</th>\n      <th>adj_monthly_var</th>\n      <th>c2_adj_monthly_var</th>\n      <th>c2_momentum_signal</th>\n      <th>c2_value_signal</th>\n    </tr>\n  </thead>\n  <tbody>\n    <tr>\n      <th>1</th>\n      <td>C</td>\n      <td>1992</td>\n      <td>2</td>\n      <td>3</td>\n      <td>1992-02-03</td>\n      <td>0.023674</td>\n      <td>1.002841</td>\n      <td>1.013876</td>\n      <td>0.010022</td>\n      <td>0.011309</td>\n      <td>7.237623</td>\n      <td>NaN</td>\n    </tr>\n    <tr>\n      <th>2</th>\n      <td>C</td>\n      <td>1992</td>\n      <td>3</td>\n      <td>2</td>\n      <td>1992-03-02</td>\n      <td>0.034939</td>\n      <td>1.020887</td>\n      <td>1.004501</td>\n      <td>0.007213</td>\n      <td>0.007605</td>\n      <td>1.226960</td>\n      <td>NaN</td>\n    </tr>\n    <tr>\n      <th>3</th>\n      <td>C</td>\n      <td>1992</td>\n      <td>4</td>\n      <td>1</td>\n      <td>1992-04-01</td>\n      <td>0.019886</td>\n      <td>0.923295</td>\n      <td>0.927577</td>\n      <td>0.008083</td>\n      <td>0.008303</td>\n      <td>0.591895</td>\n      <td>NaN</td>\n    </tr>\n    <tr>\n      <th>4</th>\n      <td>C</td>\n      <td>1992</td>\n      <td>5</td>\n      <td>1</td>\n      <td>1992-05-01</td>\n      <td>0.024615</td>\n      <td>1.054299</td>\n      <td>1.052023</td>\n      <td>0.012753</td>\n      <td>0.011620</td>\n      <td>-8.722805</td>\n      <td>NaN</td>\n    </tr>\n    <tr>\n      <th>5</th>\n      <td>C</td>\n      <td>1992</td>\n      <td>6</td>\n      <td>1</td>\n      <td>1992-06-01</td>\n      <td>0.017341</td>\n      <td>0.957611</td>\n      <td>0.959280</td>\n      <td>0.013771</td>\n      <td>0.014253</td>\n      <td>4.476899</td>\n      <td>NaN</td>\n    </tr>\n    <tr>\n      <th>...</th>\n      <td>...</td>\n      <td>...</td>\n      <td>...</td>\n      <td>...</td>\n      <td>...</td>\n      <td>...</td>\n      <td>...</td>\n      <td>...</td>\n      <td>...</td>\n      <td>...</td>\n      <td>...</td>\n      <td>...</td>\n    </tr>\n    <tr>\n      <th>8391</th>\n      <td>W</td>\n      <td>2021</td>\n      <td>8</td>\n      <td>2</td>\n      <td>2021-08-02</td>\n      <td>0.013149</td>\n      <td>1.004620</td>\n      <td>1.015784</td>\n      <td>0.017681</td>\n      <td>0.017467</td>\n      <td>-5.226479</td>\n      <td>1.382659</td>\n    </tr>\n    <tr>\n      <th>8392</th>\n      <td>W</td>\n      <td>2021</td>\n      <td>9</td>\n      <td>1</td>\n      <td>2021-09-01</td>\n      <td>0.024407</td>\n      <td>0.977518</td>\n      <td>0.975809</td>\n      <td>0.012899</td>\n      <td>0.012722</td>\n      <td>0.903645</td>\n      <td>1.389423</td>\n    </tr>\n    <tr>\n      <th>8393</th>\n      <td>W</td>\n      <td>2021</td>\n      <td>10</td>\n      <td>1</td>\n      <td>2021-10-01</td>\n      <td>0.014812</td>\n      <td>1.065105</td>\n      <td>1.065852</td>\n      <td>0.014990</td>\n      <td>0.014640</td>\n      <td>-1.901552</td>\n      <td>1.400500</td>\n    </tr>\n    <tr>\n      <th>8394</th>\n      <td>W</td>\n      <td>2021</td>\n      <td>11</td>\n      <td>1</td>\n      <td>2021-11-01</td>\n      <td>0.015524</td>\n      <td>1.004528</td>\n      <td>1.005732</td>\n      <td>0.018993</td>\n      <td>0.018696</td>\n      <td>4.498064</td>\n      <td>1.476571</td>\n    </tr>\n    <tr>\n      <th>8395</th>\n      <td>W</td>\n      <td>2021</td>\n      <td>12</td>\n      <td>1</td>\n      <td>2021-12-01</td>\n      <td>0.016742</td>\n      <td>1.002834</td>\n      <td>0.986977</td>\n      <td>0.014627</td>\n      <td>0.014845</td>\n      <td>0.306614</td>\n      <td>1.466286</td>\n    </tr>\n  </tbody>\n</table>\n<p>8147 rows × 12 columns</p>\n</div>"
     },
     "execution_count": 16,
     "metadata": {},
     "output_type": "execute_result"
    }
   ],
   "source": [
    "backtest_data"
   ],
   "metadata": {
    "collapsed": false,
    "pycharm": {
     "name": "#%%\n"
    }
   }
  },
  {
   "cell_type": "markdown",
   "source": [
    "## Carry Strategies"
   ],
   "metadata": {
    "collapsed": false
   }
  },
  {
   "cell_type": "markdown",
   "source": [
    "Rank the carries for each month so we can get the top & bottom percentiles"
   ],
   "metadata": {
    "collapsed": false
   }
  },
  {
   "cell_type": "code",
   "execution_count": 17,
   "outputs": [],
   "source": [
    "backtest_data[\"Carry Rank\"] = backtest_data.groupby([\"Year\", \"Month\"])[\"c1_c2_carry_signal\"].rank(\"average\", ascending=True,pct=True )"
   ],
   "metadata": {
    "collapsed": false,
    "pycharm": {
     "name": "#%%\n"
    }
   }
  },
  {
   "cell_type": "code",
   "execution_count": 18,
   "outputs": [
    {
     "data": {
      "text/plain": "     Instrument  Year  Month  Day       date  c1_c2_carry_signal  \\\n1             C  1992      2    3 1992-02-03            0.023674   \n2             C  1992      3    2 1992-03-02            0.034939   \n3             C  1992      4    1 1992-04-01            0.019886   \n4             C  1992      5    1 1992-05-01            0.024615   \n5             C  1992      6    1 1992-06-01            0.017341   \n...         ...   ...    ...  ...        ...                 ...   \n8391          W  2021      8    2 2021-08-02            0.013149   \n8392          W  2021      9    1 2021-09-01            0.024407   \n8393          W  2021     10    1 2021-10-01            0.014812   \n8394          W  2021     11    1 2021-11-01            0.015524   \n8395          W  2021     12    1 2021-12-01            0.016742   \n\n      adj_monthly_return  c2_adj_monthly_return  adj_monthly_var  \\\n1               1.002841               1.013876         0.010022   \n2               1.020887               1.004501         0.007213   \n3               0.923295               0.927577         0.008083   \n4               1.054299               1.052023         0.012753   \n5               0.957611               0.959280         0.013771   \n...                  ...                    ...              ...   \n8391            1.004620               1.015784         0.017681   \n8392            0.977518               0.975809         0.012899   \n8393            1.065105               1.065852         0.014990   \n8394            1.004528               1.005732         0.018993   \n8395            1.002834               0.986977         0.014627   \n\n      c2_adj_monthly_var  c2_momentum_signal  c2_value_signal  Carry Rank  \n1               0.011309            7.237623              NaN    0.842105  \n2               0.007605            1.226960              NaN    0.894737  \n3               0.008303            0.591895              NaN    0.789474  \n4               0.011620           -8.722805              NaN    0.950000  \n5               0.014253            4.476899              NaN    0.842105  \n...                  ...                 ...              ...         ...  \n8391            0.017467           -5.226479         1.382659    0.703704  \n8392            0.012722            0.903645         1.389423    0.851852  \n8393            0.014640           -1.901552         1.400500    0.851852  \n8394            0.018696            4.498064         1.476571    0.851852  \n8395            0.014845            0.306614         1.466286    0.962963  \n\n[8147 rows x 13 columns]",
      "text/html": "<div>\n<style scoped>\n    .dataframe tbody tr th:only-of-type {\n        vertical-align: middle;\n    }\n\n    .dataframe tbody tr th {\n        vertical-align: top;\n    }\n\n    .dataframe thead th {\n        text-align: right;\n    }\n</style>\n<table border=\"1\" class=\"dataframe\">\n  <thead>\n    <tr style=\"text-align: right;\">\n      <th></th>\n      <th>Instrument</th>\n      <th>Year</th>\n      <th>Month</th>\n      <th>Day</th>\n      <th>date</th>\n      <th>c1_c2_carry_signal</th>\n      <th>adj_monthly_return</th>\n      <th>c2_adj_monthly_return</th>\n      <th>adj_monthly_var</th>\n      <th>c2_adj_monthly_var</th>\n      <th>c2_momentum_signal</th>\n      <th>c2_value_signal</th>\n      <th>Carry Rank</th>\n    </tr>\n  </thead>\n  <tbody>\n    <tr>\n      <th>1</th>\n      <td>C</td>\n      <td>1992</td>\n      <td>2</td>\n      <td>3</td>\n      <td>1992-02-03</td>\n      <td>0.023674</td>\n      <td>1.002841</td>\n      <td>1.013876</td>\n      <td>0.010022</td>\n      <td>0.011309</td>\n      <td>7.237623</td>\n      <td>NaN</td>\n      <td>0.842105</td>\n    </tr>\n    <tr>\n      <th>2</th>\n      <td>C</td>\n      <td>1992</td>\n      <td>3</td>\n      <td>2</td>\n      <td>1992-03-02</td>\n      <td>0.034939</td>\n      <td>1.020887</td>\n      <td>1.004501</td>\n      <td>0.007213</td>\n      <td>0.007605</td>\n      <td>1.226960</td>\n      <td>NaN</td>\n      <td>0.894737</td>\n    </tr>\n    <tr>\n      <th>3</th>\n      <td>C</td>\n      <td>1992</td>\n      <td>4</td>\n      <td>1</td>\n      <td>1992-04-01</td>\n      <td>0.019886</td>\n      <td>0.923295</td>\n      <td>0.927577</td>\n      <td>0.008083</td>\n      <td>0.008303</td>\n      <td>0.591895</td>\n      <td>NaN</td>\n      <td>0.789474</td>\n    </tr>\n    <tr>\n      <th>4</th>\n      <td>C</td>\n      <td>1992</td>\n      <td>5</td>\n      <td>1</td>\n      <td>1992-05-01</td>\n      <td>0.024615</td>\n      <td>1.054299</td>\n      <td>1.052023</td>\n      <td>0.012753</td>\n      <td>0.011620</td>\n      <td>-8.722805</td>\n      <td>NaN</td>\n      <td>0.950000</td>\n    </tr>\n    <tr>\n      <th>5</th>\n      <td>C</td>\n      <td>1992</td>\n      <td>6</td>\n      <td>1</td>\n      <td>1992-06-01</td>\n      <td>0.017341</td>\n      <td>0.957611</td>\n      <td>0.959280</td>\n      <td>0.013771</td>\n      <td>0.014253</td>\n      <td>4.476899</td>\n      <td>NaN</td>\n      <td>0.842105</td>\n    </tr>\n    <tr>\n      <th>...</th>\n      <td>...</td>\n      <td>...</td>\n      <td>...</td>\n      <td>...</td>\n      <td>...</td>\n      <td>...</td>\n      <td>...</td>\n      <td>...</td>\n      <td>...</td>\n      <td>...</td>\n      <td>...</td>\n      <td>...</td>\n      <td>...</td>\n    </tr>\n    <tr>\n      <th>8391</th>\n      <td>W</td>\n      <td>2021</td>\n      <td>8</td>\n      <td>2</td>\n      <td>2021-08-02</td>\n      <td>0.013149</td>\n      <td>1.004620</td>\n      <td>1.015784</td>\n      <td>0.017681</td>\n      <td>0.017467</td>\n      <td>-5.226479</td>\n      <td>1.382659</td>\n      <td>0.703704</td>\n    </tr>\n    <tr>\n      <th>8392</th>\n      <td>W</td>\n      <td>2021</td>\n      <td>9</td>\n      <td>1</td>\n      <td>2021-09-01</td>\n      <td>0.024407</td>\n      <td>0.977518</td>\n      <td>0.975809</td>\n      <td>0.012899</td>\n      <td>0.012722</td>\n      <td>0.903645</td>\n      <td>1.389423</td>\n      <td>0.851852</td>\n    </tr>\n    <tr>\n      <th>8393</th>\n      <td>W</td>\n      <td>2021</td>\n      <td>10</td>\n      <td>1</td>\n      <td>2021-10-01</td>\n      <td>0.014812</td>\n      <td>1.065105</td>\n      <td>1.065852</td>\n      <td>0.014990</td>\n      <td>0.014640</td>\n      <td>-1.901552</td>\n      <td>1.400500</td>\n      <td>0.851852</td>\n    </tr>\n    <tr>\n      <th>8394</th>\n      <td>W</td>\n      <td>2021</td>\n      <td>11</td>\n      <td>1</td>\n      <td>2021-11-01</td>\n      <td>0.015524</td>\n      <td>1.004528</td>\n      <td>1.005732</td>\n      <td>0.018993</td>\n      <td>0.018696</td>\n      <td>4.498064</td>\n      <td>1.476571</td>\n      <td>0.851852</td>\n    </tr>\n    <tr>\n      <th>8395</th>\n      <td>W</td>\n      <td>2021</td>\n      <td>12</td>\n      <td>1</td>\n      <td>2021-12-01</td>\n      <td>0.016742</td>\n      <td>1.002834</td>\n      <td>0.986977</td>\n      <td>0.014627</td>\n      <td>0.014845</td>\n      <td>0.306614</td>\n      <td>1.466286</td>\n      <td>0.962963</td>\n    </tr>\n  </tbody>\n</table>\n<p>8147 rows × 13 columns</p>\n</div>"
     },
     "execution_count": 18,
     "metadata": {},
     "output_type": "execute_result"
    }
   ],
   "source": [
    "backtest_data"
   ],
   "metadata": {
    "collapsed": false,
    "pycharm": {
     "name": "#%%\n"
    }
   }
  },
  {
   "cell_type": "code",
   "execution_count": 19,
   "outputs": [
    {
     "data": {
      "text/plain": "-0.9997328415248407"
     },
     "execution_count": 19,
     "metadata": {},
     "output_type": "execute_result"
    }
   ],
   "source": [
    "backtest_data[backtest_data[\"Carry Rank\"] >= 2/3].c2_adj_monthly_return.product() - 1"
   ],
   "metadata": {
    "collapsed": false,
    "pycharm": {
     "name": "#%%\n"
    }
   }
  },
  {
   "cell_type": "code",
   "execution_count": 20,
   "outputs": [
    {
     "data": {
      "text/plain": "98.01745021846428"
     },
     "execution_count": 20,
     "metadata": {},
     "output_type": "execute_result"
    }
   ],
   "source": [
    "backtest_data[backtest_data[\"Carry Rank\"] <= 1/3].c2_adj_monthly_return.product() - 1"
   ],
   "metadata": {
    "collapsed": false,
    "pycharm": {
     "name": "#%%\n"
    }
   }
  },
  {
   "cell_type": "markdown",
   "source": [
    "Positive Carry Test"
   ],
   "metadata": {
    "collapsed": false
   }
  },
  {
   "cell_type": "code",
   "execution_count": 21,
   "outputs": [],
   "source": [
    "positive_carry_test = backtest_data[\n",
    "    backtest_data[\"Carry Rank\"] >= 2/3\n",
    "].groupby([\"Year\", \"Month\"]).agg(y = (\"c2_adj_monthly_return\", \"mean\")).reset_index()"
   ],
   "metadata": {
    "collapsed": false,
    "pycharm": {
     "name": "#%%\n"
    }
   }
  },
  {
   "cell_type": "code",
   "execution_count": 22,
   "outputs": [],
   "source": [
    "positive_carry_test[\"x\"] = positive_carry_test[\"Year\"] + (positive_carry_test[\"Month\"] - 1) / 12"
   ],
   "metadata": {
    "collapsed": false,
    "pycharm": {
     "name": "#%%\n"
    }
   }
  },
  {
   "cell_type": "code",
   "execution_count": 23,
   "outputs": [
    {
     "data": {
      "text/plain": "               x         y\n0    1992.083333  0.970561\n1    1992.166667  1.008021\n2    1992.250000  0.977645\n3    1992.333333  1.007000\n4    1992.416667  0.994948\n..           ...       ...\n354  2021.583333  1.045636\n355  2021.666667  0.974312\n356  2021.750000  1.026724\n357  2021.833333  1.009064\n358  2021.916667  1.021221\n\n[359 rows x 2 columns]",
      "text/html": "<div>\n<style scoped>\n    .dataframe tbody tr th:only-of-type {\n        vertical-align: middle;\n    }\n\n    .dataframe tbody tr th {\n        vertical-align: top;\n    }\n\n    .dataframe thead th {\n        text-align: right;\n    }\n</style>\n<table border=\"1\" class=\"dataframe\">\n  <thead>\n    <tr style=\"text-align: right;\">\n      <th></th>\n      <th>x</th>\n      <th>y</th>\n    </tr>\n  </thead>\n  <tbody>\n    <tr>\n      <th>0</th>\n      <td>1992.083333</td>\n      <td>0.970561</td>\n    </tr>\n    <tr>\n      <th>1</th>\n      <td>1992.166667</td>\n      <td>1.008021</td>\n    </tr>\n    <tr>\n      <th>2</th>\n      <td>1992.250000</td>\n      <td>0.977645</td>\n    </tr>\n    <tr>\n      <th>3</th>\n      <td>1992.333333</td>\n      <td>1.007000</td>\n    </tr>\n    <tr>\n      <th>4</th>\n      <td>1992.416667</td>\n      <td>0.994948</td>\n    </tr>\n    <tr>\n      <th>...</th>\n      <td>...</td>\n      <td>...</td>\n    </tr>\n    <tr>\n      <th>354</th>\n      <td>2021.583333</td>\n      <td>1.045636</td>\n    </tr>\n    <tr>\n      <th>355</th>\n      <td>2021.666667</td>\n      <td>0.974312</td>\n    </tr>\n    <tr>\n      <th>356</th>\n      <td>2021.750000</td>\n      <td>1.026724</td>\n    </tr>\n    <tr>\n      <th>357</th>\n      <td>2021.833333</td>\n      <td>1.009064</td>\n    </tr>\n    <tr>\n      <th>358</th>\n      <td>2021.916667</td>\n      <td>1.021221</td>\n    </tr>\n  </tbody>\n</table>\n<p>359 rows × 2 columns</p>\n</div>"
     },
     "execution_count": 23,
     "metadata": {},
     "output_type": "execute_result"
    }
   ],
   "source": [
    "positive_carry_test[[\"x\", \"y\"]]"
   ],
   "metadata": {
    "collapsed": false,
    "pycharm": {
     "name": "#%%\n"
    }
   }
  },
  {
   "cell_type": "code",
   "execution_count": 24,
   "outputs": [],
   "source": [
    "positive_carry_test[\"y_cum\"] = (2 - positive_carry_test[\"y\"]).cumprod()"
   ],
   "metadata": {
    "collapsed": false,
    "pycharm": {
     "name": "#%%\n"
    }
   }
  },
  {
   "cell_type": "code",
   "execution_count": 25,
   "outputs": [
    {
     "data": {
      "text/plain": "<matplotlib.axes._subplots.AxesSubplot at 0x26282e3f388>"
     },
     "execution_count": 25,
     "metadata": {},
     "output_type": "execute_result"
    }
   ],
   "source": [
    "positive_carry_test.plot.line(x=\"x\", y=\"y_cum\")"
   ],
   "metadata": {
    "collapsed": false,
    "pycharm": {
     "name": "#%%\n"
    }
   }
  },
  {
   "cell_type": "code",
   "execution_count": 26,
   "outputs": [
    {
     "data": {
      "text/plain": "                y\ncount  359.000000\nmean     1.000549\nstd      0.038419\nmin      0.854508\n25%      0.977397\n50%      1.003409\n75%      1.023405\nmax      1.133004",
      "text/html": "<div>\n<style scoped>\n    .dataframe tbody tr th:only-of-type {\n        vertical-align: middle;\n    }\n\n    .dataframe tbody tr th {\n        vertical-align: top;\n    }\n\n    .dataframe thead th {\n        text-align: right;\n    }\n</style>\n<table border=\"1\" class=\"dataframe\">\n  <thead>\n    <tr style=\"text-align: right;\">\n      <th></th>\n      <th>y</th>\n    </tr>\n  </thead>\n  <tbody>\n    <tr>\n      <th>count</th>\n      <td>359.000000</td>\n    </tr>\n    <tr>\n      <th>mean</th>\n      <td>1.000549</td>\n    </tr>\n    <tr>\n      <th>std</th>\n      <td>0.038419</td>\n    </tr>\n    <tr>\n      <th>min</th>\n      <td>0.854508</td>\n    </tr>\n    <tr>\n      <th>25%</th>\n      <td>0.977397</td>\n    </tr>\n    <tr>\n      <th>50%</th>\n      <td>1.003409</td>\n    </tr>\n    <tr>\n      <th>75%</th>\n      <td>1.023405</td>\n    </tr>\n    <tr>\n      <th>max</th>\n      <td>1.133004</td>\n    </tr>\n  </tbody>\n</table>\n</div>"
     },
     "execution_count": 26,
     "metadata": {},
     "output_type": "execute_result"
    }
   ],
   "source": [
    "positive_carry_test[[\"y\"]].describe()"
   ],
   "metadata": {
    "collapsed": false,
    "pycharm": {
     "name": "#%%\n"
    }
   }
  },
  {
   "cell_type": "code",
   "execution_count": 27,
   "outputs": [
    {
     "data": {
      "text/plain": "<matplotlib.axes._subplots.AxesSubplot at 0x26283a09408>"
     },
     "execution_count": 27,
     "metadata": {},
     "output_type": "execute_result"
    },
    {
     "data": {
      "text/plain": "<Figure size 432x288 with 1 Axes>",
      "image/png": "[encoded data removed]"
     },
     "metadata": {
      "needs_background": "light"
     },
     "output_type": "display_data"
    }
   ],
   "source": [
    "positive_carry_test[\"y\"].hist()"
   ],
   "metadata": {
    "collapsed": false,
    "pycharm": {
     "name": "#%%\n"
    }
   }
  },
  {
   "cell_type": "markdown",
   "source": [
    "Negative Carry Test"
   ],
   "metadata": {
    "collapsed": false
   }
  },
  {
   "cell_type": "code",
   "execution_count": 28,
   "outputs": [],
   "source": [
    "negative_carry_test = backtest_data[(backtest_data[\"Carry Rank\"] <= 1/3)].groupby([\"Year\", \"Month\"]).agg(y = (\"c2_adj_monthly_return\", \"mean\")).reset_index()"
   ],
   "metadata": {
    "collapsed": false,
    "pycharm": {
     "name": "#%%\n"
    }
   }
  },
  {
   "cell_type": "code",
   "execution_count": 29,
   "outputs": [],
   "source": [
    "negative_carry_test[\"x\"] = negative_carry_test[\"Year\"] + (negative_carry_test[\"Month\"] - 1) / 12"
   ],
   "metadata": {
    "collapsed": false,
    "pycharm": {
     "name": "#%%\n"
    }
   }
  },
  {
   "cell_type": "code",
   "execution_count": 30,
   "outputs": [
    {
     "data": {
      "text/plain": "               x         y\n0    1992.083333  0.999899\n1    1992.166667  0.992977\n2    1992.250000  0.986872\n3    1992.333333  1.044906\n4    1992.416667  1.010671\n..           ...       ...\n354  2021.583333  0.980413\n355  2021.666667  1.041894\n356  2021.750000  1.005262\n357  2021.833333  0.955206\n358  2021.916667  1.054872\n\n[359 rows x 2 columns]",
      "text/html": "<div>\n<style scoped>\n    .dataframe tbody tr th:only-of-type {\n        vertical-align: middle;\n    }\n\n    .dataframe tbody tr th {\n        vertical-align: top;\n    }\n\n    .dataframe thead th {\n        text-align: right;\n    }\n</style>\n<table border=\"1\" class=\"dataframe\">\n  <thead>\n    <tr style=\"text-align: right;\">\n      <th></th>\n      <th>x</th>\n      <th>y</th>\n    </tr>\n  </thead>\n  <tbody>\n    <tr>\n      <th>0</th>\n      <td>1992.083333</td>\n      <td>0.999899</td>\n    </tr>\n    <tr>\n      <th>1</th>\n      <td>1992.166667</td>\n      <td>0.992977</td>\n    </tr>\n    <tr>\n      <th>2</th>\n      <td>1992.250000</td>\n      <td>0.986872</td>\n    </tr>\n    <tr>\n      <th>3</th>\n      <td>1992.333333</td>\n      <td>1.044906</td>\n    </tr>\n    <tr>\n      <th>4</th>\n      <td>1992.416667</td>\n      <td>1.010671</td>\n    </tr>\n    <tr>\n      <th>...</th>\n      <td>...</td>\n      <td>...</td>\n    </tr>\n    <tr>\n      <th>354</th>\n      <td>2021.583333</td>\n      <td>0.980413</td>\n    </tr>\n    <tr>\n      <th>355</th>\n      <td>2021.666667</td>\n      <td>1.041894</td>\n    </tr>\n    <tr>\n      <th>356</th>\n      <td>2021.750000</td>\n      <td>1.005262</td>\n    </tr>\n    <tr>\n      <th>357</th>\n      <td>2021.833333</td>\n      <td>0.955206</td>\n    </tr>\n    <tr>\n      <th>358</th>\n      <td>2021.916667</td>\n      <td>1.054872</td>\n    </tr>\n  </tbody>\n</table>\n<p>359 rows × 2 columns</p>\n</div>"
     },
     "execution_count": 30,
     "metadata": {},
     "output_type": "execute_result"
    }
   ],
   "source": [
    "negative_carry_test[[\"x\", \"y\"]]"
   ],
   "metadata": {
    "collapsed": false,
    "pycharm": {
     "name": "#%%\n"
    }
   }
  },
  {
   "cell_type": "code",
   "execution_count": 31,
   "outputs": [],
   "source": [
    "negative_carry_test[\"y_cum\"] = negative_carry_test[\"y\"].cumprod()"
   ],
   "metadata": {
    "collapsed": false,
    "pycharm": {
     "name": "#%%\n"
    }
   }
  },
  {
   "cell_type": "code",
   "execution_count": 32,
   "outputs": [
    {
     "data": {
      "text/plain": "<matplotlib.axes._subplots.AxesSubplot at 0x26283c901c8>"
     },
     "execution_count": 32,
     "metadata": {},
     "output_type": "execute_result"
    },
    {
     "data": {
      "text/plain": "<Figure size 432x288 with 1 Axes>",
      "image/png": "[encoded data removed]"
     },
     "metadata": {
      "needs_background": "light"
     },
     "output_type": "display_data"
    }
   ],
   "source": [
    "negative_carry_test.plot.line(x=\"x\", y=\"y_cum\")"
   ],
   "metadata": {
    "collapsed": false,
    "pycharm": {
     "name": "#%%\n"
    }
   }
  },
  {
   "cell_type": "code",
   "execution_count": 33,
   "outputs": [
    {
     "data": {
      "text/plain": "                y\ncount  359.000000\nmean     1.004411\nstd      0.038589\nmin      0.810273\n25%      0.979342\n50%      1.000758\n75%      1.027921\nmax      1.117043",
      "text/html": "<div>\n<style scoped>\n    .dataframe tbody tr th:only-of-type {\n        vertical-align: middle;\n    }\n\n    .dataframe tbody tr th {\n        vertical-align: top;\n    }\n\n    .dataframe thead th {\n        text-align: right;\n    }\n</style>\n<table border=\"1\" class=\"dataframe\">\n  <thead>\n    <tr style=\"text-align: right;\">\n      <th></th>\n      <th>y</th>\n    </tr>\n  </thead>\n  <tbody>\n    <tr>\n      <th>count</th>\n      <td>359.000000</td>\n    </tr>\n    <tr>\n      <th>mean</th>\n      <td>1.004411</td>\n    </tr>\n    <tr>\n      <th>std</th>\n      <td>0.038589</td>\n    </tr>\n    <tr>\n      <th>min</th>\n      <td>0.810273</td>\n    </tr>\n    <tr>\n      <th>25%</th>\n      <td>0.979342</td>\n    </tr>\n    <tr>\n      <th>50%</th>\n      <td>1.000758</td>\n    </tr>\n    <tr>\n      <th>75%</th>\n      <td>1.027921</td>\n    </tr>\n    <tr>\n      <th>max</th>\n      <td>1.117043</td>\n    </tr>\n  </tbody>\n</table>\n</div>"
     },
     "execution_count": 33,
     "metadata": {},
     "output_type": "execute_result"
    }
   ],
   "source": [
    "negative_carry_test[[\"y\"]].describe()"
   ],
   "metadata": {
    "collapsed": false,
    "pycharm": {
     "name": "#%%\n"
    }
   }
  },
  {
   "cell_type": "code",
   "execution_count": 34,
   "outputs": [
    {
     "data": {
      "text/plain": "<matplotlib.axes._subplots.AxesSubplot at 0x26283cf3348>"
     },
     "execution_count": 34,
     "metadata": {},
     "output_type": "execute_result"
    },
    {
     "data": {
      "text/plain": "<Figure size 432x288 with 1 Axes>",
      "image/png": "[encoded data removed]"
     },
     "metadata": {
      "needs_background": "light"
     },
     "output_type": "display_data"
    }
   ],
   "source": [
    "negative_carry_test[\"y\"].hist()"
   ],
   "metadata": {
    "collapsed": false,
    "pycharm": {
     "name": "#%%\n"
    }
   }
  },
  {
   "cell_type": "markdown",
   "source": [
    "Combined Carry Test"
   ],
   "metadata": {
    "collapsed": false,
    "pycharm": {
     "name": "#%% md\n"
    }
   }
  },
  {
   "cell_type": "code",
   "execution_count": 35,
   "outputs": [],
   "source": [
    "combined_carry_test = positive_carry_test[[\"x\", \"y\"]].merge(negative_carry_test[[\"x\", \"y\"]], on=\"x\")"
   ],
   "metadata": {
    "collapsed": false,
    "pycharm": {
     "name": "#%%\n"
    }
   }
  },
  {
   "cell_type": "code",
   "execution_count": 36,
   "outputs": [],
   "source": [
    "combined_carry_test[\"y\"] = (2 - combined_carry_test[\"y_x\"] + combined_carry_test[\"y_y\"]) / 2"
   ],
   "metadata": {
    "collapsed": false,
    "pycharm": {
     "name": "#%%\n"
    }
   }
  },
  {
   "cell_type": "code",
   "execution_count": 37,
   "outputs": [
    {
     "data": {
      "text/plain": "               x         y\n0    1992.083333  1.014669\n1    1992.166667  0.992478\n2    1992.250000  1.004614\n3    1992.333333  1.018953\n4    1992.416667  1.007861\n..           ...       ...\n354  2021.583333  0.967389\n355  2021.666667  1.033791\n356  2021.750000  0.989269\n357  2021.833333  0.973071\n358  2021.916667  1.016825\n\n[359 rows x 2 columns]",
      "text/html": "<div>\n<style scoped>\n    .dataframe tbody tr th:only-of-type {\n        vertical-align: middle;\n    }\n\n    .dataframe tbody tr th {\n        vertical-align: top;\n    }\n\n    .dataframe thead th {\n        text-align: right;\n    }\n</style>\n<table border=\"1\" class=\"dataframe\">\n  <thead>\n    <tr style=\"text-align: right;\">\n      <th></th>\n      <th>x</th>\n      <th>y</th>\n    </tr>\n  </thead>\n  <tbody>\n    <tr>\n      <th>0</th>\n      <td>1992.083333</td>\n      <td>1.014669</td>\n    </tr>\n    <tr>\n      <th>1</th>\n      <td>1992.166667</td>\n      <td>0.992478</td>\n    </tr>\n    <tr>\n      <th>2</th>\n      <td>1992.250000</td>\n      <td>1.004614</td>\n    </tr>\n    <tr>\n      <th>3</th>\n      <td>1992.333333</td>\n      <td>1.018953</td>\n    </tr>\n    <tr>\n      <th>4</th>\n      <td>1992.416667</td>\n      <td>1.007861</td>\n    </tr>\n    <tr>\n      <th>...</th>\n      <td>...</td>\n      <td>...</td>\n    </tr>\n    <tr>\n      <th>354</th>\n      <td>2021.583333</td>\n      <td>0.967389</td>\n    </tr>\n    <tr>\n      <th>355</th>\n      <td>2021.666667</td>\n      <td>1.033791</td>\n    </tr>\n    <tr>\n      <th>356</th>\n      <td>2021.750000</td>\n      <td>0.989269</td>\n    </tr>\n    <tr>\n      <th>357</th>\n      <td>2021.833333</td>\n      <td>0.973071</td>\n    </tr>\n    <tr>\n      <th>358</th>\n      <td>2021.916667</td>\n      <td>1.016825</td>\n    </tr>\n  </tbody>\n</table>\n<p>359 rows × 2 columns</p>\n</div>"
     },
     "execution_count": 37,
     "metadata": {},
     "output_type": "execute_result"
    }
   ],
   "source": [
    "combined_carry_test[[\"x\", \"y\"]]"
   ],
   "metadata": {
    "collapsed": false,
    "pycharm": {
     "name": "#%%\n"
    }
   }
  },
  {
   "cell_type": "code",
   "execution_count": 38,
   "outputs": [],
   "source": [
    "combined_carry_test[\"y_cum\"] = combined_carry_test[\"y\"].cumprod()"
   ],
   "metadata": {
    "collapsed": false,
    "pycharm": {
     "name": "#%%\n"
    }
   }
  },
  {
   "cell_type": "code",
   "execution_count": 39,
   "outputs": [
    {
     "data": {
      "text/plain": "<matplotlib.axes._subplots.AxesSubplot at 0x26283a0d848>"
     },
     "execution_count": 39,
     "metadata": {},
     "output_type": "execute_result"
    },
    {
     "data": {
      "text/plain": "<Figure size 432x288 with 1 Axes>",
      "image/png": "[encoded data removed]"
     },
     "metadata": {
      "needs_background": "light"
     },
     "output_type": "display_data"
    }
   ],
   "source": [
    "combined_carry_test.plot.line(x=\"x\", y=\"y_cum\")"
   ],
   "metadata": {
    "collapsed": false,
    "pycharm": {
     "name": "#%%\n"
    }
   }
  },
  {
   "cell_type": "code",
   "execution_count": 40,
   "outputs": [
    {
     "data": {
      "text/plain": "                y\ncount  359.000000\nmean     1.001931\nstd      0.020757\nmin      0.952460\n25%      0.987857\n50%      1.000337\n75%      1.014353\nmax      1.075004",
      "text/html": "<div>\n<style scoped>\n    .dataframe tbody tr th:only-of-type {\n        vertical-align: middle;\n    }\n\n    .dataframe tbody tr th {\n        vertical-align: top;\n    }\n\n    .dataframe thead th {\n        text-align: right;\n    }\n</style>\n<table border=\"1\" class=\"dataframe\">\n  <thead>\n    <tr style=\"text-align: right;\">\n      <th></th>\n      <th>y</th>\n    </tr>\n  </thead>\n  <tbody>\n    <tr>\n      <th>count</th>\n      <td>359.000000</td>\n    </tr>\n    <tr>\n      <th>mean</th>\n      <td>1.001931</td>\n    </tr>\n    <tr>\n      <th>std</th>\n      <td>0.020757</td>\n    </tr>\n    <tr>\n      <th>min</th>\n      <td>0.952460</td>\n    </tr>\n    <tr>\n      <th>25%</th>\n      <td>0.987857</td>\n    </tr>\n    <tr>\n      <th>50%</th>\n      <td>1.000337</td>\n    </tr>\n    <tr>\n      <th>75%</th>\n      <td>1.014353</td>\n    </tr>\n    <tr>\n      <th>max</th>\n      <td>1.075004</td>\n    </tr>\n  </tbody>\n</table>\n</div>"
     },
     "execution_count": 40,
     "metadata": {},
     "output_type": "execute_result"
    }
   ],
   "source": [
    "combined_carry_test[[\"y\"]].describe()"
   ],
   "metadata": {
    "collapsed": false,
    "pycharm": {
     "name": "#%%\n"
    }
   }
  },
  {
   "cell_type": "code",
   "execution_count": 41,
   "outputs": [
    {
     "data": {
      "text/plain": "<matplotlib.axes._subplots.AxesSubplot at 0x26283e04bc8>"
     },
     "execution_count": 41,
     "metadata": {},
     "output_type": "execute_result"
    },
    {
     "data": {
      "text/plain": "<Figure size 432x288 with 1 Axes>",
      "image/png": "[encoded data removed]"
     },
     "metadata": {
      "needs_background": "light"
     },
     "output_type": "display_data"
    }
   ],
   "source": [
    "combined_carry_test[\"y\"].hist()"
   ],
   "metadata": {
    "collapsed": false,
    "pycharm": {
     "name": "#%%\n"
    }
   }
  },
  {
   "cell_type": "markdown",
   "source": [
    "All Carry Test"
   ],
   "metadata": {
    "collapsed": false
   }
  },
  {
   "cell_type": "code",
   "execution_count": 42,
   "outputs": [],
   "source": [
    "ew_commodity_test = backtest_data.groupby([\"Year\", \"Month\"]).agg(y = (\"c2_adj_monthly_return\", \"mean\")).reset_index()"
   ],
   "metadata": {
    "collapsed": false,
    "pycharm": {
     "name": "#%%\n"
    }
   }
  },
  {
   "cell_type": "code",
   "execution_count": 43,
   "outputs": [],
   "source": [
    "ew_commodity_test[\"x\"] = ew_commodity_test[\"Year\"] + (ew_commodity_test[\"Month\"] - 1) / 12"
   ],
   "metadata": {
    "collapsed": false,
    "pycharm": {
     "name": "#%%\n"
    }
   }
  },
  {
   "cell_type": "code",
   "execution_count": 44,
   "outputs": [
    {
     "data": {
      "text/plain": "               x         y\n0    1992.083333  0.987582\n1    1992.166667  1.002805\n2    1992.250000  0.995651\n3    1992.333333  1.024674\n4    1992.416667  1.006917\n..           ...       ...\n354  2021.583333  1.005498\n355  2021.666667  1.007544\n356  2021.750000  1.011736\n357  2021.833333  0.993376\n358  2021.916667  1.036975\n\n[359 rows x 2 columns]",
      "text/html": "<div>\n<style scoped>\n    .dataframe tbody tr th:only-of-type {\n        vertical-align: middle;\n    }\n\n    .dataframe tbody tr th {\n        vertical-align: top;\n    }\n\n    .dataframe thead th {\n        text-align: right;\n    }\n</style>\n<table border=\"1\" class=\"dataframe\">\n  <thead>\n    <tr style=\"text-align: right;\">\n      <th></th>\n      <th>x</th>\n      <th>y</th>\n    </tr>\n  </thead>\n  <tbody>\n    <tr>\n      <th>0</th>\n      <td>1992.083333</td>\n      <td>0.987582</td>\n    </tr>\n    <tr>\n      <th>1</th>\n      <td>1992.166667</td>\n      <td>1.002805</td>\n    </tr>\n    <tr>\n      <th>2</th>\n      <td>1992.250000</td>\n      <td>0.995651</td>\n    </tr>\n    <tr>\n      <th>3</th>\n      <td>1992.333333</td>\n      <td>1.024674</td>\n    </tr>\n    <tr>\n      <th>4</th>\n      <td>1992.416667</td>\n      <td>1.006917</td>\n    </tr>\n    <tr>\n      <th>...</th>\n      <td>...</td>\n      <td>...</td>\n    </tr>\n    <tr>\n      <th>354</th>\n      <td>2021.583333</td>\n      <td>1.005498</td>\n    </tr>\n    <tr>\n      <th>355</th>\n      <td>2021.666667</td>\n      <td>1.007544</td>\n    </tr>\n    <tr>\n      <th>356</th>\n      <td>2021.750000</td>\n      <td>1.011736</td>\n    </tr>\n    <tr>\n      <th>357</th>\n      <td>2021.833333</td>\n      <td>0.993376</td>\n    </tr>\n    <tr>\n      <th>358</th>\n      <td>2021.916667</td>\n      <td>1.036975</td>\n    </tr>\n  </tbody>\n</table>\n<p>359 rows × 2 columns</p>\n</div>"
     },
     "execution_count": 44,
     "metadata": {},
     "output_type": "execute_result"
    }
   ],
   "source": [
    "ew_commodity_test[[\"x\", \"y\"]]"
   ],
   "metadata": {
    "collapsed": false,
    "pycharm": {
     "name": "#%%\n"
    }
   }
  },
  {
   "cell_type": "code",
   "execution_count": 45,
   "outputs": [],
   "source": [
    "ew_commodity_test[\"y_cum\"] = ew_commodity_test[\"y\"].cumprod()"
   ],
   "metadata": {
    "collapsed": false,
    "pycharm": {
     "name": "#%%\n"
    }
   }
  },
  {
   "cell_type": "code",
   "execution_count": 46,
   "outputs": [
    {
     "data": {
      "text/plain": "<matplotlib.axes._subplots.AxesSubplot at 0x26283e9e6c8>"
     },
     "execution_count": 46,
     "metadata": {},
     "output_type": "execute_result"
    },
    {
     "data": {
      "text/plain": "<Figure size 432x288 with 1 Axes>",
      "image/png": "[encoded data removed]"
     },
     "metadata": {
      "needs_background": "light"
     },
     "output_type": "display_data"
    }
   ],
   "source": [
    "ew_commodity_test.plot.line(x=\"x\", y=\"y_cum\")"
   ],
   "metadata": {
    "collapsed": false,
    "pycharm": {
     "name": "#%%\n"
    }
   }
  },
  {
   "cell_type": "code",
   "execution_count": 47,
   "outputs": [
    {
     "data": {
      "text/plain": "                y\ncount  359.000000\nmean     1.002632\nstd      0.031397\nmin      0.815559\n25%      0.983788\n50%      1.004036\n75%      1.019773\nmax      1.100172",
      "text/html": "<div>\n<style scoped>\n    .dataframe tbody tr th:only-of-type {\n        vertical-align: middle;\n    }\n\n    .dataframe tbody tr th {\n        vertical-align: top;\n    }\n\n    .dataframe thead th {\n        text-align: right;\n    }\n</style>\n<table border=\"1\" class=\"dataframe\">\n  <thead>\n    <tr style=\"text-align: right;\">\n      <th></th>\n      <th>y</th>\n    </tr>\n  </thead>\n  <tbody>\n    <tr>\n      <th>count</th>\n      <td>359.000000</td>\n    </tr>\n    <tr>\n      <th>mean</th>\n      <td>1.002632</td>\n    </tr>\n    <tr>\n      <th>std</th>\n      <td>0.031397</td>\n    </tr>\n    <tr>\n      <th>min</th>\n      <td>0.815559</td>\n    </tr>\n    <tr>\n      <th>25%</th>\n      <td>0.983788</td>\n    </tr>\n    <tr>\n      <th>50%</th>\n      <td>1.004036</td>\n    </tr>\n    <tr>\n      <th>75%</th>\n      <td>1.019773</td>\n    </tr>\n    <tr>\n      <th>max</th>\n      <td>1.100172</td>\n    </tr>\n  </tbody>\n</table>\n</div>"
     },
     "execution_count": 47,
     "metadata": {},
     "output_type": "execute_result"
    }
   ],
   "source": [
    "ew_commodity_test[[\"y\"]].describe()"
   ],
   "metadata": {
    "collapsed": false,
    "pycharm": {
     "name": "#%%\n"
    }
   }
  },
  {
   "cell_type": "code",
   "execution_count": 48,
   "outputs": [
    {
     "data": {
      "text/plain": "<matplotlib.axes._subplots.AxesSubplot at 0x26283f18848>"
     },
     "execution_count": 48,
     "metadata": {},
     "output_type": "execute_result"
    },
    {
     "data": {
      "text/plain": "<Figure size 432x288 with 1 Axes>",
      "image/png": "[encoded data removed]"
     },
     "metadata": {
      "needs_background": "light"
     },
     "output_type": "display_data"
    }
   ],
   "source": [
    "ew_commodity_test[\"y\"].hist()"
   ],
   "metadata": {
    "collapsed": false,
    "pycharm": {
     "name": "#%%\n"
    }
   }
  },
  {
   "cell_type": "markdown",
   "source": [
    "Look into the different percentiles and their return characteristics"
   ],
   "metadata": {
    "collapsed": false
   }
  },
  {
   "cell_type": "code",
   "execution_count": 49,
   "outputs": [],
   "source": [
    "backtest_data[\"Carry Rank Group\"] = backtest_data[\"Carry Rank\"].apply(lambda x: math.floor(x*10))"
   ],
   "metadata": {
    "collapsed": false,
    "pycharm": {
     "name": "#%%\n"
    }
   }
  },
  {
   "cell_type": "code",
   "execution_count": 50,
   "outputs": [
    {
     "data": {
      "text/plain": "                  mean_return  med_return  min_return  max_return  std_return\nCarry Rank Group                                                             \n0                    1.004874    1.004874    0.720833    1.366957    0.076015\n1                    0.999441    0.999441    0.567803    1.318148    0.069635\n2                    1.007582    1.007582    0.625466    1.550507    0.073298\n3                    1.003364    1.003364    0.661273    1.313360    0.066876\n4                    1.002334    1.002334    0.697743    1.245527    0.065582\n5                    1.002898    1.002898    0.715061    1.372080    0.067490\n6                    1.005914    1.005914    0.449966    1.343601    0.071876\n7                    1.002591    1.002591    0.740697    1.367135    0.072594\n8                    0.997799    0.997799    0.794677    1.416961    0.069655\n9                    0.997870    0.997870    0.054161    1.439153    0.087773\n10                   1.003448    1.003448    0.738622    1.545682    0.080773",
      "text/html": "<div>\n<style scoped>\n    .dataframe tbody tr th:only-of-type {\n        vertical-align: middle;\n    }\n\n    .dataframe tbody tr th {\n        vertical-align: top;\n    }\n\n    .dataframe thead th {\n        text-align: right;\n    }\n</style>\n<table border=\"1\" class=\"dataframe\">\n  <thead>\n    <tr style=\"text-align: right;\">\n      <th></th>\n      <th>mean_return</th>\n      <th>med_return</th>\n      <th>min_return</th>\n      <th>max_return</th>\n      <th>std_return</th>\n    </tr>\n    <tr>\n      <th>Carry Rank Group</th>\n      <th></th>\n      <th></th>\n      <th></th>\n      <th></th>\n      <th></th>\n    </tr>\n  </thead>\n  <tbody>\n    <tr>\n      <th>0</th>\n      <td>1.004874</td>\n      <td>1.004874</td>\n      <td>0.720833</td>\n      <td>1.366957</td>\n      <td>0.076015</td>\n    </tr>\n    <tr>\n      <th>1</th>\n      <td>0.999441</td>\n      <td>0.999441</td>\n      <td>0.567803</td>\n      <td>1.318148</td>\n      <td>0.069635</td>\n    </tr>\n    <tr>\n      <th>2</th>\n      <td>1.007582</td>\n      <td>1.007582</td>\n      <td>0.625466</td>\n      <td>1.550507</td>\n      <td>0.073298</td>\n    </tr>\n    <tr>\n      <th>3</th>\n      <td>1.003364</td>\n      <td>1.003364</td>\n      <td>0.661273</td>\n      <td>1.313360</td>\n      <td>0.066876</td>\n    </tr>\n    <tr>\n      <th>4</th>\n      <td>1.002334</td>\n      <td>1.002334</td>\n      <td>0.697743</td>\n      <td>1.245527</td>\n      <td>0.065582</td>\n    </tr>\n    <tr>\n      <th>5</th>\n      <td>1.002898</td>\n      <td>1.002898</td>\n      <td>0.715061</td>\n      <td>1.372080</td>\n      <td>0.067490</td>\n    </tr>\n    <tr>\n      <th>6</th>\n      <td>1.005914</td>\n      <td>1.005914</td>\n      <td>0.449966</td>\n      <td>1.343601</td>\n      <td>0.071876</td>\n    </tr>\n    <tr>\n      <th>7</th>\n      <td>1.002591</td>\n      <td>1.002591</td>\n      <td>0.740697</td>\n      <td>1.367135</td>\n      <td>0.072594</td>\n    </tr>\n    <tr>\n      <th>8</th>\n      <td>0.997799</td>\n      <td>0.997799</td>\n      <td>0.794677</td>\n      <td>1.416961</td>\n      <td>0.069655</td>\n    </tr>\n    <tr>\n      <th>9</th>\n      <td>0.997870</td>\n      <td>0.997870</td>\n      <td>0.054161</td>\n      <td>1.439153</td>\n      <td>0.087773</td>\n    </tr>\n    <tr>\n      <th>10</th>\n      <td>1.003448</td>\n      <td>1.003448</td>\n      <td>0.738622</td>\n      <td>1.545682</td>\n      <td>0.080773</td>\n    </tr>\n  </tbody>\n</table>\n</div>"
     },
     "execution_count": 50,
     "metadata": {},
     "output_type": "execute_result"
    }
   ],
   "source": [
    "backtest_data.groupby(\"Carry Rank Group\").agg(\n",
    "    mean_return = (\"c2_adj_monthly_return\", \"mean\"),\n",
    "    med_return = (\"c2_adj_monthly_return\", \"mean\"),\n",
    "    min_return = (\"c2_adj_monthly_return\", \"min\"),\n",
    "    max_return = (\"c2_adj_monthly_return\", \"max\"),\n",
    "    std_return = (\"c2_adj_monthly_return\", \"std\")\n",
    ")"
   ],
   "metadata": {
    "collapsed": false,
    "pycharm": {
     "name": "#%%\n"
    }
   }
  },
  {
   "cell_type": "markdown",
   "source": [
    "## Momentum Test"
   ],
   "metadata": {
    "collapsed": false,
    "pycharm": {
     "name": "#%% md\n"
    }
   }
  },
  {
   "cell_type": "markdown",
   "source": [
    "Rank the momentum for each month so we can get the top & bottom percentiles"
   ],
   "metadata": {
    "collapsed": false
   }
  },
  {
   "cell_type": "code",
   "execution_count": 51,
   "outputs": [],
   "source": [
    "backtest_data[\"Momentum Rank\"] = backtest_data.groupby([\"Year\", \"Month\"])[\"c2_momentum_signal\"].rank(\"average\", ascending=True,pct=True)"
   ],
   "metadata": {
    "collapsed": false,
    "pycharm": {
     "name": "#%%\n"
    }
   }
  },
  {
   "cell_type": "code",
   "execution_count": 52,
   "outputs": [
    {
     "data": {
      "text/plain": "126.95741520149745"
     },
     "execution_count": 52,
     "metadata": {},
     "output_type": "execute_result"
    }
   ],
   "source": [
    "backtest_data[backtest_data[\"Momentum Rank\"] >= 2/3].c2_adj_monthly_return.product() - 1"
   ],
   "metadata": {
    "collapsed": false,
    "pycharm": {
     "name": "#%%\n"
    }
   }
  },
  {
   "cell_type": "code",
   "execution_count": 53,
   "outputs": [
    {
     "data": {
      "text/plain": "-0.9965327882593871"
     },
     "execution_count": 53,
     "metadata": {},
     "output_type": "execute_result"
    }
   ],
   "source": [
    "backtest_data[backtest_data[\"Momentum Rank\"] <= 1/3].c2_adj_monthly_return.product() - 1"
   ],
   "metadata": {
    "collapsed": false,
    "pycharm": {
     "name": "#%%\n"
    }
   }
  },
  {
   "cell_type": "markdown",
   "source": [
    "Positive Momentum Test"
   ],
   "metadata": {
    "collapsed": false
   }
  },
  {
   "cell_type": "code",
   "execution_count": 54,
   "outputs": [],
   "source": [
    "positive_momentum_test = backtest_data[\n",
    "    backtest_data[\"Momentum Rank\"] >= 2/3\n",
    "].groupby([\"Year\", \"Month\"]).agg(y = (\"c2_adj_monthly_return\", \"mean\")).reset_index()"
   ],
   "metadata": {
    "collapsed": false,
    "pycharm": {
     "name": "#%%\n"
    }
   }
  },
  {
   "cell_type": "code",
   "execution_count": 55,
   "outputs": [],
   "source": [
    "positive_momentum_test[\"x\"] = positive_momentum_test[\"Year\"] + (positive_momentum_test[\"Month\"] - 1) / 12"
   ],
   "metadata": {
    "collapsed": false,
    "pycharm": {
     "name": "#%%\n"
    }
   }
  },
  {
   "cell_type": "code",
   "execution_count": 56,
   "outputs": [
    {
     "data": {
      "text/plain": "               x         y\n0    1992.083333  1.010219\n1    1992.166667  1.025362\n2    1992.250000  1.037839\n3    1992.333333  1.050081\n4    1992.416667  0.994365\n..           ...       ...\n354  2021.583333  1.008072\n355  2021.666667  0.993822\n356  2021.750000  0.998075\n357  2021.833333  0.983189\n358  2021.916667  1.009227\n\n[359 rows x 2 columns]",
      "text/html": "<div>\n<style scoped>\n    .dataframe tbody tr th:only-of-type {\n        vertical-align: middle;\n    }\n\n    .dataframe tbody tr th {\n        vertical-align: top;\n    }\n\n    .dataframe thead th {\n        text-align: right;\n    }\n</style>\n<table border=\"1\" class=\"dataframe\">\n  <thead>\n    <tr style=\"text-align: right;\">\n      <th></th>\n      <th>x</th>\n      <th>y</th>\n    </tr>\n  </thead>\n  <tbody>\n    <tr>\n      <th>0</th>\n      <td>1992.083333</td>\n      <td>1.010219</td>\n    </tr>\n    <tr>\n      <th>1</th>\n      <td>1992.166667</td>\n      <td>1.025362</td>\n    </tr>\n    <tr>\n      <th>2</th>\n      <td>1992.250000</td>\n      <td>1.037839</td>\n    </tr>\n    <tr>\n      <th>3</th>\n      <td>1992.333333</td>\n      <td>1.050081</td>\n    </tr>\n    <tr>\n      <th>4</th>\n      <td>1992.416667</td>\n      <td>0.994365</td>\n    </tr>\n    <tr>\n      <th>...</th>\n      <td>...</td>\n      <td>...</td>\n    </tr>\n    <tr>\n      <th>354</th>\n      <td>2021.583333</td>\n      <td>1.008072</td>\n    </tr>\n    <tr>\n      <th>355</th>\n      <td>2021.666667</td>\n      <td>0.993822</td>\n    </tr>\n    <tr>\n      <th>356</th>\n      <td>2021.750000</td>\n      <td>0.998075</td>\n    </tr>\n    <tr>\n      <th>357</th>\n      <td>2021.833333</td>\n      <td>0.983189</td>\n    </tr>\n    <tr>\n      <th>358</th>\n      <td>2021.916667</td>\n      <td>1.009227</td>\n    </tr>\n  </tbody>\n</table>\n<p>359 rows × 2 columns</p>\n</div>"
     },
     "execution_count": 56,
     "metadata": {},
     "output_type": "execute_result"
    }
   ],
   "source": [
    "positive_momentum_test[[\"x\", \"y\"]]"
   ],
   "metadata": {
    "collapsed": false,
    "pycharm": {
     "name": "#%%\n"
    }
   }
  },
  {
   "cell_type": "code",
   "execution_count": 57,
   "outputs": [],
   "source": [
    "positive_momentum_test[\"y_cum\"] = positive_momentum_test[\"y\"].cumprod()"
   ],
   "metadata": {
    "collapsed": false,
    "pycharm": {
     "name": "#%%\n"
    }
   }
  },
  {
   "cell_type": "code",
   "execution_count": 58,
   "outputs": [
    {
     "data": {
      "text/plain": "<matplotlib.axes._subplots.AxesSubplot at 0x26283f90ec8>"
     },
     "execution_count": 58,
     "metadata": {},
     "output_type": "execute_result"
    },
    {
     "data": {
      "text/plain": "<Figure size 432x288 with 1 Axes>",
      "image/png": "[encoded data removed]"
     },
     "metadata": {
      "needs_background": "light"
     },
     "output_type": "display_data"
    }
   ],
   "source": [
    "positive_momentum_test.plot.line(x=\"x\", y=\"y_cum\")"
   ],
   "metadata": {
    "collapsed": false,
    "pycharm": {
     "name": "#%%\n"
    }
   }
  },
  {
   "cell_type": "code",
   "execution_count": 59,
   "outputs": [
    {
     "data": {
      "text/plain": "                y\ncount  359.000000\nmean     1.005443\nstd      0.039776\nmin      0.780822\n25%      0.981801\n50%      1.006500\n75%      1.028601\nmax      1.124378",
      "text/html": "<div>\n<style scoped>\n    .dataframe tbody tr th:only-of-type {\n        vertical-align: middle;\n    }\n\n    .dataframe tbody tr th {\n        vertical-align: top;\n    }\n\n    .dataframe thead th {\n        text-align: right;\n    }\n</style>\n<table border=\"1\" class=\"dataframe\">\n  <thead>\n    <tr style=\"text-align: right;\">\n      <th></th>\n      <th>y</th>\n    </tr>\n  </thead>\n  <tbody>\n    <tr>\n      <th>count</th>\n      <td>359.000000</td>\n    </tr>\n    <tr>\n      <th>mean</th>\n      <td>1.005443</td>\n    </tr>\n    <tr>\n      <th>std</th>\n      <td>0.039776</td>\n    </tr>\n    <tr>\n      <th>min</th>\n      <td>0.780822</td>\n    </tr>\n    <tr>\n      <th>25%</th>\n      <td>0.981801</td>\n    </tr>\n    <tr>\n      <th>50%</th>\n      <td>1.006500</td>\n    </tr>\n    <tr>\n      <th>75%</th>\n      <td>1.028601</td>\n    </tr>\n    <tr>\n      <th>max</th>\n      <td>1.124378</td>\n    </tr>\n  </tbody>\n</table>\n</div>"
     },
     "execution_count": 59,
     "metadata": {},
     "output_type": "execute_result"
    }
   ],
   "source": [
    "positive_momentum_test[[\"y\"]].describe()"
   ],
   "metadata": {
    "collapsed": false,
    "pycharm": {
     "name": "#%%\n"
    }
   }
  },
  {
   "cell_type": "code",
   "execution_count": 60,
   "outputs": [
    {
     "data": {
      "text/plain": "<matplotlib.axes._subplots.AxesSubplot at 0x2628402c708>"
     },
     "execution_count": 60,
     "metadata": {},
     "output_type": "execute_result"
    },
    {
     "data": {
      "text/plain": "<Figure size 432x288 with 1 Axes>",
      "image/png": "[encoded data removed]"
     },
     "metadata": {
      "needs_background": "light"
     },
     "output_type": "display_data"
    }
   ],
   "source": [
    "positive_momentum_test[\"y\"].hist()"
   ],
   "metadata": {
    "collapsed": false,
    "pycharm": {
     "name": "#%%\n"
    }
   }
  },
  {
   "cell_type": "markdown",
   "source": [
    "Negative Momentum Test"
   ],
   "metadata": {
    "collapsed": false
   }
  },
  {
   "cell_type": "code",
   "execution_count": 61,
   "outputs": [],
   "source": [
    "negative_momentum_test = backtest_data[\n",
    "    backtest_data[\"Momentum Rank\"] <= 1/3\n",
    "].groupby([\"Year\", \"Month\"]).agg(y = (\"c2_adj_monthly_return\", \"mean\")).reset_index()"
   ],
   "metadata": {
    "collapsed": false,
    "pycharm": {
     "name": "#%%\n"
    }
   }
  },
  {
   "cell_type": "code",
   "execution_count": 62,
   "outputs": [],
   "source": [
    "negative_momentum_test[\"x\"] = negative_momentum_test[\"Year\"] + (negative_momentum_test[\"Month\"] - 1) / 12"
   ],
   "metadata": {
    "collapsed": false,
    "pycharm": {
     "name": "#%%\n"
    }
   }
  },
  {
   "cell_type": "code",
   "execution_count": 63,
   "outputs": [
    {
     "data": {
      "text/plain": "               x         y\n0    1992.083333  0.973414\n1    1992.166667  0.995434\n2    1992.250000  0.986067\n3    1992.333333  1.006750\n4    1992.416667  1.038265\n..           ...       ...\n354  2021.583333  0.991425\n355  2021.666667  1.004757\n356  2021.750000  1.021500\n357  2021.833333  0.979919\n358  2021.916667  1.060727\n\n[359 rows x 2 columns]",
      "text/html": "<div>\n<style scoped>\n    .dataframe tbody tr th:only-of-type {\n        vertical-align: middle;\n    }\n\n    .dataframe tbody tr th {\n        vertical-align: top;\n    }\n\n    .dataframe thead th {\n        text-align: right;\n    }\n</style>\n<table border=\"1\" class=\"dataframe\">\n  <thead>\n    <tr style=\"text-align: right;\">\n      <th></th>\n      <th>x</th>\n      <th>y</th>\n    </tr>\n  </thead>\n  <tbody>\n    <tr>\n      <th>0</th>\n      <td>1992.083333</td>\n      <td>0.973414</td>\n    </tr>\n    <tr>\n      <th>1</th>\n      <td>1992.166667</td>\n      <td>0.995434</td>\n    </tr>\n    <tr>\n      <th>2</th>\n      <td>1992.250000</td>\n      <td>0.986067</td>\n    </tr>\n    <tr>\n      <th>3</th>\n      <td>1992.333333</td>\n      <td>1.006750</td>\n    </tr>\n    <tr>\n      <th>4</th>\n      <td>1992.416667</td>\n      <td>1.038265</td>\n    </tr>\n    <tr>\n      <th>...</th>\n      <td>...</td>\n      <td>...</td>\n    </tr>\n    <tr>\n      <th>354</th>\n      <td>2021.583333</td>\n      <td>0.991425</td>\n    </tr>\n    <tr>\n      <th>355</th>\n      <td>2021.666667</td>\n      <td>1.004757</td>\n    </tr>\n    <tr>\n      <th>356</th>\n      <td>2021.750000</td>\n      <td>1.021500</td>\n    </tr>\n    <tr>\n      <th>357</th>\n      <td>2021.833333</td>\n      <td>0.979919</td>\n    </tr>\n    <tr>\n      <th>358</th>\n      <td>2021.916667</td>\n      <td>1.060727</td>\n    </tr>\n  </tbody>\n</table>\n<p>359 rows × 2 columns</p>\n</div>"
     },
     "execution_count": 63,
     "metadata": {},
     "output_type": "execute_result"
    }
   ],
   "source": [
    "negative_momentum_test[[\"x\", \"y\"]]"
   ],
   "metadata": {
    "collapsed": false,
    "pycharm": {
     "name": "#%%\n"
    }
   }
  },
  {
   "cell_type": "code",
   "execution_count": 64,
   "outputs": [],
   "source": [
    "negative_momentum_test[\"y_cum\"] = (2 - negative_momentum_test[\"y\"]).cumprod()"
   ],
   "metadata": {
    "collapsed": false,
    "pycharm": {
     "name": "#%%\n"
    }
   }
  },
  {
   "cell_type": "code",
   "execution_count": 65,
   "outputs": [
    {
     "data": {
      "text/plain": "<matplotlib.axes._subplots.AxesSubplot at 0x262840c5048>"
     },
     "execution_count": 65,
     "metadata": {},
     "output_type": "execute_result"
    },
    {
     "data": {
      "text/plain": "<Figure size 432x288 with 1 Axes>",
      "image/png": "[encoded data removed]"
     },
     "metadata": {
      "needs_background": "light"
     },
     "output_type": "display_data"
    }
   ],
   "source": [
    "negative_momentum_test.plot.line(x=\"x\", y=\"y_cum\")"
   ],
   "metadata": {
    "collapsed": false,
    "pycharm": {
     "name": "#%%\n"
    }
   }
  },
  {
   "cell_type": "code",
   "execution_count": 66,
   "outputs": [
    {
     "data": {
      "text/plain": "                y\ncount  359.000000\nmean     1.000149\nstd      0.039479\nmin      0.854923\n25%      0.976693\n50%      1.000682\n75%      1.022634\nmax      1.111371",
      "text/html": "<div>\n<style scoped>\n    .dataframe tbody tr th:only-of-type {\n        vertical-align: middle;\n    }\n\n    .dataframe tbody tr th {\n        vertical-align: top;\n    }\n\n    .dataframe thead th {\n        text-align: right;\n    }\n</style>\n<table border=\"1\" class=\"dataframe\">\n  <thead>\n    <tr style=\"text-align: right;\">\n      <th></th>\n      <th>y</th>\n    </tr>\n  </thead>\n  <tbody>\n    <tr>\n      <th>count</th>\n      <td>359.000000</td>\n    </tr>\n    <tr>\n      <th>mean</th>\n      <td>1.000149</td>\n    </tr>\n    <tr>\n      <th>std</th>\n      <td>0.039479</td>\n    </tr>\n    <tr>\n      <th>min</th>\n      <td>0.854923</td>\n    </tr>\n    <tr>\n      <th>25%</th>\n      <td>0.976693</td>\n    </tr>\n    <tr>\n      <th>50%</th>\n      <td>1.000682</td>\n    </tr>\n    <tr>\n      <th>75%</th>\n      <td>1.022634</td>\n    </tr>\n    <tr>\n      <th>max</th>\n      <td>1.111371</td>\n    </tr>\n  </tbody>\n</table>\n</div>"
     },
     "execution_count": 66,
     "metadata": {},
     "output_type": "execute_result"
    }
   ],
   "source": [
    "negative_momentum_test[[\"y\"]].describe()"
   ],
   "metadata": {
    "collapsed": false,
    "pycharm": {
     "name": "#%%\n"
    }
   }
  },
  {
   "cell_type": "code",
   "execution_count": 67,
   "outputs": [
    {
     "data": {
      "text/plain": "<matplotlib.axes._subplots.AxesSubplot at 0x262842b46c8>"
     },
     "execution_count": 67,
     "metadata": {},
     "output_type": "execute_result"
    },
    {
     "data": {
      "text/plain": "<Figure size 432x288 with 1 Axes>",
      "image/png": "[encoded data removed]"
     },
     "metadata": {
      "needs_background": "light"
     },
     "output_type": "display_data"
    }
   ],
   "source": [
    "negative_momentum_test[\"y\"].hist()"
   ],
   "metadata": {
    "collapsed": false,
    "pycharm": {
     "name": "#%%\n"
    }
   }
  },
  {
   "cell_type": "markdown",
   "source": [
    "Combined Momentum Test"
   ],
   "metadata": {
    "collapsed": false
   }
  },
  {
   "cell_type": "code",
   "execution_count": 68,
   "outputs": [],
   "source": [
    "combined_momentum_test = negative_momentum_test[[\"x\", \"y\"]].merge(positive_momentum_test[[\"x\", \"y\"]], on=\"x\")"
   ],
   "metadata": {
    "collapsed": false,
    "pycharm": {
     "name": "#%%\n"
    }
   }
  },
  {
   "cell_type": "code",
   "execution_count": 69,
   "outputs": [],
   "source": [
    "combined_momentum_test[\"y\"] = (2 - combined_momentum_test[\"y_x\"] + combined_momentum_test[\"y_y\"]) / 2"
   ],
   "metadata": {
    "collapsed": false,
    "pycharm": {
     "name": "#%%\n"
    }
   }
  },
  {
   "cell_type": "code",
   "execution_count": 70,
   "outputs": [
    {
     "data": {
      "text/plain": "               x         y\n0    1992.083333  1.018402\n1    1992.166667  1.014964\n2    1992.250000  1.025886\n3    1992.333333  1.021665\n4    1992.416667  0.978050\n..           ...       ...\n354  2021.583333  1.008323\n355  2021.666667  0.994533\n356  2021.750000  0.988287\n357  2021.833333  1.001635\n358  2021.916667  0.974250\n\n[359 rows x 2 columns]",
      "text/html": "<div>\n<style scoped>\n    .dataframe tbody tr th:only-of-type {\n        vertical-align: middle;\n    }\n\n    .dataframe tbody tr th {\n        vertical-align: top;\n    }\n\n    .dataframe thead th {\n        text-align: right;\n    }\n</style>\n<table border=\"1\" class=\"dataframe\">\n  <thead>\n    <tr style=\"text-align: right;\">\n      <th></th>\n      <th>x</th>\n      <th>y</th>\n    </tr>\n  </thead>\n  <tbody>\n    <tr>\n      <th>0</th>\n      <td>1992.083333</td>\n      <td>1.018402</td>\n    </tr>\n    <tr>\n      <th>1</th>\n      <td>1992.166667</td>\n      <td>1.014964</td>\n    </tr>\n    <tr>\n      <th>2</th>\n      <td>1992.250000</td>\n      <td>1.025886</td>\n    </tr>\n    <tr>\n      <th>3</th>\n      <td>1992.333333</td>\n      <td>1.021665</td>\n    </tr>\n    <tr>\n      <th>4</th>\n      <td>1992.416667</td>\n      <td>0.978050</td>\n    </tr>\n    <tr>\n      <th>...</th>\n      <td>...</td>\n      <td>...</td>\n    </tr>\n    <tr>\n      <th>354</th>\n      <td>2021.583333</td>\n      <td>1.008323</td>\n    </tr>\n    <tr>\n      <th>355</th>\n      <td>2021.666667</td>\n      <td>0.994533</td>\n    </tr>\n    <tr>\n      <th>356</th>\n      <td>2021.750000</td>\n      <td>0.988287</td>\n    </tr>\n    <tr>\n      <th>357</th>\n      <td>2021.833333</td>\n      <td>1.001635</td>\n    </tr>\n    <tr>\n      <th>358</th>\n      <td>2021.916667</td>\n      <td>0.974250</td>\n    </tr>\n  </tbody>\n</table>\n<p>359 rows × 2 columns</p>\n</div>"
     },
     "execution_count": 70,
     "metadata": {},
     "output_type": "execute_result"
    }
   ],
   "source": [
    "combined_momentum_test[[\"x\", \"y\"]]"
   ],
   "metadata": {
    "collapsed": false,
    "pycharm": {
     "name": "#%%\n"
    }
   }
  },
  {
   "cell_type": "code",
   "execution_count": 71,
   "outputs": [],
   "source": [
    "combined_momentum_test[\"y_cum\"] = combined_momentum_test[\"y\"].cumprod()"
   ],
   "metadata": {
    "collapsed": false,
    "pycharm": {
     "name": "#%%\n"
    }
   }
  },
  {
   "cell_type": "code",
   "execution_count": 72,
   "outputs": [
    {
     "data": {
      "text/plain": "<matplotlib.axes._subplots.AxesSubplot at 0x26283a179c8>"
     },
     "execution_count": 72,
     "metadata": {},
     "output_type": "execute_result"
    },
    {
     "data": {
      "text/plain": "<Figure size 432x288 with 1 Axes>",
      "image/png": "[encoded data removed]"
     },
     "metadata": {
      "needs_background": "light"
     },
     "output_type": "display_data"
    }
   ],
   "source": [
    "combined_momentum_test.plot.line(x=\"x\", y=\"y_cum\")"
   ],
   "metadata": {
    "collapsed": false,
    "pycharm": {
     "name": "#%%\n"
    }
   }
  },
  {
   "cell_type": "code",
   "execution_count": 73,
   "outputs": [
    {
     "data": {
      "text/plain": "                y\ncount  359.000000\nmean     1.002647\nstd      0.022978\nmin      0.918378\n25%      0.990292\n50%      1.003034\n75%      1.016023\nmax      1.075163",
      "text/html": "<div>\n<style scoped>\n    .dataframe tbody tr th:only-of-type {\n        vertical-align: middle;\n    }\n\n    .dataframe tbody tr th {\n        vertical-align: top;\n    }\n\n    .dataframe thead th {\n        text-align: right;\n    }\n</style>\n<table border=\"1\" class=\"dataframe\">\n  <thead>\n    <tr style=\"text-align: right;\">\n      <th></th>\n      <th>y</th>\n    </tr>\n  </thead>\n  <tbody>\n    <tr>\n      <th>count</th>\n      <td>359.000000</td>\n    </tr>\n    <tr>\n      <th>mean</th>\n      <td>1.002647</td>\n    </tr>\n    <tr>\n      <th>std</th>\n      <td>0.022978</td>\n    </tr>\n    <tr>\n      <th>min</th>\n      <td>0.918378</td>\n    </tr>\n    <tr>\n      <th>25%</th>\n      <td>0.990292</td>\n    </tr>\n    <tr>\n      <th>50%</th>\n      <td>1.003034</td>\n    </tr>\n    <tr>\n      <th>75%</th>\n      <td>1.016023</td>\n    </tr>\n    <tr>\n      <th>max</th>\n      <td>1.075163</td>\n    </tr>\n  </tbody>\n</table>\n</div>"
     },
     "execution_count": 73,
     "metadata": {},
     "output_type": "execute_result"
    }
   ],
   "source": [
    "combined_momentum_test[[\"y\"]].describe()"
   ],
   "metadata": {
    "collapsed": false,
    "pycharm": {
     "name": "#%%\n"
    }
   }
  },
  {
   "cell_type": "code",
   "execution_count": 74,
   "outputs": [
    {
     "data": {
      "text/plain": "<matplotlib.axes._subplots.AxesSubplot at 0x262840a46c8>"
     },
     "execution_count": 74,
     "metadata": {},
     "output_type": "execute_result"
    },
    {
     "data": {
      "text/plain": "<Figure size 432x288 with 1 Axes>",
      "image/png": "[encoded data removed]"
     },
     "metadata": {
      "needs_background": "light"
     },
     "output_type": "display_data"
    }
   ],
   "source": [
    "combined_momentum_test[\"y\"].hist()"
   ],
   "metadata": {
    "collapsed": false,
    "pycharm": {
     "name": "#%%\n"
    }
   }
  },
  {
   "cell_type": "markdown",
   "source": [
    "## Momentum-Carry Test"
   ],
   "metadata": {
    "collapsed": false,
    "pycharm": {
     "name": "#%% md\n"
    }
   }
  },
  {
   "cell_type": "markdown",
   "source": [
    "TODO: There are cases in which no commodities are bought/sold for a specific period. We need to deel with this in our backtest data. For instance by filling in those dates with a 0% return"
   ],
   "metadata": {
    "collapsed": false,
    "pycharm": {
     "name": "#%% md\n"
    }
   }
  },
  {
   "cell_type": "markdown",
   "source": [
    "Positive Carry-Momentum Test"
   ],
   "metadata": {
    "collapsed": false
   }
  },
  {
   "cell_type": "code",
   "execution_count": 75,
   "outputs": [],
   "source": [
    "positive_carry_momentum_test = backtest_data[\n",
    "    (backtest_data[\"Carry Rank\"] >= 2/3) &\n",
    "    (backtest_data[\"Momentum Rank\"] <= 1/3)\n",
    "].groupby([\"Year\", \"Month\"]).agg(y = (\"c2_adj_monthly_return\", \"mean\")).reset_index()"
   ],
   "metadata": {
    "collapsed": false,
    "pycharm": {
     "name": "#%%\n"
    }
   }
  },
  {
   "cell_type": "code",
   "execution_count": 76,
   "outputs": [],
   "source": [
    "positive_carry_momentum_test[\"x\"] = positive_carry_momentum_test[\"Year\"] + (positive_carry_momentum_test[\"Month\"] - 1) / 12"
   ],
   "metadata": {
    "collapsed": false,
    "pycharm": {
     "name": "#%%\n"
    }
   }
  },
  {
   "cell_type": "code",
   "execution_count": 77,
   "outputs": [],
   "source": [
    "positive_carry_momentum_test = positive_carry_momentum_test.merge(ew_commodity_test[[\"x\"]], on=\"x\", how=\"outer\")\n",
    "positive_carry_momentum_test.fillna(1, inplace=True)\n",
    "positive_carry_momentum_test.sort_values(by=\"x\", inplace=True)"
   ],
   "metadata": {
    "collapsed": false,
    "pycharm": {
     "name": "#%%\n"
    }
   }
  },
  {
   "cell_type": "code",
   "execution_count": 78,
   "outputs": [
    {
     "data": {
      "text/plain": "               x         y\n0    1992.083333  0.969078\n1    1992.166667  0.864368\n2    1992.250000  1.007804\n3    1992.333333  0.993140\n4    1992.416667  1.046338\n..           ...       ...\n347  2021.583333  1.046206\n358  2021.666667  1.000000\n348  2021.750000  1.045396\n349  2021.833333  0.969899\n350  2021.916667  1.060245\n\n[359 rows x 2 columns]",
      "text/html": "<div>\n<style scoped>\n    .dataframe tbody tr th:only-of-type {\n        vertical-align: middle;\n    }\n\n    .dataframe tbody tr th {\n        vertical-align: top;\n    }\n\n    .dataframe thead th {\n        text-align: right;\n    }\n</style>\n<table border=\"1\" class=\"dataframe\">\n  <thead>\n    <tr style=\"text-align: right;\">\n      <th></th>\n      <th>x</th>\n      <th>y</th>\n    </tr>\n  </thead>\n  <tbody>\n    <tr>\n      <th>0</th>\n      <td>1992.083333</td>\n      <td>0.969078</td>\n    </tr>\n    <tr>\n      <th>1</th>\n      <td>1992.166667</td>\n      <td>0.864368</td>\n    </tr>\n    <tr>\n      <th>2</th>\n      <td>1992.250000</td>\n      <td>1.007804</td>\n    </tr>\n    <tr>\n      <th>3</th>\n      <td>1992.333333</td>\n      <td>0.993140</td>\n    </tr>\n    <tr>\n      <th>4</th>\n      <td>1992.416667</td>\n      <td>1.046338</td>\n    </tr>\n    <tr>\n      <th>...</th>\n      <td>...</td>\n      <td>...</td>\n    </tr>\n    <tr>\n      <th>347</th>\n      <td>2021.583333</td>\n      <td>1.046206</td>\n    </tr>\n    <tr>\n      <th>358</th>\n      <td>2021.666667</td>\n      <td>1.000000</td>\n    </tr>\n    <tr>\n      <th>348</th>\n      <td>2021.750000</td>\n      <td>1.045396</td>\n    </tr>\n    <tr>\n      <th>349</th>\n      <td>2021.833333</td>\n      <td>0.969899</td>\n    </tr>\n    <tr>\n      <th>350</th>\n      <td>2021.916667</td>\n      <td>1.060245</td>\n    </tr>\n  </tbody>\n</table>\n<p>359 rows × 2 columns</p>\n</div>"
     },
     "execution_count": 78,
     "metadata": {},
     "output_type": "execute_result"
    }
   ],
   "source": [
    "positive_carry_momentum_test[[\"x\", \"y\"]]"
   ],
   "metadata": {
    "collapsed": false,
    "pycharm": {
     "name": "#%%\n"
    }
   }
  },
  {
   "cell_type": "code",
   "execution_count": 79,
   "outputs": [],
   "source": [
    "positive_carry_momentum_test[\"y_cum\"] = (2 - positive_carry_momentum_test[\"y\"]).cumprod()"
   ],
   "metadata": {
    "collapsed": false,
    "pycharm": {
     "name": "#%%\n"
    }
   }
  },
  {
   "cell_type": "code",
   "execution_count": 80,
   "outputs": [
    {
     "data": {
      "text/plain": "<matplotlib.axes._subplots.AxesSubplot at 0x26284427f48>"
     },
     "execution_count": 80,
     "metadata": {},
     "output_type": "execute_result"
    },
    {
     "data": {
      "text/plain": "<Figure size 432x288 with 1 Axes>",
      "image/png": "[encoded data removed]"
     },
     "metadata": {
      "needs_background": "light"
     },
     "output_type": "display_data"
    }
   ],
   "source": [
    "positive_carry_momentum_test.plot.line(x=\"x\", y=\"y_cum\")"
   ],
   "metadata": {
    "collapsed": false,
    "pycharm": {
     "name": "#%%\n"
    }
   }
  },
  {
   "cell_type": "code",
   "execution_count": 81,
   "outputs": [
    {
     "data": {
      "text/plain": "                y\ncount  359.000000\nmean     1.000319\nstd      0.053928\nmin      0.822524\n25%      0.969514\n50%      1.002266\n75%      1.030918\nmax      1.164435",
      "text/html": "<div>\n<style scoped>\n    .dataframe tbody tr th:only-of-type {\n        vertical-align: middle;\n    }\n\n    .dataframe tbody tr th {\n        vertical-align: top;\n    }\n\n    .dataframe thead th {\n        text-align: right;\n    }\n</style>\n<table border=\"1\" class=\"dataframe\">\n  <thead>\n    <tr style=\"text-align: right;\">\n      <th></th>\n      <th>y</th>\n    </tr>\n  </thead>\n  <tbody>\n    <tr>\n      <th>count</th>\n      <td>359.000000</td>\n    </tr>\n    <tr>\n      <th>mean</th>\n      <td>1.000319</td>\n    </tr>\n    <tr>\n      <th>std</th>\n      <td>0.053928</td>\n    </tr>\n    <tr>\n      <th>min</th>\n      <td>0.822524</td>\n    </tr>\n    <tr>\n      <th>25%</th>\n      <td>0.969514</td>\n    </tr>\n    <tr>\n      <th>50%</th>\n      <td>1.002266</td>\n    </tr>\n    <tr>\n      <th>75%</th>\n      <td>1.030918</td>\n    </tr>\n    <tr>\n      <th>max</th>\n      <td>1.164435</td>\n    </tr>\n  </tbody>\n</table>\n</div>"
     },
     "execution_count": 81,
     "metadata": {},
     "output_type": "execute_result"
    }
   ],
   "source": [
    "positive_carry_momentum_test[[\"y\"]].describe()"
   ],
   "metadata": {
    "collapsed": false,
    "pycharm": {
     "name": "#%%\n"
    }
   }
  },
  {
   "cell_type": "code",
   "execution_count": 82,
   "outputs": [
    {
     "data": {
      "text/plain": "<matplotlib.axes._subplots.AxesSubplot at 0x2628442d988>"
     },
     "execution_count": 82,
     "metadata": {},
     "output_type": "execute_result"
    },
    {
     "data": {
      "text/plain": "<Figure size 432x288 with 1 Axes>",
      "image/png": "[encoded data removed]"
     },
     "metadata": {
      "needs_background": "light"
     },
     "output_type": "display_data"
    }
   ],
   "source": [
    "positive_carry_momentum_test[\"y\"].hist()"
   ],
   "metadata": {
    "collapsed": false,
    "pycharm": {
     "name": "#%%\n"
    }
   }
  },
  {
   "cell_type": "markdown",
   "source": [
    "Negative Carry-Momentum Test"
   ],
   "metadata": {
    "collapsed": false
   }
  },
  {
   "cell_type": "code",
   "execution_count": 83,
   "outputs": [],
   "source": [
    "negative_carry_momentum_test = backtest_data[\n",
    "    (backtest_data[\"Carry Rank\"] <= 1/3) &\n",
    "    (backtest_data[\"Momentum Rank\"] >= 2/3)\n",
    "].groupby([\"Year\", \"Month\"]).agg(y = (\"c2_adj_monthly_return\", \"mean\")).reset_index()"
   ],
   "metadata": {
    "collapsed": false,
    "pycharm": {
     "name": "#%%\n"
    }
   }
  },
  {
   "cell_type": "code",
   "execution_count": 84,
   "outputs": [],
   "source": [
    "negative_carry_momentum_test[\"x\"] = negative_carry_momentum_test[\"Year\"] + (negative_carry_momentum_test[\"Month\"] - 1) / 12"
   ],
   "metadata": {
    "collapsed": false,
    "pycharm": {
     "name": "#%%\n"
    }
   }
  },
  {
   "cell_type": "code",
   "execution_count": 85,
   "outputs": [],
   "source": [
    "negative_carry_momentum_test = negative_carry_momentum_test.merge(ew_commodity_test[[\"x\"]], on=\"x\", how=\"outer\")\n",
    "negative_carry_momentum_test.fillna(1, inplace=True)\n",
    "negative_carry_momentum_test.sort_values(by=\"x\", inplace=True)"
   ],
   "metadata": {
    "collapsed": false,
    "pycharm": {
     "name": "#%%\n"
    }
   }
  },
  {
   "cell_type": "code",
   "execution_count": 86,
   "outputs": [
    {
     "data": {
      "text/plain": "               x         y\n0    1992.083333  1.016308\n351  1992.166667  1.000000\n1    1992.250000  1.024509\n2    1992.333333  1.085359\n3    1992.416667  0.950311\n..           ...       ...\n346  2021.583333  1.002109\n347  2021.666667  1.055939\n348  2021.750000  1.001204\n349  2021.833333  0.948781\n350  2021.916667  1.021804\n\n[359 rows x 2 columns]",
      "text/html": "<div>\n<style scoped>\n    .dataframe tbody tr th:only-of-type {\n        vertical-align: middle;\n    }\n\n    .dataframe tbody tr th {\n        vertical-align: top;\n    }\n\n    .dataframe thead th {\n        text-align: right;\n    }\n</style>\n<table border=\"1\" class=\"dataframe\">\n  <thead>\n    <tr style=\"text-align: right;\">\n      <th></th>\n      <th>x</th>\n      <th>y</th>\n    </tr>\n  </thead>\n  <tbody>\n    <tr>\n      <th>0</th>\n      <td>1992.083333</td>\n      <td>1.016308</td>\n    </tr>\n    <tr>\n      <th>351</th>\n      <td>1992.166667</td>\n      <td>1.000000</td>\n    </tr>\n    <tr>\n      <th>1</th>\n      <td>1992.250000</td>\n      <td>1.024509</td>\n    </tr>\n    <tr>\n      <th>2</th>\n      <td>1992.333333</td>\n      <td>1.085359</td>\n    </tr>\n    <tr>\n      <th>3</th>\n      <td>1992.416667</td>\n      <td>0.950311</td>\n    </tr>\n    <tr>\n      <th>...</th>\n      <td>...</td>\n      <td>...</td>\n    </tr>\n    <tr>\n      <th>346</th>\n      <td>2021.583333</td>\n      <td>1.002109</td>\n    </tr>\n    <tr>\n      <th>347</th>\n      <td>2021.666667</td>\n      <td>1.055939</td>\n    </tr>\n    <tr>\n      <th>348</th>\n      <td>2021.750000</td>\n      <td>1.001204</td>\n    </tr>\n    <tr>\n      <th>349</th>\n      <td>2021.833333</td>\n      <td>0.948781</td>\n    </tr>\n    <tr>\n      <th>350</th>\n      <td>2021.916667</td>\n      <td>1.021804</td>\n    </tr>\n  </tbody>\n</table>\n<p>359 rows × 2 columns</p>\n</div>"
     },
     "execution_count": 86,
     "metadata": {},
     "output_type": "execute_result"
    }
   ],
   "source": [
    "negative_carry_momentum_test[[\"x\", \"y\"]]"
   ],
   "metadata": {
    "collapsed": false,
    "pycharm": {
     "name": "#%%\n"
    }
   }
  },
  {
   "cell_type": "code",
   "execution_count": 87,
   "outputs": [],
   "source": [
    "negative_carry_momentum_test[\"y_cum\"] = negative_carry_momentum_test[\"y\"].cumprod()"
   ],
   "metadata": {
    "collapsed": false,
    "pycharm": {
     "name": "#%%\n"
    }
   }
  },
  {
   "cell_type": "code",
   "execution_count": 88,
   "outputs": [
    {
     "data": {
      "text/plain": "<matplotlib.axes._subplots.AxesSubplot at 0x26284524ac8>"
     },
     "execution_count": 88,
     "metadata": {},
     "output_type": "execute_result"
    },
    {
     "data": {
      "text/plain": "<Figure size 432x288 with 1 Axes>",
      "image/png": "[encoded data removed]"
     },
     "metadata": {
      "needs_background": "light"
     },
     "output_type": "display_data"
    }
   ],
   "source": [
    "negative_carry_momentum_test.plot.line(x=\"x\", y=\"y_cum\")"
   ],
   "metadata": {
    "collapsed": false,
    "pycharm": {
     "name": "#%%\n"
    }
   }
  },
  {
   "cell_type": "code",
   "execution_count": 89,
   "outputs": [
    {
     "data": {
      "text/plain": "                y\ncount  359.000000\nmean     1.009097\nstd      0.056994\nmin      0.756294\n25%      0.976545\n50%      1.007619\n75%      1.038103\nmax      1.366957",
      "text/html": "<div>\n<style scoped>\n    .dataframe tbody tr th:only-of-type {\n        vertical-align: middle;\n    }\n\n    .dataframe tbody tr th {\n        vertical-align: top;\n    }\n\n    .dataframe thead th {\n        text-align: right;\n    }\n</style>\n<table border=\"1\" class=\"dataframe\">\n  <thead>\n    <tr style=\"text-align: right;\">\n      <th></th>\n      <th>y</th>\n    </tr>\n  </thead>\n  <tbody>\n    <tr>\n      <th>count</th>\n      <td>359.000000</td>\n    </tr>\n    <tr>\n      <th>mean</th>\n      <td>1.009097</td>\n    </tr>\n    <tr>\n      <th>std</th>\n      <td>0.056994</td>\n    </tr>\n    <tr>\n      <th>min</th>\n      <td>0.756294</td>\n    </tr>\n    <tr>\n      <th>25%</th>\n      <td>0.976545</td>\n    </tr>\n    <tr>\n      <th>50%</th>\n      <td>1.007619</td>\n    </tr>\n    <tr>\n      <th>75%</th>\n      <td>1.038103</td>\n    </tr>\n    <tr>\n      <th>max</th>\n      <td>1.366957</td>\n    </tr>\n  </tbody>\n</table>\n</div>"
     },
     "execution_count": 89,
     "metadata": {},
     "output_type": "execute_result"
    }
   ],
   "source": [
    "negative_carry_momentum_test[[\"y\"]].describe()"
   ],
   "metadata": {
    "collapsed": false,
    "pycharm": {
     "name": "#%%\n"
    }
   }
  },
  {
   "cell_type": "code",
   "execution_count": 90,
   "outputs": [
    {
     "data": {
      "text/plain": "<matplotlib.axes._subplots.AxesSubplot at 0x26284524b88>"
     },
     "execution_count": 90,
     "metadata": {},
     "output_type": "execute_result"
    },
    {
     "data": {
      "text/plain": "<Figure size 432x288 with 1 Axes>",
      "image/png": "[encoded data removed]"
     },
     "metadata": {
      "needs_background": "light"
     },
     "output_type": "display_data"
    }
   ],
   "source": [
    "negative_carry_momentum_test[\"y\"].hist()"
   ],
   "metadata": {
    "collapsed": false,
    "pycharm": {
     "name": "#%%\n"
    }
   }
  },
  {
   "cell_type": "markdown",
   "source": [
    "Combined Carry Momentum Test"
   ],
   "metadata": {
    "collapsed": false
   }
  },
  {
   "cell_type": "code",
   "execution_count": 91,
   "outputs": [],
   "source": [
    "combined_carry_momentum_test = positive_carry_momentum_test[[\"x\", \"y\"]].merge(negative_carry_momentum_test[[\"x\", \"y\"]], on=\"x\", how=\"outer\")"
   ],
   "metadata": {
    "collapsed": false,
    "pycharm": {
     "name": "#%%\n"
    }
   }
  },
  {
   "cell_type": "code",
   "execution_count": 92,
   "outputs": [],
   "source": [
    "combined_carry_momentum_test = combined_carry_momentum_test.merge(ew_commodity_test[[\"x\"]], on=\"x\", how=\"outer\")\n",
    "combined_carry_momentum_test.fillna(1, inplace=True)\n",
    "combined_carry_momentum_test.sort_values(by=\"x\", inplace=True)"
   ],
   "metadata": {
    "collapsed": false,
    "pycharm": {
     "name": "#%%\n"
    }
   }
  },
  {
   "cell_type": "code",
   "execution_count": 93,
   "outputs": [],
   "source": [
    "combined_carry_momentum_test[\"y\"] = (2 - combined_carry_momentum_test[\"y_x\"] + combined_carry_momentum_test[\"y_y\"]) / 2"
   ],
   "metadata": {
    "collapsed": false,
    "pycharm": {
     "name": "#%%\n"
    }
   }
  },
  {
   "cell_type": "code",
   "execution_count": 94,
   "outputs": [
    {
     "data": {
      "text/plain": "               x         y\n0    1992.083333  1.023615\n1    1992.166667  1.067816\n2    1992.250000  1.008352\n3    1992.333333  1.046110\n4    1992.416667  0.951987\n..           ...       ...\n354  2021.583333  0.977951\n355  2021.666667  1.027970\n356  2021.750000  0.977904\n357  2021.833333  0.989441\n358  2021.916667  0.980780\n\n[359 rows x 2 columns]",
      "text/html": "<div>\n<style scoped>\n    .dataframe tbody tr th:only-of-type {\n        vertical-align: middle;\n    }\n\n    .dataframe tbody tr th {\n        vertical-align: top;\n    }\n\n    .dataframe thead th {\n        text-align: right;\n    }\n</style>\n<table border=\"1\" class=\"dataframe\">\n  <thead>\n    <tr style=\"text-align: right;\">\n      <th></th>\n      <th>x</th>\n      <th>y</th>\n    </tr>\n  </thead>\n  <tbody>\n    <tr>\n      <th>0</th>\n      <td>1992.083333</td>\n      <td>1.023615</td>\n    </tr>\n    <tr>\n      <th>1</th>\n      <td>1992.166667</td>\n      <td>1.067816</td>\n    </tr>\n    <tr>\n      <th>2</th>\n      <td>1992.250000</td>\n      <td>1.008352</td>\n    </tr>\n    <tr>\n      <th>3</th>\n      <td>1992.333333</td>\n      <td>1.046110</td>\n    </tr>\n    <tr>\n      <th>4</th>\n      <td>1992.416667</td>\n      <td>0.951987</td>\n    </tr>\n    <tr>\n      <th>...</th>\n      <td>...</td>\n      <td>...</td>\n    </tr>\n    <tr>\n      <th>354</th>\n      <td>2021.583333</td>\n      <td>0.977951</td>\n    </tr>\n    <tr>\n      <th>355</th>\n      <td>2021.666667</td>\n      <td>1.027970</td>\n    </tr>\n    <tr>\n      <th>356</th>\n      <td>2021.750000</td>\n      <td>0.977904</td>\n    </tr>\n    <tr>\n      <th>357</th>\n      <td>2021.833333</td>\n      <td>0.989441</td>\n    </tr>\n    <tr>\n      <th>358</th>\n      <td>2021.916667</td>\n      <td>0.980780</td>\n    </tr>\n  </tbody>\n</table>\n<p>359 rows × 2 columns</p>\n</div>"
     },
     "execution_count": 94,
     "metadata": {},
     "output_type": "execute_result"
    }
   ],
   "source": [
    "combined_carry_momentum_test[[\"x\", \"y\"]]"
   ],
   "metadata": {
    "collapsed": false,
    "pycharm": {
     "name": "#%%\n"
    }
   }
  },
  {
   "cell_type": "code",
   "execution_count": 95,
   "outputs": [],
   "source": [
    "combined_carry_momentum_test[\"y_cum\"] = combined_carry_momentum_test[\"y\"].cumprod()"
   ],
   "metadata": {
    "collapsed": false,
    "pycharm": {
     "name": "#%%\n"
    }
   }
  },
  {
   "cell_type": "code",
   "execution_count": 96,
   "outputs": [
    {
     "data": {
      "text/plain": "<matplotlib.axes._subplots.AxesSubplot at 0x26284629248>"
     },
     "execution_count": 96,
     "metadata": {},
     "output_type": "execute_result"
    },
    {
     "data": {
      "text/plain": "<Figure size 432x288 with 1 Axes>",
      "image/png": "[encoded data removed]"
     },
     "metadata": {
      "needs_background": "light"
     },
     "output_type": "display_data"
    }
   ],
   "source": [
    "combined_carry_momentum_test.plot.line(x=\"x\", y=\"y_cum\")"
   ],
   "metadata": {
    "collapsed": false,
    "pycharm": {
     "name": "#%%\n"
    }
   }
  },
  {
   "cell_type": "code",
   "execution_count": 97,
   "outputs": [
    {
     "data": {
      "text/plain": "                y\ncount  359.000000\nmean     1.004389\nstd      0.037962\nmin      0.867788\n25%      0.981139\n50%      1.002336\n75%      1.026130\nmax      1.191457",
      "text/html": "<div>\n<style scoped>\n    .dataframe tbody tr th:only-of-type {\n        vertical-align: middle;\n    }\n\n    .dataframe tbody tr th {\n        vertical-align: top;\n    }\n\n    .dataframe thead th {\n        text-align: right;\n    }\n</style>\n<table border=\"1\" class=\"dataframe\">\n  <thead>\n    <tr style=\"text-align: right;\">\n      <th></th>\n      <th>y</th>\n    </tr>\n  </thead>\n  <tbody>\n    <tr>\n      <th>count</th>\n      <td>359.000000</td>\n    </tr>\n    <tr>\n      <th>mean</th>\n      <td>1.004389</td>\n    </tr>\n    <tr>\n      <th>std</th>\n      <td>0.037962</td>\n    </tr>\n    <tr>\n      <th>min</th>\n      <td>0.867788</td>\n    </tr>\n    <tr>\n      <th>25%</th>\n      <td>0.981139</td>\n    </tr>\n    <tr>\n      <th>50%</th>\n      <td>1.002336</td>\n    </tr>\n    <tr>\n      <th>75%</th>\n      <td>1.026130</td>\n    </tr>\n    <tr>\n      <th>max</th>\n      <td>1.191457</td>\n    </tr>\n  </tbody>\n</table>\n</div>"
     },
     "execution_count": 97,
     "metadata": {},
     "output_type": "execute_result"
    }
   ],
   "source": [
    "combined_carry_momentum_test[[\"y\"]].describe()"
   ],
   "metadata": {
    "collapsed": false,
    "pycharm": {
     "name": "#%%\n"
    }
   }
  },
  {
   "cell_type": "code",
   "execution_count": 98,
   "outputs": [
    {
     "data": {
      "text/plain": "<matplotlib.axes._subplots.AxesSubplot at 0x2628468b508>"
     },
     "execution_count": 98,
     "metadata": {},
     "output_type": "execute_result"
    },
    {
     "data": {
      "text/plain": "<Figure size 432x288 with 1 Axes>",
      "image/png": "[encoded data removed]"
     },
     "metadata": {
      "needs_background": "light"
     },
     "output_type": "display_data"
    }
   ],
   "source": [
    "combined_carry_momentum_test[\"y\"].hist()"
   ],
   "metadata": {
    "collapsed": false,
    "pycharm": {
     "name": "#%%\n"
    }
   }
  },
  {
   "cell_type": "markdown",
   "source": [
    "## Carry-Momentum V2\n",
    "Rather than doing a simultaneous sort as above, we now do a two-step sort where we first sort on carry & then on momentum"
   ],
   "metadata": {
    "collapsed": false,
    "pycharm": {
     "name": "#%% md\n"
    }
   }
  },
  {
   "cell_type": "markdown",
   "source": [
    "Positive Carry-Momentum Test"
   ],
   "metadata": {
    "collapsed": false
   }
  },
  {
   "cell_type": "code",
   "execution_count": 99,
   "outputs": [],
   "source": [
    "positive_carry_momentum_v2_test = backtest_data[\n",
    "    (backtest_data[\"Carry Rank\"] >= 2/3)\n",
    "].copy().reset_index(drop=True)"
   ],
   "metadata": {
    "collapsed": false,
    "pycharm": {
     "name": "#%%\n"
    }
   }
  },
  {
   "cell_type": "code",
   "execution_count": 100,
   "outputs": [],
   "source": [
    "positive_carry_momentum_v2_test[\"Momentum Rank\"] = positive_carry_momentum_v2_test.groupby([\"Year\", \"Month\"])[\"c2_momentum_signal\"].rank(\"average\", ascending=True,pct=True)"
   ],
   "metadata": {
    "collapsed": false,
    "pycharm": {
     "name": "#%%\n"
    }
   }
  },
  {
   "cell_type": "code",
   "execution_count": 101,
   "outputs": [],
   "source": [
    "positive_carry_momentum_v2_test = positive_carry_momentum_v2_test[\n",
    "    positive_carry_momentum_v2_test[\"Momentum Rank\"] <= 1/3\n",
    "].groupby([\"Year\", \"Month\"]).agg(y = (\"c2_adj_monthly_return\", \"mean\")).reset_index()"
   ],
   "metadata": {
    "collapsed": false,
    "pycharm": {
     "name": "#%%\n"
    }
   }
  },
  {
   "cell_type": "code",
   "execution_count": 102,
   "outputs": [],
   "source": [
    "positive_carry_momentum_v2_test[\"x\"] = positive_carry_momentum_v2_test[\"Year\"] + (positive_carry_momentum_v2_test[\"Month\"] - 1) / 12"
   ],
   "metadata": {
    "collapsed": false,
    "pycharm": {
     "name": "#%%\n"
    }
   }
  },
  {
   "cell_type": "code",
   "execution_count": 103,
   "outputs": [],
   "source": [
    "positive_carry_momentum_v2_test = positive_carry_momentum_v2_test.merge(ew_commodity_test[[\"x\"]], on=\"x\", how=\"outer\")\n",
    "positive_carry_momentum_v2_test.fillna(1, inplace=True)\n",
    "positive_carry_momentum_v2_test.sort_values(by=\"x\", inplace=True)"
   ],
   "metadata": {
    "collapsed": false,
    "pycharm": {
     "name": "#%%\n"
    }
   }
  },
  {
   "cell_type": "code",
   "execution_count": 104,
   "outputs": [
    {
     "data": {
      "text/plain": "               x         y\n0    1992.083333  0.985952\n1    1992.166667  0.935614\n2    1992.250000  1.007804\n3    1992.333333  1.030795\n4    1992.416667  1.061535\n..           ...       ...\n354  2021.583333  1.046490\n355  2021.666667  0.991975\n356  2021.750000  1.045818\n357  2021.833333  0.984297\n358  2021.916667  1.083610\n\n[359 rows x 2 columns]",
      "text/html": "<div>\n<style scoped>\n    .dataframe tbody tr th:only-of-type {\n        vertical-align: middle;\n    }\n\n    .dataframe tbody tr th {\n        vertical-align: top;\n    }\n\n    .dataframe thead th {\n        text-align: right;\n    }\n</style>\n<table border=\"1\" class=\"dataframe\">\n  <thead>\n    <tr style=\"text-align: right;\">\n      <th></th>\n      <th>x</th>\n      <th>y</th>\n    </tr>\n  </thead>\n  <tbody>\n    <tr>\n      <th>0</th>\n      <td>1992.083333</td>\n      <td>0.985952</td>\n    </tr>\n    <tr>\n      <th>1</th>\n      <td>1992.166667</td>\n      <td>0.935614</td>\n    </tr>\n    <tr>\n      <th>2</th>\n      <td>1992.250000</td>\n      <td>1.007804</td>\n    </tr>\n    <tr>\n      <th>3</th>\n      <td>1992.333333</td>\n      <td>1.030795</td>\n    </tr>\n    <tr>\n      <th>4</th>\n      <td>1992.416667</td>\n      <td>1.061535</td>\n    </tr>\n    <tr>\n      <th>...</th>\n      <td>...</td>\n      <td>...</td>\n    </tr>\n    <tr>\n      <th>354</th>\n      <td>2021.583333</td>\n      <td>1.046490</td>\n    </tr>\n    <tr>\n      <th>355</th>\n      <td>2021.666667</td>\n      <td>0.991975</td>\n    </tr>\n    <tr>\n      <th>356</th>\n      <td>2021.750000</td>\n      <td>1.045818</td>\n    </tr>\n    <tr>\n      <th>357</th>\n      <td>2021.833333</td>\n      <td>0.984297</td>\n    </tr>\n    <tr>\n      <th>358</th>\n      <td>2021.916667</td>\n      <td>1.083610</td>\n    </tr>\n  </tbody>\n</table>\n<p>359 rows × 2 columns</p>\n</div>"
     },
     "execution_count": 104,
     "metadata": {},
     "output_type": "execute_result"
    }
   ],
   "source": [
    "positive_carry_momentum_v2_test[[\"x\", \"y\"]]"
   ],
   "metadata": {
    "collapsed": false,
    "pycharm": {
     "name": "#%%\n"
    }
   }
  },
  {
   "cell_type": "code",
   "execution_count": 105,
   "outputs": [],
   "source": [
    "positive_carry_momentum_v2_test[\"y_cum\"] = (2 - positive_carry_momentum_v2_test[\"y\"]).cumprod()"
   ],
   "metadata": {
    "collapsed": false,
    "pycharm": {
     "name": "#%%\n"
    }
   }
  },
  {
   "cell_type": "code",
   "execution_count": 106,
   "outputs": [
    {
     "data": {
      "text/plain": "<matplotlib.axes._subplots.AxesSubplot at 0x26284737048>"
     },
     "execution_count": 106,
     "metadata": {},
     "output_type": "execute_result"
    },
    {
     "data": {
      "text/plain": "<Figure size 432x288 with 1 Axes>",
      "image/png": "[encoded data removed]"
     },
     "metadata": {
      "needs_background": "light"
     },
     "output_type": "display_data"
    }
   ],
   "source": [
    "positive_carry_momentum_v2_test.plot.line(x=\"x\", y=\"y_cum\")"
   ],
   "metadata": {
    "collapsed": false,
    "pycharm": {
     "name": "#%%\n"
    }
   }
  },
  {
   "cell_type": "code",
   "execution_count": 107,
   "outputs": [
    {
     "data": {
      "text/plain": "                y\ncount  359.000000\nmean     1.000581\nstd      0.055731\nmin      0.795194\n25%      0.968995\n50%      1.002153\n75%      1.033316\nmax      1.235845",
      "text/html": "<div>\n<style scoped>\n    .dataframe tbody tr th:only-of-type {\n        vertical-align: middle;\n    }\n\n    .dataframe tbody tr th {\n        vertical-align: top;\n    }\n\n    .dataframe thead th {\n        text-align: right;\n    }\n</style>\n<table border=\"1\" class=\"dataframe\">\n  <thead>\n    <tr style=\"text-align: right;\">\n      <th></th>\n      <th>y</th>\n    </tr>\n  </thead>\n  <tbody>\n    <tr>\n      <th>count</th>\n      <td>359.000000</td>\n    </tr>\n    <tr>\n      <th>mean</th>\n      <td>1.000581</td>\n    </tr>\n    <tr>\n      <th>std</th>\n      <td>0.055731</td>\n    </tr>\n    <tr>\n      <th>min</th>\n      <td>0.795194</td>\n    </tr>\n    <tr>\n      <th>25%</th>\n      <td>0.968995</td>\n    </tr>\n    <tr>\n      <th>50%</th>\n      <td>1.002153</td>\n    </tr>\n    <tr>\n      <th>75%</th>\n      <td>1.033316</td>\n    </tr>\n    <tr>\n      <th>max</th>\n      <td>1.235845</td>\n    </tr>\n  </tbody>\n</table>\n</div>"
     },
     "execution_count": 107,
     "metadata": {},
     "output_type": "execute_result"
    }
   ],
   "source": [
    "positive_carry_momentum_v2_test[[\"y\"]].describe()"
   ],
   "metadata": {
    "collapsed": false,
    "pycharm": {
     "name": "#%%\n"
    }
   }
  },
  {
   "cell_type": "code",
   "execution_count": 108,
   "outputs": [
    {
     "data": {
      "text/plain": "<matplotlib.axes._subplots.AxesSubplot at 0x26284793548>"
     },
     "execution_count": 108,
     "metadata": {},
     "output_type": "execute_result"
    },
    {
     "data": {
      "text/plain": "<Figure size 432x288 with 1 Axes>",
      "image/png": "[encoded data removed]"
     },
     "metadata": {
      "needs_background": "light"
     },
     "output_type": "display_data"
    }
   ],
   "source": [
    "positive_carry_momentum_v2_test[\"y\"].hist()"
   ],
   "metadata": {
    "collapsed": false,
    "pycharm": {
     "name": "#%%\n"
    }
   }
  },
  {
   "cell_type": "markdown",
   "source": [
    "Negative Carry-Momentum Test"
   ],
   "metadata": {
    "collapsed": false
   }
  },
  {
   "cell_type": "code",
   "execution_count": 109,
   "outputs": [],
   "source": [
    "negative_carry_momentum_v2_test = backtest_data[\n",
    "    (backtest_data[\"Carry Rank\"] <= 1/3)\n",
    "].copy().reset_index(drop=True)"
   ],
   "metadata": {
    "collapsed": false,
    "pycharm": {
     "name": "#%%\n"
    }
   }
  },
  {
   "cell_type": "code",
   "execution_count": 110,
   "outputs": [],
   "source": [
    "negative_carry_momentum_v2_test[\"Momentum Rank\"] = negative_carry_momentum_v2_test.groupby([\"Year\", \"Month\"])[\"c2_momentum_signal\"].rank(\"average\", ascending=True,pct=True)"
   ],
   "metadata": {
    "collapsed": false,
    "pycharm": {
     "name": "#%%\n"
    }
   }
  },
  {
   "cell_type": "code",
   "execution_count": 111,
   "outputs": [],
   "source": [
    "negative_carry_momentum_v2_test = negative_carry_momentum_v2_test[\n",
    "    negative_carry_momentum_v2_test[\"Momentum Rank\"] >= 2/3\n",
    "].groupby([\"Year\", \"Month\"]).agg(y = (\"c2_adj_monthly_return\", \"mean\")).reset_index()"
   ],
   "metadata": {
    "collapsed": false,
    "pycharm": {
     "name": "#%%\n"
    }
   }
  },
  {
   "cell_type": "code",
   "execution_count": 112,
   "outputs": [],
   "source": [
    "negative_carry_momentum_v2_test[\"x\"] = negative_carry_momentum_v2_test[\"Year\"] + (negative_carry_momentum_v2_test[\"Month\"] - 1) / 12"
   ],
   "metadata": {
    "collapsed": false,
    "pycharm": {
     "name": "#%%\n"
    }
   }
  },
  {
   "cell_type": "code",
   "execution_count": 113,
   "outputs": [],
   "source": [
    "negative_carry_momentum_v2_test = negative_carry_momentum_v2_test.merge(ew_commodity_test[[\"x\"]], on=\"x\", how=\"outer\")\n",
    "negative_carry_momentum_v2_test.fillna(1, inplace=True)\n",
    "negative_carry_momentum_v2_test.sort_values(by=\"x\", inplace=True)"
   ],
   "metadata": {
    "collapsed": false,
    "pycharm": {
     "name": "#%%\n"
    }
   }
  },
  {
   "cell_type": "code",
   "execution_count": 114,
   "outputs": [
    {
     "data": {
      "text/plain": "               x         y\n0    1992.083333  1.024226\n1    1992.166667  0.976966\n2    1992.250000  1.016037\n3    1992.333333  1.054431\n4    1992.416667  0.991148\n..           ...       ...\n354  2021.583333  1.009658\n355  2021.666667  1.050225\n356  2021.750000  1.050353\n357  2021.833333  0.947089\n358  2021.916667  1.082929\n\n[359 rows x 2 columns]",
      "text/html": "<div>\n<style scoped>\n    .dataframe tbody tr th:only-of-type {\n        vertical-align: middle;\n    }\n\n    .dataframe tbody tr th {\n        vertical-align: top;\n    }\n\n    .dataframe thead th {\n        text-align: right;\n    }\n</style>\n<table border=\"1\" class=\"dataframe\">\n  <thead>\n    <tr style=\"text-align: right;\">\n      <th></th>\n      <th>x</th>\n      <th>y</th>\n    </tr>\n  </thead>\n  <tbody>\n    <tr>\n      <th>0</th>\n      <td>1992.083333</td>\n      <td>1.024226</td>\n    </tr>\n    <tr>\n      <th>1</th>\n      <td>1992.166667</td>\n      <td>0.976966</td>\n    </tr>\n    <tr>\n      <th>2</th>\n      <td>1992.250000</td>\n      <td>1.016037</td>\n    </tr>\n    <tr>\n      <th>3</th>\n      <td>1992.333333</td>\n      <td>1.054431</td>\n    </tr>\n    <tr>\n      <th>4</th>\n      <td>1992.416667</td>\n      <td>0.991148</td>\n    </tr>\n    <tr>\n      <th>...</th>\n      <td>...</td>\n      <td>...</td>\n    </tr>\n    <tr>\n      <th>354</th>\n      <td>2021.583333</td>\n      <td>1.009658</td>\n    </tr>\n    <tr>\n      <th>355</th>\n      <td>2021.666667</td>\n      <td>1.050225</td>\n    </tr>\n    <tr>\n      <th>356</th>\n      <td>2021.750000</td>\n      <td>1.050353</td>\n    </tr>\n    <tr>\n      <th>357</th>\n      <td>2021.833333</td>\n      <td>0.947089</td>\n    </tr>\n    <tr>\n      <th>358</th>\n      <td>2021.916667</td>\n      <td>1.082929</td>\n    </tr>\n  </tbody>\n</table>\n<p>359 rows × 2 columns</p>\n</div>"
     },
     "execution_count": 114,
     "metadata": {},
     "output_type": "execute_result"
    }
   ],
   "source": [
    "negative_carry_momentum_v2_test[[\"x\", \"y\"]]"
   ],
   "metadata": {
    "collapsed": false,
    "pycharm": {
     "name": "#%%\n"
    }
   }
  },
  {
   "cell_type": "code",
   "execution_count": 115,
   "outputs": [],
   "source": [
    "negative_carry_momentum_v2_test[\"y_cum\"] = negative_carry_momentum_v2_test[\"y\"].cumprod()"
   ],
   "metadata": {
    "collapsed": false,
    "pycharm": {
     "name": "#%%\n"
    }
   }
  },
  {
   "cell_type": "code",
   "execution_count": 116,
   "outputs": [
    {
     "data": {
      "text/plain": "<matplotlib.axes._subplots.AxesSubplot at 0x2628482b488>"
     },
     "execution_count": 116,
     "metadata": {},
     "output_type": "execute_result"
    },
    {
     "data": {
      "text/plain": "<Figure size 432x288 with 1 Axes>",
      "image/png": "[encoded data removed]"
     },
     "metadata": {
      "needs_background": "light"
     },
     "output_type": "display_data"
    }
   ],
   "source": [
    "negative_carry_momentum_v2_test.plot.line(x=\"x\", y=\"y_cum\")"
   ],
   "metadata": {
    "collapsed": false,
    "pycharm": {
     "name": "#%%\n"
    }
   }
  },
  {
   "cell_type": "code",
   "execution_count": 117,
   "outputs": [
    {
     "data": {
      "text/plain": "                y\ncount  359.000000\nmean     1.007590\nstd      0.048365\nmin      0.806385\n25%      0.976698\n50%      1.007619\n75%      1.037827\nmax      1.205251",
      "text/html": "<div>\n<style scoped>\n    .dataframe tbody tr th:only-of-type {\n        vertical-align: middle;\n    }\n\n    .dataframe tbody tr th {\n        vertical-align: top;\n    }\n\n    .dataframe thead th {\n        text-align: right;\n    }\n</style>\n<table border=\"1\" class=\"dataframe\">\n  <thead>\n    <tr style=\"text-align: right;\">\n      <th></th>\n      <th>y</th>\n    </tr>\n  </thead>\n  <tbody>\n    <tr>\n      <th>count</th>\n      <td>359.000000</td>\n    </tr>\n    <tr>\n      <th>mean</th>\n      <td>1.007590</td>\n    </tr>\n    <tr>\n      <th>std</th>\n      <td>0.048365</td>\n    </tr>\n    <tr>\n      <th>min</th>\n      <td>0.806385</td>\n    </tr>\n    <tr>\n      <th>25%</th>\n      <td>0.976698</td>\n    </tr>\n    <tr>\n      <th>50%</th>\n      <td>1.007619</td>\n    </tr>\n    <tr>\n      <th>75%</th>\n      <td>1.037827</td>\n    </tr>\n    <tr>\n      <th>max</th>\n      <td>1.205251</td>\n    </tr>\n  </tbody>\n</table>\n</div>"
     },
     "execution_count": 117,
     "metadata": {},
     "output_type": "execute_result"
    }
   ],
   "source": [
    "negative_carry_momentum_v2_test[[\"y\"]].describe()"
   ],
   "metadata": {
    "collapsed": false,
    "pycharm": {
     "name": "#%%\n"
    }
   }
  },
  {
   "cell_type": "code",
   "execution_count": 118,
   "outputs": [
    {
     "data": {
      "text/plain": "<matplotlib.axes._subplots.AxesSubplot at 0x262848899c8>"
     },
     "execution_count": 118,
     "metadata": {},
     "output_type": "execute_result"
    },
    {
     "data": {
      "text/plain": "<Figure size 432x288 with 1 Axes>",
      "image/png": "[encoded data removed]"
     },
     "metadata": {
      "needs_background": "light"
     },
     "output_type": "display_data"
    }
   ],
   "source": [
    "negative_carry_momentum_v2_test[\"y\"].hist()"
   ],
   "metadata": {
    "collapsed": false,
    "pycharm": {
     "name": "#%%\n"
    }
   }
  },
  {
   "cell_type": "markdown",
   "source": [
    "combined carry-momentum"
   ],
   "metadata": {
    "collapsed": false,
    "pycharm": {
     "name": "#%% md\n"
    }
   }
  },
  {
   "cell_type": "code",
   "execution_count": 119,
   "outputs": [],
   "source": [
    "combined_carry_momentum_v2_test = positive_carry_momentum_v2_test[[\"x\", \"y\"]].merge(negative_carry_momentum_v2_test[[\"x\", \"y\"]], on=\"x\", how=\"outer\")"
   ],
   "metadata": {
    "collapsed": false,
    "pycharm": {
     "name": "#%%\n"
    }
   }
  },
  {
   "cell_type": "code",
   "execution_count": 120,
   "outputs": [],
   "source": [
    "combined_carry_momentum_v2_test = combined_carry_momentum_v2_test.merge(ew_commodity_test[[\"x\"]], on=\"x\", how=\"outer\")\n",
    "combined_carry_momentum_v2_test.fillna(1, inplace=True)\n",
    "combined_carry_momentum_v2_test.sort_values(by=\"x\", inplace=True)"
   ],
   "metadata": {
    "collapsed": false,
    "pycharm": {
     "name": "#%%\n"
    }
   }
  },
  {
   "cell_type": "code",
   "execution_count": 121,
   "outputs": [],
   "source": [
    "combined_carry_momentum_v2_test[\"y\"] = (2 - combined_carry_momentum_v2_test[\"y_x\"] + combined_carry_momentum_v2_test[\"y_y\"]) / 2"
   ],
   "metadata": {
    "collapsed": false,
    "pycharm": {
     "name": "#%%\n"
    }
   }
  },
  {
   "cell_type": "code",
   "execution_count": 122,
   "outputs": [
    {
     "data": {
      "text/plain": "               x         y\n0    1992.083333  1.019137\n1    1992.166667  1.020676\n2    1992.250000  1.004116\n3    1992.333333  1.011818\n4    1992.416667  0.964807\n..           ...       ...\n354  2021.583333  0.981584\n355  2021.666667  1.029125\n356  2021.750000  1.002267\n357  2021.833333  0.981396\n358  2021.916667  0.999660\n\n[359 rows x 2 columns]",
      "text/html": "<div>\n<style scoped>\n    .dataframe tbody tr th:only-of-type {\n        vertical-align: middle;\n    }\n\n    .dataframe tbody tr th {\n        vertical-align: top;\n    }\n\n    .dataframe thead th {\n        text-align: right;\n    }\n</style>\n<table border=\"1\" class=\"dataframe\">\n  <thead>\n    <tr style=\"text-align: right;\">\n      <th></th>\n      <th>x</th>\n      <th>y</th>\n    </tr>\n  </thead>\n  <tbody>\n    <tr>\n      <th>0</th>\n      <td>1992.083333</td>\n      <td>1.019137</td>\n    </tr>\n    <tr>\n      <th>1</th>\n      <td>1992.166667</td>\n      <td>1.020676</td>\n    </tr>\n    <tr>\n      <th>2</th>\n      <td>1992.250000</td>\n      <td>1.004116</td>\n    </tr>\n    <tr>\n      <th>3</th>\n      <td>1992.333333</td>\n      <td>1.011818</td>\n    </tr>\n    <tr>\n      <th>4</th>\n      <td>1992.416667</td>\n      <td>0.964807</td>\n    </tr>\n    <tr>\n      <th>...</th>\n      <td>...</td>\n      <td>...</td>\n    </tr>\n    <tr>\n      <th>354</th>\n      <td>2021.583333</td>\n      <td>0.981584</td>\n    </tr>\n    <tr>\n      <th>355</th>\n      <td>2021.666667</td>\n      <td>1.029125</td>\n    </tr>\n    <tr>\n      <th>356</th>\n      <td>2021.750000</td>\n      <td>1.002267</td>\n    </tr>\n    <tr>\n      <th>357</th>\n      <td>2021.833333</td>\n      <td>0.981396</td>\n    </tr>\n    <tr>\n      <th>358</th>\n      <td>2021.916667</td>\n      <td>0.999660</td>\n    </tr>\n  </tbody>\n</table>\n<p>359 rows × 2 columns</p>\n</div>"
     },
     "execution_count": 122,
     "metadata": {},
     "output_type": "execute_result"
    }
   ],
   "source": [
    "combined_carry_momentum_v2_test[[\"x\", \"y\"]]"
   ],
   "metadata": {
    "collapsed": false,
    "pycharm": {
     "name": "#%%\n"
    }
   }
  },
  {
   "cell_type": "code",
   "execution_count": 123,
   "outputs": [],
   "source": [
    "combined_carry_momentum_v2_test[\"y_cum\"] = combined_carry_momentum_v2_test[\"y\"].cumprod()"
   ],
   "metadata": {
    "collapsed": false,
    "pycharm": {
     "name": "#%%\n"
    }
   }
  },
  {
   "cell_type": "code",
   "execution_count": 124,
   "outputs": [
    {
     "data": {
      "text/plain": "<matplotlib.axes._subplots.AxesSubplot at 0x26284937648>"
     },
     "execution_count": 124,
     "metadata": {},
     "output_type": "execute_result"
    },
    {
     "data": {
      "text/plain": "<Figure size 432x288 with 1 Axes>",
      "image/png": "[encoded data removed]"
     },
     "metadata": {
      "needs_background": "light"
     },
     "output_type": "display_data"
    }
   ],
   "source": [
    "combined_carry_momentum_v2_test.plot.line(x=\"x\", y=\"y_cum\")"
   ],
   "metadata": {
    "collapsed": false,
    "pycharm": {
     "name": "#%%\n"
    }
   }
  },
  {
   "cell_type": "code",
   "execution_count": 125,
   "outputs": [
    {
     "data": {
      "text/plain": "                y\ncount  359.000000\nmean     1.003505\nstd      0.034116\nmin      0.877162\n25%      0.983127\n50%      1.001826\n75%      1.024298\nmax      1.119694",
      "text/html": "<div>\n<style scoped>\n    .dataframe tbody tr th:only-of-type {\n        vertical-align: middle;\n    }\n\n    .dataframe tbody tr th {\n        vertical-align: top;\n    }\n\n    .dataframe thead th {\n        text-align: right;\n    }\n</style>\n<table border=\"1\" class=\"dataframe\">\n  <thead>\n    <tr style=\"text-align: right;\">\n      <th></th>\n      <th>y</th>\n    </tr>\n  </thead>\n  <tbody>\n    <tr>\n      <th>count</th>\n      <td>359.000000</td>\n    </tr>\n    <tr>\n      <th>mean</th>\n      <td>1.003505</td>\n    </tr>\n    <tr>\n      <th>std</th>\n      <td>0.034116</td>\n    </tr>\n    <tr>\n      <th>min</th>\n      <td>0.877162</td>\n    </tr>\n    <tr>\n      <th>25%</th>\n      <td>0.983127</td>\n    </tr>\n    <tr>\n      <th>50%</th>\n      <td>1.001826</td>\n    </tr>\n    <tr>\n      <th>75%</th>\n      <td>1.024298</td>\n    </tr>\n    <tr>\n      <th>max</th>\n      <td>1.119694</td>\n    </tr>\n  </tbody>\n</table>\n</div>"
     },
     "execution_count": 125,
     "metadata": {},
     "output_type": "execute_result"
    }
   ],
   "source": [
    "combined_carry_momentum_v2_test[[\"y\"]].describe()"
   ],
   "metadata": {
    "collapsed": false,
    "pycharm": {
     "name": "#%%\n"
    }
   }
  },
  {
   "cell_type": "code",
   "execution_count": 126,
   "outputs": [
    {
     "data": {
      "text/plain": "<matplotlib.axes._subplots.AxesSubplot at 0x26284992748>"
     },
     "execution_count": 126,
     "metadata": {},
     "output_type": "execute_result"
    },
    {
     "data": {
      "text/plain": "<Figure size 432x288 with 1 Axes>",
      "image/png": "[encoded data removed]"
     },
     "metadata": {
      "needs_background": "light"
     },
     "output_type": "display_data"
    }
   ],
   "source": [
    "combined_carry_momentum_v2_test[\"y\"].hist()"
   ],
   "metadata": {
    "collapsed": false,
    "pycharm": {
     "name": "#%%\n"
    }
   }
  },
  {
   "cell_type": "markdown",
   "source": [
    "## Carry-Momentum V3\n",
    "Rather than optimizing carry with momentum, we optimize momentum with carry"
   ],
   "metadata": {
    "collapsed": false,
    "pycharm": {
     "name": "#%% md\n"
    }
   }
  },
  {
   "cell_type": "markdown",
   "source": [
    "Negative Momentum-Carry Test"
   ],
   "metadata": {
    "collapsed": false
   }
  },
  {
   "cell_type": "code",
   "execution_count": 140,
   "outputs": [],
   "source": [
    "negative_momentum_carry_v3_test = backtest_data[\n",
    "    (backtest_data[\"Momentum Rank\"] <= 1/3)\n",
    "].copy()\n",
    "negative_momentum_carry_v3_test[\"pick_adj_monthly_return\"] = negative_momentum_carry_v3_test[[\n",
    "    \"adj_monthly_return\",\n",
    "    \"c2_adj_monthly_return\",\n",
    "    \"c1_c2_carry_signal\"\n",
    "]].apply(\n",
    "    lambda x: x[0] if x[2] <= 0 else x[1],\n",
    "    axis=1\n",
    ")\n",
    "negative_momentum_carry_v3_test = negative_momentum_carry_v3_test.groupby([\"Year\", \"Month\"]).agg(y = (\"pick_adj_monthly_return\", \"mean\")).reset_index()"
   ],
   "metadata": {
    "collapsed": false,
    "pycharm": {
     "name": "#%%\n"
    }
   }
  },
  {
   "cell_type": "code",
   "execution_count": 141,
   "outputs": [],
   "source": [
    "negative_momentum_carry_v3_test[\"x\"] = negative_momentum_carry_v3_test[\"Year\"] + (negative_momentum_carry_v3_test[\"Month\"] - 1) / 12"
   ],
   "metadata": {
    "collapsed": false,
    "pycharm": {
     "name": "#%%\n"
    }
   }
  },
  {
   "cell_type": "code",
   "execution_count": 142,
   "outputs": [],
   "source": [
    "negative_momentum_carry_v3_test = negative_momentum_carry_v3_test.merge(ew_commodity_test[[\"x\"]], on=\"x\", how=\"outer\")\n",
    "negative_momentum_carry_v3_test.fillna(1, inplace=True)\n",
    "negative_momentum_carry_v3_test.sort_values(by=\"x\", inplace=True)"
   ],
   "metadata": {
    "collapsed": false,
    "pycharm": {
     "name": "#%%\n"
    }
   }
  },
  {
   "cell_type": "code",
   "execution_count": 143,
   "outputs": [
    {
     "data": {
      "text/plain": "               x         y\n0    1992.083333  0.973007\n1    1992.166667  1.006834\n2    1992.250000  0.982722\n3    1992.333333  0.997947\n4    1992.416667  1.035959\n..           ...       ...\n354  2021.583333  1.000699\n355  2021.666667  1.001853\n356  2021.750000  1.020135\n357  2021.833333  0.975646\n358  2021.916667  1.062613\n\n[359 rows x 2 columns]",
      "text/html": "<div>\n<style scoped>\n    .dataframe tbody tr th:only-of-type {\n        vertical-align: middle;\n    }\n\n    .dataframe tbody tr th {\n        vertical-align: top;\n    }\n\n    .dataframe thead th {\n        text-align: right;\n    }\n</style>\n<table border=\"1\" class=\"dataframe\">\n  <thead>\n    <tr style=\"text-align: right;\">\n      <th></th>\n      <th>x</th>\n      <th>y</th>\n    </tr>\n  </thead>\n  <tbody>\n    <tr>\n      <th>0</th>\n      <td>1992.083333</td>\n      <td>0.973007</td>\n    </tr>\n    <tr>\n      <th>1</th>\n      <td>1992.166667</td>\n      <td>1.006834</td>\n    </tr>\n    <tr>\n      <th>2</th>\n      <td>1992.250000</td>\n      <td>0.982722</td>\n    </tr>\n    <tr>\n      <th>3</th>\n      <td>1992.333333</td>\n      <td>0.997947</td>\n    </tr>\n    <tr>\n      <th>4</th>\n      <td>1992.416667</td>\n      <td>1.035959</td>\n    </tr>\n    <tr>\n      <th>...</th>\n      <td>...</td>\n      <td>...</td>\n    </tr>\n    <tr>\n      <th>354</th>\n      <td>2021.583333</td>\n      <td>1.000699</td>\n    </tr>\n    <tr>\n      <th>355</th>\n      <td>2021.666667</td>\n      <td>1.001853</td>\n    </tr>\n    <tr>\n      <th>356</th>\n      <td>2021.750000</td>\n      <td>1.020135</td>\n    </tr>\n    <tr>\n      <th>357</th>\n      <td>2021.833333</td>\n      <td>0.975646</td>\n    </tr>\n    <tr>\n      <th>358</th>\n      <td>2021.916667</td>\n      <td>1.062613</td>\n    </tr>\n  </tbody>\n</table>\n<p>359 rows × 2 columns</p>\n</div>"
     },
     "execution_count": 143,
     "metadata": {},
     "output_type": "execute_result"
    }
   ],
   "source": [
    "negative_momentum_carry_v3_test[[\"x\", \"y\"]]"
   ],
   "metadata": {
    "collapsed": false,
    "pycharm": {
     "name": "#%%\n"
    }
   }
  },
  {
   "cell_type": "code",
   "execution_count": 144,
   "outputs": [],
   "source": [
    "negative_momentum_carry_v3_test[\"y_cum\"] = (2 - negative_momentum_carry_v3_test[\"y\"]).cumprod()"
   ],
   "metadata": {
    "collapsed": false,
    "pycharm": {
     "name": "#%%\n"
    }
   }
  },
  {
   "cell_type": "code",
   "execution_count": 145,
   "outputs": [
    {
     "data": {
      "text/plain": "<matplotlib.axes._subplots.AxesSubplot at 0x26284f12448>"
     },
     "execution_count": 145,
     "metadata": {},
     "output_type": "execute_result"
    },
    {
     "data": {
      "text/plain": "<Figure size 432x288 with 1 Axes>",
      "image/png": "[encoded data removed]"
     },
     "metadata": {
      "needs_background": "light"
     },
     "output_type": "display_data"
    }
   ],
   "source": [
    "negative_momentum_carry_v3_test.plot.line(x=\"x\", y=\"y_cum\")"
   ],
   "metadata": {
    "collapsed": false,
    "pycharm": {
     "name": "#%%\n"
    }
   }
  },
  {
   "cell_type": "code",
   "execution_count": 146,
   "outputs": [
    {
     "data": {
      "text/plain": "                y\ncount  359.000000\nmean     0.999947\nstd      0.039411\nmin      0.857851\n25%      0.976090\n50%      1.000867\n75%      1.024511\nmax      1.116356",
      "text/html": "<div>\n<style scoped>\n    .dataframe tbody tr th:only-of-type {\n        vertical-align: middle;\n    }\n\n    .dataframe tbody tr th {\n        vertical-align: top;\n    }\n\n    .dataframe thead th {\n        text-align: right;\n    }\n</style>\n<table border=\"1\" class=\"dataframe\">\n  <thead>\n    <tr style=\"text-align: right;\">\n      <th></th>\n      <th>y</th>\n    </tr>\n  </thead>\n  <tbody>\n    <tr>\n      <th>count</th>\n      <td>359.000000</td>\n    </tr>\n    <tr>\n      <th>mean</th>\n      <td>0.999947</td>\n    </tr>\n    <tr>\n      <th>std</th>\n      <td>0.039411</td>\n    </tr>\n    <tr>\n      <th>min</th>\n      <td>0.857851</td>\n    </tr>\n    <tr>\n      <th>25%</th>\n      <td>0.976090</td>\n    </tr>\n    <tr>\n      <th>50%</th>\n      <td>1.000867</td>\n    </tr>\n    <tr>\n      <th>75%</th>\n      <td>1.024511</td>\n    </tr>\n    <tr>\n      <th>max</th>\n      <td>1.116356</td>\n    </tr>\n  </tbody>\n</table>\n</div>"
     },
     "execution_count": 146,
     "metadata": {},
     "output_type": "execute_result"
    }
   ],
   "source": [
    "negative_momentum_carry_v3_test[[\"y\"]].describe()"
   ],
   "metadata": {
    "collapsed": false,
    "pycharm": {
     "name": "#%%\n"
    }
   }
  },
  {
   "cell_type": "code",
   "execution_count": 147,
   "outputs": [
    {
     "data": {
      "text/plain": "<matplotlib.axes._subplots.AxesSubplot at 0x26284f75bc8>"
     },
     "execution_count": 147,
     "metadata": {},
     "output_type": "execute_result"
    },
    {
     "data": {
      "text/plain": "<Figure size 432x288 with 1 Axes>",
      "image/png": "[encoded data removed]"
     },
     "metadata": {
      "needs_background": "light"
     },
     "output_type": "display_data"
    }
   ],
   "source": [
    "negative_momentum_carry_v3_test[\"y\"].hist()"
   ],
   "metadata": {
    "collapsed": false,
    "pycharm": {
     "name": "#%%\n"
    }
   }
  },
  {
   "cell_type": "markdown",
   "source": [
    "Positive Momentum-Carry Test"
   ],
   "metadata": {
    "collapsed": false
   }
  },
  {
   "cell_type": "code",
   "execution_count": 148,
   "outputs": [],
   "source": [
    "positive_momentum_carry_v3_test = backtest_data[\n",
    "    (backtest_data[\"Momentum Rank\"] >= 2/3)\n",
    "].copy()\n",
    "positive_momentum_carry_v3_test[\"pick_adj_monthly_return\"] = positive_momentum_carry_v3_test[[\n",
    "    \"adj_monthly_return\",\n",
    "    \"c2_adj_monthly_return\",\n",
    "    \"c1_c2_carry_signal\"\n",
    "]].apply(\n",
    "    lambda x: x[0] if x[2] >= 0 else x[1],\n",
    "    axis=1\n",
    ")\n",
    "positive_momentum_carry_v3_test = positive_momentum_carry_v3_test.groupby([\"Year\", \"Month\"]).agg(y = (\"pick_adj_monthly_return\", \"mean\")).reset_index()"
   ],
   "metadata": {
    "collapsed": false,
    "pycharm": {
     "name": "#%%\n"
    }
   }
  },
  {
   "cell_type": "code",
   "execution_count": 149,
   "outputs": [],
   "source": [
    "positive_momentum_carry_v3_test[\"x\"] = positive_momentum_carry_v3_test[\"Year\"] + (positive_momentum_carry_v3_test[\"Month\"] - 1) / 12"
   ],
   "metadata": {
    "collapsed": false,
    "pycharm": {
     "name": "#%%\n"
    }
   }
  },
  {
   "cell_type": "code",
   "execution_count": 150,
   "outputs": [],
   "source": [
    "positive_momentum_carry_v3_test = positive_momentum_carry_v3_test.merge(ew_commodity_test[[\"x\"]], on=\"x\", how=\"outer\")\n",
    "positive_momentum_carry_v3_test.fillna(1, inplace=True)\n",
    "positive_momentum_carry_v3_test.sort_values(by=\"x\", inplace=True)"
   ],
   "metadata": {
    "collapsed": false,
    "pycharm": {
     "name": "#%%\n"
    }
   }
  },
  {
   "cell_type": "code",
   "execution_count": 151,
   "outputs": [
    {
     "data": {
      "text/plain": "               x         y\n0    1992.083333  1.015966\n1    1992.166667  1.032154\n2    1992.250000  1.045401\n3    1992.333333  1.049480\n4    1992.416667  0.993558\n..           ...       ...\n354  2021.583333  1.008977\n355  2021.666667  0.996984\n356  2021.750000  0.998075\n357  2021.833333  0.986423\n358  2021.916667  1.007119\n\n[359 rows x 2 columns]",
      "text/html": "<div>\n<style scoped>\n    .dataframe tbody tr th:only-of-type {\n        vertical-align: middle;\n    }\n\n    .dataframe tbody tr th {\n        vertical-align: top;\n    }\n\n    .dataframe thead th {\n        text-align: right;\n    }\n</style>\n<table border=\"1\" class=\"dataframe\">\n  <thead>\n    <tr style=\"text-align: right;\">\n      <th></th>\n      <th>x</th>\n      <th>y</th>\n    </tr>\n  </thead>\n  <tbody>\n    <tr>\n      <th>0</th>\n      <td>1992.083333</td>\n      <td>1.015966</td>\n    </tr>\n    <tr>\n      <th>1</th>\n      <td>1992.166667</td>\n      <td>1.032154</td>\n    </tr>\n    <tr>\n      <th>2</th>\n      <td>1992.250000</td>\n      <td>1.045401</td>\n    </tr>\n    <tr>\n      <th>3</th>\n      <td>1992.333333</td>\n      <td>1.049480</td>\n    </tr>\n    <tr>\n      <th>4</th>\n      <td>1992.416667</td>\n      <td>0.993558</td>\n    </tr>\n    <tr>\n      <th>...</th>\n      <td>...</td>\n      <td>...</td>\n    </tr>\n    <tr>\n      <th>354</th>\n      <td>2021.583333</td>\n      <td>1.008977</td>\n    </tr>\n    <tr>\n      <th>355</th>\n      <td>2021.666667</td>\n      <td>0.996984</td>\n    </tr>\n    <tr>\n      <th>356</th>\n      <td>2021.750000</td>\n      <td>0.998075</td>\n    </tr>\n    <tr>\n      <th>357</th>\n      <td>2021.833333</td>\n      <td>0.986423</td>\n    </tr>\n    <tr>\n      <th>358</th>\n      <td>2021.916667</td>\n      <td>1.007119</td>\n    </tr>\n  </tbody>\n</table>\n<p>359 rows × 2 columns</p>\n</div>"
     },
     "execution_count": 151,
     "metadata": {},
     "output_type": "execute_result"
    }
   ],
   "source": [
    "positive_momentum_carry_v3_test[[\"x\", \"y\"]]"
   ],
   "metadata": {
    "collapsed": false,
    "pycharm": {
     "name": "#%%\n"
    }
   }
  },
  {
   "cell_type": "code",
   "execution_count": 152,
   "outputs": [],
   "source": [
    "positive_momentum_carry_v3_test[\"y_cum\"] = positive_momentum_carry_v3_test[\"y\"].cumprod()"
   ],
   "metadata": {
    "collapsed": false,
    "pycharm": {
     "name": "#%%\n"
    }
   }
  },
  {
   "cell_type": "code",
   "execution_count": 153,
   "outputs": [
    {
     "data": {
      "text/plain": "<matplotlib.axes._subplots.AxesSubplot at 0x2628500acc8>"
     },
     "execution_count": 153,
     "metadata": {},
     "output_type": "execute_result"
    },
    {
     "data": {
      "text/plain": "<Figure size 432x288 with 1 Axes>",
      "image/png": "[encoded data removed]"
     },
     "metadata": {
      "needs_background": "light"
     },
     "output_type": "display_data"
    }
   ],
   "source": [
    "positive_momentum_carry_v3_test.plot.line(x=\"x\", y=\"y_cum\")"
   ],
   "metadata": {
    "collapsed": false,
    "pycharm": {
     "name": "#%%\n"
    }
   }
  },
  {
   "cell_type": "code",
   "execution_count": 154,
   "outputs": [
    {
     "data": {
      "text/plain": "                y\ncount  359.000000\nmean     1.007229\nstd      0.040275\nmin      0.782157\n25%      0.984408\n50%      1.008639\n75%      1.030200\nmax      1.139191",
      "text/html": "<div>\n<style scoped>\n    .dataframe tbody tr th:only-of-type {\n        vertical-align: middle;\n    }\n\n    .dataframe tbody tr th {\n        vertical-align: top;\n    }\n\n    .dataframe thead th {\n        text-align: right;\n    }\n</style>\n<table border=\"1\" class=\"dataframe\">\n  <thead>\n    <tr style=\"text-align: right;\">\n      <th></th>\n      <th>y</th>\n    </tr>\n  </thead>\n  <tbody>\n    <tr>\n      <th>count</th>\n      <td>359.000000</td>\n    </tr>\n    <tr>\n      <th>mean</th>\n      <td>1.007229</td>\n    </tr>\n    <tr>\n      <th>std</th>\n      <td>0.040275</td>\n    </tr>\n    <tr>\n      <th>min</th>\n      <td>0.782157</td>\n    </tr>\n    <tr>\n      <th>25%</th>\n      <td>0.984408</td>\n    </tr>\n    <tr>\n      <th>50%</th>\n      <td>1.008639</td>\n    </tr>\n    <tr>\n      <th>75%</th>\n      <td>1.030200</td>\n    </tr>\n    <tr>\n      <th>max</th>\n      <td>1.139191</td>\n    </tr>\n  </tbody>\n</table>\n</div>"
     },
     "execution_count": 154,
     "metadata": {},
     "output_type": "execute_result"
    }
   ],
   "source": [
    "positive_momentum_carry_v3_test[[\"y\"]].describe()"
   ],
   "metadata": {
    "collapsed": false,
    "pycharm": {
     "name": "#%%\n"
    }
   }
  },
  {
   "cell_type": "code",
   "execution_count": 155,
   "outputs": [
    {
     "data": {
      "text/plain": "<matplotlib.axes._subplots.AxesSubplot at 0x2628507d0c8>"
     },
     "execution_count": 155,
     "metadata": {},
     "output_type": "execute_result"
    },
    {
     "data": {
      "text/plain": "<Figure size 432x288 with 1 Axes>",
      "image/png": "[encoded data removed]"
     },
     "metadata": {
      "needs_background": "light"
     },
     "output_type": "display_data"
    }
   ],
   "source": [
    "positive_momentum_carry_v3_test[\"y\"].hist()"
   ],
   "metadata": {
    "collapsed": false,
    "pycharm": {
     "name": "#%%\n"
    }
   }
  },
  {
   "cell_type": "markdown",
   "source": [
    "Combined Carry Momentum Test"
   ],
   "metadata": {
    "collapsed": false
   }
  },
  {
   "cell_type": "code",
   "execution_count": 156,
   "outputs": [],
   "source": [
    "combined_carry_momentum_v3_test = negative_momentum_carry_v3_test[[\"x\", \"y\"]].merge(positive_momentum_carry_v3_test[[\"x\", \"y\"]], on=\"x\", how=\"outer\")"
   ],
   "metadata": {
    "collapsed": false,
    "pycharm": {
     "name": "#%%\n"
    }
   }
  },
  {
   "cell_type": "code",
   "execution_count": 157,
   "outputs": [],
   "source": [
    "combined_carry_momentum_v3_test = combined_carry_momentum_v3_test.merge(ew_commodity_test[[\"x\"]], on=\"x\", how=\"outer\")\n",
    "combined_carry_momentum_v3_test.fillna(1, inplace=True)\n",
    "combined_carry_momentum_v3_test.sort_values(by=\"x\", inplace=True)"
   ],
   "metadata": {
    "collapsed": false,
    "pycharm": {
     "name": "#%%\n"
    }
   }
  },
  {
   "cell_type": "code",
   "execution_count": 158,
   "outputs": [],
   "source": [
    "combined_carry_momentum_v3_test[\"y\"] = (2 - combined_carry_momentum_v3_test[\"y_x\"] + combined_carry_momentum_v3_test[\"y_y\"]) / 2"
   ],
   "metadata": {
    "collapsed": false,
    "pycharm": {
     "name": "#%%\n"
    }
   }
  },
  {
   "cell_type": "code",
   "execution_count": 159,
   "outputs": [
    {
     "data": {
      "text/plain": "               x         y\n0    1992.083333  1.021479\n1    1992.166667  1.012660\n2    1992.250000  1.031340\n3    1992.333333  1.025766\n4    1992.416667  0.978800\n..           ...       ...\n354  2021.583333  1.004139\n355  2021.666667  0.997566\n356  2021.750000  0.988970\n357  2021.833333  1.005389\n358  2021.916667  0.972253\n\n[359 rows x 2 columns]",
      "text/html": "<div>\n<style scoped>\n    .dataframe tbody tr th:only-of-type {\n        vertical-align: middle;\n    }\n\n    .dataframe tbody tr th {\n        vertical-align: top;\n    }\n\n    .dataframe thead th {\n        text-align: right;\n    }\n</style>\n<table border=\"1\" class=\"dataframe\">\n  <thead>\n    <tr style=\"text-align: right;\">\n      <th></th>\n      <th>x</th>\n      <th>y</th>\n    </tr>\n  </thead>\n  <tbody>\n    <tr>\n      <th>0</th>\n      <td>1992.083333</td>\n      <td>1.021479</td>\n    </tr>\n    <tr>\n      <th>1</th>\n      <td>1992.166667</td>\n      <td>1.012660</td>\n    </tr>\n    <tr>\n      <th>2</th>\n      <td>1992.250000</td>\n      <td>1.031340</td>\n    </tr>\n    <tr>\n      <th>3</th>\n      <td>1992.333333</td>\n      <td>1.025766</td>\n    </tr>\n    <tr>\n      <th>4</th>\n      <td>1992.416667</td>\n      <td>0.978800</td>\n    </tr>\n    <tr>\n      <th>...</th>\n      <td>...</td>\n      <td>...</td>\n    </tr>\n    <tr>\n      <th>354</th>\n      <td>2021.583333</td>\n      <td>1.004139</td>\n    </tr>\n    <tr>\n      <th>355</th>\n      <td>2021.666667</td>\n      <td>0.997566</td>\n    </tr>\n    <tr>\n      <th>356</th>\n      <td>2021.750000</td>\n      <td>0.988970</td>\n    </tr>\n    <tr>\n      <th>357</th>\n      <td>2021.833333</td>\n      <td>1.005389</td>\n    </tr>\n    <tr>\n      <th>358</th>\n      <td>2021.916667</td>\n      <td>0.972253</td>\n    </tr>\n  </tbody>\n</table>\n<p>359 rows × 2 columns</p>\n</div>"
     },
     "execution_count": 159,
     "metadata": {},
     "output_type": "execute_result"
    }
   ],
   "source": [
    "combined_carry_momentum_v3_test[[\"x\", \"y\"]]"
   ],
   "metadata": {
    "collapsed": false,
    "pycharm": {
     "name": "#%%\n"
    }
   }
  },
  {
   "cell_type": "code",
   "execution_count": 160,
   "outputs": [],
   "source": [
    "combined_carry_momentum_v3_test[\"y_cum\"] = combined_carry_momentum_v3_test[\"y\"].cumprod()"
   ],
   "metadata": {
    "collapsed": false,
    "pycharm": {
     "name": "#%%\n"
    }
   }
  },
  {
   "cell_type": "code",
   "execution_count": 161,
   "outputs": [
    {
     "data": {
      "text/plain": "<matplotlib.axes._subplots.AxesSubplot at 0x26285125c88>"
     },
     "execution_count": 161,
     "metadata": {},
     "output_type": "execute_result"
    },
    {
     "data": {
      "text/plain": "<Figure size 432x288 with 1 Axes>",
      "image/png": "[encoded data removed]"
     },
     "metadata": {
      "needs_background": "light"
     },
     "output_type": "display_data"
    }
   ],
   "source": [
    "combined_carry_momentum_v3_test.plot.line(x=\"x\", y=\"y_cum\")"
   ],
   "metadata": {
    "collapsed": false,
    "pycharm": {
     "name": "#%%\n"
    }
   }
  },
  {
   "cell_type": "code",
   "execution_count": 162,
   "outputs": [
    {
     "data": {
      "text/plain": "                y\ncount  359.000000\nmean     1.003641\nstd      0.022965\nmin      0.912757\n25%      0.990276\n50%      1.002880\n75%      1.018077\nmax      1.074134",
      "text/html": "<div>\n<style scoped>\n    .dataframe tbody tr th:only-of-type {\n        vertical-align: middle;\n    }\n\n    .dataframe tbody tr th {\n        vertical-align: top;\n    }\n\n    .dataframe thead th {\n        text-align: right;\n    }\n</style>\n<table border=\"1\" class=\"dataframe\">\n  <thead>\n    <tr style=\"text-align: right;\">\n      <th></th>\n      <th>y</th>\n    </tr>\n  </thead>\n  <tbody>\n    <tr>\n      <th>count</th>\n      <td>359.000000</td>\n    </tr>\n    <tr>\n      <th>mean</th>\n      <td>1.003641</td>\n    </tr>\n    <tr>\n      <th>std</th>\n      <td>0.022965</td>\n    </tr>\n    <tr>\n      <th>min</th>\n      <td>0.912757</td>\n    </tr>\n    <tr>\n      <th>25%</th>\n      <td>0.990276</td>\n    </tr>\n    <tr>\n      <th>50%</th>\n      <td>1.002880</td>\n    </tr>\n    <tr>\n      <th>75%</th>\n      <td>1.018077</td>\n    </tr>\n    <tr>\n      <th>max</th>\n      <td>1.074134</td>\n    </tr>\n  </tbody>\n</table>\n</div>"
     },
     "execution_count": 162,
     "metadata": {},
     "output_type": "execute_result"
    }
   ],
   "source": [
    "combined_carry_momentum_v3_test[[\"y\"]].describe()"
   ],
   "metadata": {
    "collapsed": false,
    "pycharm": {
     "name": "#%%\n"
    }
   }
  },
  {
   "cell_type": "code",
   "execution_count": 163,
   "outputs": [
    {
     "data": {
      "text/plain": "<matplotlib.axes._subplots.AxesSubplot at 0x262851a8e48>"
     },
     "execution_count": 163,
     "metadata": {},
     "output_type": "execute_result"
    },
    {
     "data": {
      "text/plain": "<Figure size 432x288 with 1 Axes>",
      "image/png": "[encoded data removed]"
     },
     "metadata": {
      "needs_background": "light"
     },
     "output_type": "display_data"
    }
   ],
   "source": [
    "combined_carry_momentum_v3_test[\"y\"].hist()"
   ],
   "metadata": {
    "collapsed": false,
    "pycharm": {
     "name": "#%%\n"
    }
   }
  },
  {
   "cell_type": "markdown",
   "source": [
    "# Output Plots"
   ],
   "metadata": {
    "collapsed": false,
    "pycharm": {
     "name": "#%% md\n"
    }
   }
  },
  {
   "cell_type": "code",
   "execution_count": 166,
   "outputs": [],
   "source": [
    "combined_carry_test.to_csv(\"combined_carry_test.csv\", index=False)\n",
    "ew_commodity_test.to_csv(\"ew_test.csv\", index=False)\n",
    "combined_momentum_test.to_csv(\"combined_momentum_test.csv\", index=False)\n",
    "combined_carry_momentum_test.to_csv(\"combined_carry_momentum_test.csv\", index=False)\n",
    "combined_carry_momentum_v2_test.to_csv(\"combined_carry_momentum_v2_test.csv\", index=False)\n",
    "combined_carry_momentum_v3_test.to_csv(\"combined_carry_momentum_v3_test.csv\", index=False)\n",
    "negative_carry_momentum_test.to_csv(\"negative_carry_momentum_test.csv\", index=False)"
   ],
   "metadata": {
    "collapsed": false,
    "pycharm": {
     "name": "#%%\n"
    }
   }
  },
  {
   "cell_type": "code",
   "execution_count": 167,
   "outputs": [
    {
     "data": {
      "text/plain": "<Figure size 432x288 with 1 Axes>",
      "image/png": "[encoded data removed]"
     },
     "metadata": {
      "needs_background": "light"
     },
     "output_type": "display_data"
    }
   ],
   "source": [
    "import matplotlib.pyplot as plt\n",
    "import numpy as np\n",
    "\n",
    "fig, ax = plt.subplots()\n",
    "ax.plot(combined_carry_test[\"x\"], combined_carry_test[\"y_cum\"])\n",
    "\n",
    "ax.set(xlabel='', ylabel='Cumulative Total Return (start at 1)',\n",
    "       title='Basic Commodity Carry Strategy')\n",
    "\n",
    "ax.grid()\n",
    "\n",
    "fig.savefig(\"basic_carry_cum_return.png\")\n",
    "plt.show()"
   ],
   "metadata": {
    "collapsed": false,
    "pycharm": {
     "name": "#%%\n"
    }
   }
  },
  {
   "cell_type": "code",
   "execution_count": 168,
   "outputs": [
    {
     "data": {
      "text/plain": "<Figure size 432x288 with 1 Axes>",
      "image/png": "[encoded data removed]"
     },
     "metadata": {
      "needs_background": "light"
     },
     "output_type": "display_data"
    }
   ],
   "source": [
    "import matplotlib.pyplot as plt\n",
    "import numpy as np\n",
    "\n",
    "fig, ax = plt.subplots()\n",
    "ax.plot(ew_commodity_test[\"x\"], ew_commodity_test[\"y_cum\"])\n",
    "\n",
    "ax.set(xlabel='', ylabel='Cumulative Total Return (start at 1)',\n",
    "       title='Equal Weighted Long-Commodity Strategy')\n",
    "\n",
    "ax.grid()\n",
    "\n",
    "fig.savefig(\"ew_long_commodity_cum_return.png\")\n",
    "plt.show()"
   ],
   "metadata": {
    "collapsed": false,
    "pycharm": {
     "name": "#%%\n"
    }
   }
  },
  {
   "cell_type": "code",
   "execution_count": 169,
   "outputs": [
    {
     "data": {
      "text/plain": "<Figure size 432x288 with 1 Axes>",
      "image/png": "[encoded data removed]"
     },
     "metadata": {
      "needs_background": "light"
     },
     "output_type": "display_data"
    }
   ],
   "source": [
    "fig, ax = plt.subplots()\n",
    "ax.plot(combined_momentum_test[\"x\"], combined_momentum_test[\"y_cum\"])\n",
    "\n",
    "ax.set(xlabel='', ylabel='Cumulative Total Return (start at 1)',\n",
    "       title='Basic Commodity Momentum Strategy')\n",
    "\n",
    "ax.grid()\n",
    "\n",
    "fig.savefig(\"basic_momentum_cum_return.png\")\n",
    "plt.show()"
   ],
   "metadata": {
    "collapsed": false,
    "pycharm": {
     "name": "#%%\n"
    }
   }
  },
  {
   "cell_type": "code",
   "execution_count": 170,
   "outputs": [
    {
     "data": {
      "text/plain": "<Figure size 432x288 with 1 Axes>",
      "image/png": "[encoded data removed]"
     },
     "metadata": {
      "needs_background": "light"
     },
     "output_type": "display_data"
    }
   ],
   "source": [
    "fig, ax = plt.subplots()\n",
    "ax.plot(combined_carry_momentum_test[\"x\"], combined_carry_momentum_test[\"y_cum\"])\n",
    "\n",
    "ax.set(xlabel='', ylabel='Cumulative Total Return (start at 1)',\n",
    "       title='Basic Commodity Carry-Momentum Strategy')\n",
    "\n",
    "ax.grid()\n",
    "\n",
    "fig.savefig(\"basic_carry_momentum_cum_return.png\")\n",
    "plt.show()"
   ],
   "metadata": {
    "collapsed": false,
    "pycharm": {
     "name": "#%%\n"
    }
   }
  },
  {
   "cell_type": "code",
   "execution_count": 172,
   "outputs": [
    {
     "data": {
      "text/plain": "<Figure size 432x288 with 1 Axes>",
      "image/png": "[encoded data removed]"
     },
     "metadata": {
      "needs_background": "light"
     },
     "output_type": "display_data"
    }
   ],
   "source": [
    "fig, ax = plt.subplots()\n",
    "ax.plot(combined_carry_momentum_v3_test[\"x\"], combined_carry_momentum_v3_test[\"y_cum\"])\n",
    "\n",
    "ax.set(xlabel='', ylabel='Cumulative Total Return (start at 1)',\n",
    "       title='Commodity Momentum-Carry Strategy')\n",
    "\n",
    "ax.grid()\n",
    "\n",
    "fig.savefig(\"momentum_carry_cum_return.png\")\n",
    "plt.show()"
   ],
   "metadata": {
    "collapsed": false,
    "pycharm": {
     "name": "#%%\n"
    }
   }
  }
 ],
 "metadata": {
  "kernelspec": {
   "display_name": "Python 3",
   "language": "python",
   "name": "python3"
  },
  "language_info": {
   "codemirror_mode": {
    "name": "ipython",
    "version": 2
   },
   "file_extension": ".py",
   "mimetype": "text/x-python",
   "name": "python",
   "nbconvert_exporter": "python",
   "pygments_lexer": "ipython2",
   "version": "2.7.6"
  }
 },
 "nbformat": 4,
 "nbformat_minor": 0
}