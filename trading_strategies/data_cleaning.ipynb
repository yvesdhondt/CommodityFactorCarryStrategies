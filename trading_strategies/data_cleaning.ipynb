{
 "cells": [
  {
   "cell_type": "code",
   "execution_count": 383,
   "outputs": [],
   "source": [
    "import eikon as ek\n",
    "import numpy as np\n",
    "import pandas as pd\n",
    "import json\n",
    "import datetime as dt\n",
    "import traceback\n",
    "import math"
   ],
   "metadata": {
    "collapsed": false,
    "pycharm": {
     "name": "#%%\n"
    }
   }
  },
  {
   "cell_type": "markdown",
   "source": [
    "# Load & Clean Data"
   ],
   "metadata": {
    "collapsed": false
   }
  },
  {
   "cell_type": "markdown",
   "source": [
    "First we merge all the price data together"
   ],
   "metadata": {
    "collapsed": false
   }
  },
  {
   "cell_type": "code",
   "execution_count": 384,
   "outputs": [],
   "source": [
    "t1 = pd.read_csv(\"price_data_c1.csv\")\n",
    "t2 = pd.read_csv(\"price_data_c2.csv\")\n",
    "t3 = pd.read_csv(\"price_data_c3.csv\")\n",
    "t4 = pd.read_csv(\"price_data_c4.csv\")\n",
    "\n",
    "t1.drop(columns=[\"Unnamed: 0\"], inplace=True)\n",
    "t2.drop(columns=[\"Unnamed: 0\"], inplace=True)\n",
    "t3.drop(columns=[\"Unnamed: 0\"], inplace=True)\n",
    "t4.drop(columns=[\"Unnamed: 0\"], inplace=True)\n",
    "\n",
    "t1[\"Instrument\"] = t1[\"Instrument\"].apply(lambda x: x[:-2])\n",
    "t2[\"Instrument\"] = t2[\"Instrument\"].apply(lambda x: x[:-2])\n",
    "t3[\"Instrument\"] = t3[\"Instrument\"].apply(lambda x: x[:-2])\n",
    "t4[\"Instrument\"] = t4[\"Instrument\"].apply(lambda x: x[:-2])\n",
    "\n",
    "t2.rename(\n",
    "    columns={\n",
    "        \"Accumulated Volume\": \"C2 - Accumulated Volume\",\n",
    "        \"Close Price\": \"C2 - Close Price\"\n",
    "    },\n",
    "    inplace=True\n",
    ")\n",
    "\n",
    "t3.rename(\n",
    "    columns={\n",
    "        \"Accumulated Volume\": \"C3 - Accumulated Volume\",\n",
    "        \"Close Price\": \"C3 - Close Price\"\n",
    "    },\n",
    "    inplace=True\n",
    ")\n",
    "\n",
    "t4.rename(\n",
    "    columns={\n",
    "        \"Accumulated Volume\": \"C4 - Accumulated Volume\",\n",
    "        \"Close Price\": \"C4 - Close Price\"\n",
    "    },\n",
    "    inplace=True\n",
    ")"
   ],
   "metadata": {
    "collapsed": false,
    "pycharm": {
     "name": "#%%\n"
    }
   }
  },
  {
   "cell_type": "code",
   "execution_count": 385,
   "outputs": [],
   "source": [
    "price_data = t1.merge(t2, how=\"left\").merge(t3, how=\"left\").merge(t4, how=\"left\")\n",
    "price_data.Date = pd.to_datetime(price_data.Date)\n",
    "price_data = price_data[~pd.isnull(price_data[\"C2 - Close Price\"])]"
   ],
   "metadata": {
    "collapsed": false,
    "pycharm": {
     "name": "#%%\n"
    }
   }
  },
  {
   "cell_type": "code",
   "execution_count": 386,
   "outputs": [
    {
     "data": {
      "text/plain": "27"
     },
     "execution_count": 386,
     "metadata": {},
     "output_type": "execute_result"
    }
   ],
   "source": [
    "len(price_data.Instrument.unique())"
   ],
   "metadata": {
    "collapsed": false,
    "pycharm": {
     "name": "#%%\n"
    }
   }
  },
  {
   "cell_type": "code",
   "execution_count": 387,
   "outputs": [
    {
     "data": {
      "text/plain": "Timestamp('1991-09-26 00:00:00')"
     },
     "execution_count": 387,
     "metadata": {},
     "output_type": "execute_result"
    }
   ],
   "source": [
    "price_data.Date.min()"
   ],
   "metadata": {
    "collapsed": false,
    "pycharm": {
     "name": "#%%\n"
    }
   }
  },
  {
   "cell_type": "code",
   "execution_count": 388,
   "outputs": [
    {
     "data": {
      "text/plain": "Timestamp('2021-12-31 00:00:00')"
     },
     "execution_count": 388,
     "metadata": {},
     "output_type": "execute_result"
    }
   ],
   "source": [
    "price_data.Date.max()"
   ],
   "metadata": {
    "collapsed": false,
    "pycharm": {
     "name": "#%%\n"
    }
   }
  },
  {
   "cell_type": "code",
   "execution_count": 389,
   "outputs": [
    {
     "data": {
      "text/plain": "       Instrument       Date  Close Price  Accumulated Volume  \\\n18             SB 1991-10-01        8.880                15.0   \n19             SB 1991-10-02        8.850               152.0   \n20             SB 1991-10-03        8.550                82.0   \n21             SB 1991-10-04        8.660                52.0   \n22             SB 1991-10-07        8.750                27.0   \n...           ...        ...          ...                 ...   \n184232         SI 2021-12-27       22.680                 1.0   \n184233         SI 2021-12-28       23.150               211.0   \n184234         SI 2021-12-29       22.635               172.0   \n184235         SI 2021-12-30       23.070               344.0   \n184236         SI 2021-12-31       23.310               230.0   \n\n        C2 - Close Price  C2 - Accumulated Volume  C3 - Close Price  \\\n18                 8.770                   2007.0             8.730   \n19                 8.740                   1317.0             8.720   \n20                 8.480                   3825.0             8.480   \n21                 8.590                    915.0             8.550   \n22                 8.650                   1109.0             8.640   \n...                  ...                      ...               ...   \n184232            23.060                 108793.0            23.100   \n184233            23.015                  73451.0            23.100   \n184234            22.825                  98976.0            22.860   \n184235            23.100                  75359.0            23.075   \n184236            23.345                    392.0            23.355   \n\n        C3 - Accumulated Volume  C4 - Close Price  C4 - Accumulated Volume  \n18                        549.0             8.730                    549.0  \n19                        430.0             8.720                    430.0  \n20                        865.0             8.480                    865.0  \n21                         74.0             8.550                     74.0  \n22                        110.0             8.640                    110.0  \n...                         ...               ...                      ...  \n184232                    111.0            23.100                    111.0  \n184233                    160.0            23.100                    160.0  \n184234                     45.0            22.860                     45.0  \n184235                    109.0            23.075                    109.0  \n184236                     96.0            23.355                     96.0  \n\n[169158 rows x 10 columns]",
      "text/html": "<div>\n<style scoped>\n    .dataframe tbody tr th:only-of-type {\n        vertical-align: middle;\n    }\n\n    .dataframe tbody tr th {\n        vertical-align: top;\n    }\n\n    .dataframe thead th {\n        text-align: right;\n    }\n</style>\n<table border=\"1\" class=\"dataframe\">\n  <thead>\n    <tr style=\"text-align: right;\">\n      <th></th>\n      <th>Instrument</th>\n      <th>Date</th>\n      <th>Close Price</th>\n      <th>Accumulated Volume</th>\n      <th>C2 - Close Price</th>\n      <th>C2 - Accumulated Volume</th>\n      <th>C3 - Close Price</th>\n      <th>C3 - Accumulated Volume</th>\n      <th>C4 - Close Price</th>\n      <th>C4 - Accumulated Volume</th>\n    </tr>\n  </thead>\n  <tbody>\n    <tr>\n      <th>18</th>\n      <td>SB</td>\n      <td>1991-10-01</td>\n      <td>8.880</td>\n      <td>15.0</td>\n      <td>8.770</td>\n      <td>2007.0</td>\n      <td>8.730</td>\n      <td>549.0</td>\n      <td>8.730</td>\n      <td>549.0</td>\n    </tr>\n    <tr>\n      <th>19</th>\n      <td>SB</td>\n      <td>1991-10-02</td>\n      <td>8.850</td>\n      <td>152.0</td>\n      <td>8.740</td>\n      <td>1317.0</td>\n      <td>8.720</td>\n      <td>430.0</td>\n      <td>8.720</td>\n      <td>430.0</td>\n    </tr>\n    <tr>\n      <th>20</th>\n      <td>SB</td>\n      <td>1991-10-03</td>\n      <td>8.550</td>\n      <td>82.0</td>\n      <td>8.480</td>\n      <td>3825.0</td>\n      <td>8.480</td>\n      <td>865.0</td>\n      <td>8.480</td>\n      <td>865.0</td>\n    </tr>\n    <tr>\n      <th>21</th>\n      <td>SB</td>\n      <td>1991-10-04</td>\n      <td>8.660</td>\n      <td>52.0</td>\n      <td>8.590</td>\n      <td>915.0</td>\n      <td>8.550</td>\n      <td>74.0</td>\n      <td>8.550</td>\n      <td>74.0</td>\n    </tr>\n    <tr>\n      <th>22</th>\n      <td>SB</td>\n      <td>1991-10-07</td>\n      <td>8.750</td>\n      <td>27.0</td>\n      <td>8.650</td>\n      <td>1109.0</td>\n      <td>8.640</td>\n      <td>110.0</td>\n      <td>8.640</td>\n      <td>110.0</td>\n    </tr>\n    <tr>\n      <th>...</th>\n      <td>...</td>\n      <td>...</td>\n      <td>...</td>\n      <td>...</td>\n      <td>...</td>\n      <td>...</td>\n      <td>...</td>\n      <td>...</td>\n      <td>...</td>\n      <td>...</td>\n    </tr>\n    <tr>\n      <th>184232</th>\n      <td>SI</td>\n      <td>2021-12-27</td>\n      <td>22.680</td>\n      <td>1.0</td>\n      <td>23.060</td>\n      <td>108793.0</td>\n      <td>23.100</td>\n      <td>111.0</td>\n      <td>23.100</td>\n      <td>111.0</td>\n    </tr>\n    <tr>\n      <th>184233</th>\n      <td>SI</td>\n      <td>2021-12-28</td>\n      <td>23.150</td>\n      <td>211.0</td>\n      <td>23.015</td>\n      <td>73451.0</td>\n      <td>23.100</td>\n      <td>160.0</td>\n      <td>23.100</td>\n      <td>160.0</td>\n    </tr>\n    <tr>\n      <th>184234</th>\n      <td>SI</td>\n      <td>2021-12-29</td>\n      <td>22.635</td>\n      <td>172.0</td>\n      <td>22.825</td>\n      <td>98976.0</td>\n      <td>22.860</td>\n      <td>45.0</td>\n      <td>22.860</td>\n      <td>45.0</td>\n    </tr>\n    <tr>\n      <th>184235</th>\n      <td>SI</td>\n      <td>2021-12-30</td>\n      <td>23.070</td>\n      <td>344.0</td>\n      <td>23.100</td>\n      <td>75359.0</td>\n      <td>23.075</td>\n      <td>109.0</td>\n      <td>23.075</td>\n      <td>109.0</td>\n    </tr>\n    <tr>\n      <th>184236</th>\n      <td>SI</td>\n      <td>2021-12-31</td>\n      <td>23.310</td>\n      <td>230.0</td>\n      <td>23.345</td>\n      <td>392.0</td>\n      <td>23.355</td>\n      <td>96.0</td>\n      <td>23.355</td>\n      <td>96.0</td>\n    </tr>\n  </tbody>\n</table>\n<p>169158 rows × 10 columns</p>\n</div>"
     },
     "execution_count": 389,
     "metadata": {},
     "output_type": "execute_result"
    }
   ],
   "source": [
    "price_data"
   ],
   "metadata": {
    "collapsed": false,
    "pycharm": {
     "name": "#%%\n"
    }
   }
  },
  {
   "cell_type": "code",
   "execution_count": 390,
   "outputs": [],
   "source": [
    "price_data[price_data.Instrument == \"SB\"].to_csv(\"sugar_no_11_test.csv\")"
   ],
   "metadata": {
    "collapsed": false,
    "pycharm": {
     "name": "#%%\n"
    }
   }
  },
  {
   "cell_type": "code",
   "execution_count": 391,
   "outputs": [
    {
     "data": {
      "text/plain": "Index(['Instrument', 'Date', 'Close Price', 'Accumulated Volume',\n       'C2 - Close Price', 'C2 - Accumulated Volume', 'C3 - Close Price',\n       'C3 - Accumulated Volume', 'C4 - Close Price',\n       'C4 - Accumulated Volume'],\n      dtype='object')"
     },
     "execution_count": 391,
     "metadata": {},
     "output_type": "execute_result"
    }
   ],
   "source": [
    "price_data.columns"
   ],
   "metadata": {
    "collapsed": false,
    "pycharm": {
     "name": "#%%\n"
    }
   }
  },
  {
   "cell_type": "markdown",
   "source": [
    "Next, we perform manual sanity checks to see from which dates we can start our analysis for each futures contract"
   ],
   "metadata": {
    "collapsed": false
   }
  },
  {
   "cell_type": "code",
   "execution_count": 392,
   "outputs": [],
   "source": [
    "price_data.to_csv(\"price_data_check.csv\", index=False)"
   ],
   "metadata": {
    "collapsed": false,
    "pycharm": {
     "name": "#%%\n"
    }
   }
  },
  {
   "cell_type": "code",
   "execution_count": 393,
   "outputs": [],
   "source": [
    "price_data = price_data[\n",
    "    (price_data.Instrument != \"RB\") |\n",
    "    (price_data.Date >= pd.to_datetime(\"2006-04-03\"))\n",
    "]"
   ],
   "metadata": {
    "collapsed": false,
    "pycharm": {
     "name": "#%%\n"
    }
   }
  },
  {
   "cell_type": "code",
   "execution_count": 394,
   "outputs": [],
   "source": [
    "price_data = price_data[\n",
    "    (price_data.Instrument != \"SAF\") |\n",
    "    (price_data.Date >= pd.to_datetime(\"1995-01-01\"))\n",
    "]"
   ],
   "metadata": {
    "collapsed": false,
    "pycharm": {
     "name": "#%%\n"
    }
   }
  },
  {
   "cell_type": "code",
   "execution_count": 395,
   "outputs": [],
   "source": [
    "price_data = price_data[\n",
    "    (price_data.Instrument != \"SI\") |\n",
    "    (price_data.Date >= pd.to_datetime(\"1991-11-11\"))\n",
    "]"
   ],
   "metadata": {
    "collapsed": false,
    "pycharm": {
     "name": "#%%\n"
    }
   }
  },
  {
   "cell_type": "code",
   "execution_count": 396,
   "outputs": [],
   "source": [
    "start_dates = price_data.groupby(\"Instrument\").agg(min_date=(\"Date\",\"min\")).reset_index()"
   ],
   "metadata": {
    "collapsed": false,
    "pycharm": {
     "name": "#%%\n"
    }
   }
  },
  {
   "cell_type": "code",
   "execution_count": 397,
   "outputs": [],
   "source": [
    "# Each contract starts 1 year after its manually validated dates\n",
    "start_dates.min_date = start_dates.min_date.apply(lambda x: x.year + 1)"
   ],
   "metadata": {
    "collapsed": false,
    "pycharm": {
     "name": "#%%\n"
    }
   }
  },
  {
   "cell_type": "code",
   "execution_count": 398,
   "outputs": [
    {
     "data": {
      "text/plain": "   Instrument  min_date\n0           C      1992\n1          CC      1992\n2          CL      1992\n3          CT      1992\n4          FC      1992\n5          GC      1992\n6          HG      1992\n7          HO      1992\n8         ICF      2000\n9          KC      1992\n10         KW      1992\n11         LC      1992\n12        LCO      1992\n13        LGO      1992\n14         LH      1992\n15        LHO      2007\n16        LSU      1992\n17         NG      1992\n18         RB      2007\n19          S      1992\n20        SAF      1996\n21         SB      1992\n22         SI      1992\n23        SNI      2016\n24        SPB      2012\n25        SZN      2008\n26          W      1992",
      "text/html": "<div>\n<style scoped>\n    .dataframe tbody tr th:only-of-type {\n        vertical-align: middle;\n    }\n\n    .dataframe tbody tr th {\n        vertical-align: top;\n    }\n\n    .dataframe thead th {\n        text-align: right;\n    }\n</style>\n<table border=\"1\" class=\"dataframe\">\n  <thead>\n    <tr style=\"text-align: right;\">\n      <th></th>\n      <th>Instrument</th>\n      <th>min_date</th>\n    </tr>\n  </thead>\n  <tbody>\n    <tr>\n      <th>0</th>\n      <td>C</td>\n      <td>1992</td>\n    </tr>\n    <tr>\n      <th>1</th>\n      <td>CC</td>\n      <td>1992</td>\n    </tr>\n    <tr>\n      <th>2</th>\n      <td>CL</td>\n      <td>1992</td>\n    </tr>\n    <tr>\n      <th>3</th>\n      <td>CT</td>\n      <td>1992</td>\n    </tr>\n    <tr>\n      <th>4</th>\n      <td>FC</td>\n      <td>1992</td>\n    </tr>\n    <tr>\n      <th>5</th>\n      <td>GC</td>\n      <td>1992</td>\n    </tr>\n    <tr>\n      <th>6</th>\n      <td>HG</td>\n      <td>1992</td>\n    </tr>\n    <tr>\n      <th>7</th>\n      <td>HO</td>\n      <td>1992</td>\n    </tr>\n    <tr>\n      <th>8</th>\n      <td>ICF</td>\n      <td>2000</td>\n    </tr>\n    <tr>\n      <th>9</th>\n      <td>KC</td>\n      <td>1992</td>\n    </tr>\n    <tr>\n      <th>10</th>\n      <td>KW</td>\n      <td>1992</td>\n    </tr>\n    <tr>\n      <th>11</th>\n      <td>LC</td>\n      <td>1992</td>\n    </tr>\n    <tr>\n      <th>12</th>\n      <td>LCO</td>\n      <td>1992</td>\n    </tr>\n    <tr>\n      <th>13</th>\n      <td>LGO</td>\n      <td>1992</td>\n    </tr>\n    <tr>\n      <th>14</th>\n      <td>LH</td>\n      <td>1992</td>\n    </tr>\n    <tr>\n      <th>15</th>\n      <td>LHO</td>\n      <td>2007</td>\n    </tr>\n    <tr>\n      <th>16</th>\n      <td>LSU</td>\n      <td>1992</td>\n    </tr>\n    <tr>\n      <th>17</th>\n      <td>NG</td>\n      <td>1992</td>\n    </tr>\n    <tr>\n      <th>18</th>\n      <td>RB</td>\n      <td>2007</td>\n    </tr>\n    <tr>\n      <th>19</th>\n      <td>S</td>\n      <td>1992</td>\n    </tr>\n    <tr>\n      <th>20</th>\n      <td>SAF</td>\n      <td>1996</td>\n    </tr>\n    <tr>\n      <th>21</th>\n      <td>SB</td>\n      <td>1992</td>\n    </tr>\n    <tr>\n      <th>22</th>\n      <td>SI</td>\n      <td>1992</td>\n    </tr>\n    <tr>\n      <th>23</th>\n      <td>SNI</td>\n      <td>2016</td>\n    </tr>\n    <tr>\n      <th>24</th>\n      <td>SPB</td>\n      <td>2012</td>\n    </tr>\n    <tr>\n      <th>25</th>\n      <td>SZN</td>\n      <td>2008</td>\n    </tr>\n    <tr>\n      <th>26</th>\n      <td>W</td>\n      <td>1992</td>\n    </tr>\n  </tbody>\n</table>\n</div>"
     },
     "execution_count": 398,
     "metadata": {},
     "output_type": "execute_result"
    }
   ],
   "source": [
    "start_dates"
   ],
   "metadata": {
    "collapsed": false,
    "pycharm": {
     "name": "#%%\n"
    }
   }
  },
  {
   "cell_type": "code",
   "execution_count": 399,
   "outputs": [],
   "source": [
    "start_dates.to_csv(\"start_dates.csv\")"
   ],
   "metadata": {
    "collapsed": false,
    "pycharm": {
     "name": "#%%\n"
    }
   }
  },
  {
   "cell_type": "markdown",
   "source": [
    "Finally, we have to use these start years to clean up our price dataset"
   ],
   "metadata": {
    "collapsed": false
   }
  },
  {
   "cell_type": "code",
   "execution_count": 400,
   "outputs": [],
   "source": [
    "price_data = price_data.merge(start_dates)\n",
    "price_data = price_data[price_data.Date.dt.year >= price_data.min_date].copy()\n",
    "price_data.drop(columns=[\"min_date\"], inplace=True)"
   ],
   "metadata": {
    "collapsed": false,
    "pycharm": {
     "name": "#%%\n"
    }
   }
  },
  {
   "cell_type": "code",
   "execution_count": 401,
   "outputs": [
    {
     "data": {
      "text/plain": "       Instrument       Date  Close Price  Accumulated Volume  \\\n64             SB 1992-01-02        8.590              5644.0   \n65             SB 1992-01-03        8.410              5154.0   \n66             SB 1992-01-06        8.500              4996.0   \n67             SB 1992-01-07        8.350              4846.0   \n68             SB 1992-01-08        8.430              5456.0   \n...           ...        ...          ...                 ...   \n168965         SI 2021-12-27       22.680                 1.0   \n168966         SI 2021-12-28       23.150               211.0   \n168967         SI 2021-12-29       22.635               172.0   \n168968         SI 2021-12-30       23.070               344.0   \n168969         SI 2021-12-31       23.310               230.0   \n\n        C2 - Close Price  C2 - Accumulated Volume  C3 - Close Price  \\\n64                 8.530                   1712.0             8.480   \n65                 8.370                   3388.0             8.370   \n66                 8.440                   2751.0             8.400   \n67                 8.320                   4290.0             8.340   \n68                 8.460                   4665.0             8.460   \n...                  ...                      ...               ...   \n168965            23.060                 108793.0            23.100   \n168966            23.015                  73451.0            23.100   \n168967            22.825                  98976.0            22.860   \n168968            23.100                  75359.0            23.075   \n168969            23.345                    392.0            23.355   \n\n        C3 - Accumulated Volume  C4 - Close Price  C4 - Accumulated Volume  \n64                       1013.0             8.480                   1013.0  \n65                        769.0             8.370                    769.0  \n66                        762.0             8.400                    762.0  \n67                       1837.0             8.340                   1837.0  \n68                       1564.0             8.460                   1564.0  \n...                         ...               ...                      ...  \n168965                    111.0            23.100                    111.0  \n168966                    160.0            23.100                    160.0  \n168967                     45.0            22.860                     45.0  \n168968                    109.0            23.075                    109.0  \n168969                     96.0            23.355                     96.0  \n\n[166581 rows x 10 columns]",
      "text/html": "<div>\n<style scoped>\n    .dataframe tbody tr th:only-of-type {\n        vertical-align: middle;\n    }\n\n    .dataframe tbody tr th {\n        vertical-align: top;\n    }\n\n    .dataframe thead th {\n        text-align: right;\n    }\n</style>\n<table border=\"1\" class=\"dataframe\">\n  <thead>\n    <tr style=\"text-align: right;\">\n      <th></th>\n      <th>Instrument</th>\n      <th>Date</th>\n      <th>Close Price</th>\n      <th>Accumulated Volume</th>\n      <th>C2 - Close Price</th>\n      <th>C2 - Accumulated Volume</th>\n      <th>C3 - Close Price</th>\n      <th>C3 - Accumulated Volume</th>\n      <th>C4 - Close Price</th>\n      <th>C4 - Accumulated Volume</th>\n    </tr>\n  </thead>\n  <tbody>\n    <tr>\n      <th>64</th>\n      <td>SB</td>\n      <td>1992-01-02</td>\n      <td>8.590</td>\n      <td>5644.0</td>\n      <td>8.530</td>\n      <td>1712.0</td>\n      <td>8.480</td>\n      <td>1013.0</td>\n      <td>8.480</td>\n      <td>1013.0</td>\n    </tr>\n    <tr>\n      <th>65</th>\n      <td>SB</td>\n      <td>1992-01-03</td>\n      <td>8.410</td>\n      <td>5154.0</td>\n      <td>8.370</td>\n      <td>3388.0</td>\n      <td>8.370</td>\n      <td>769.0</td>\n      <td>8.370</td>\n      <td>769.0</td>\n    </tr>\n    <tr>\n      <th>66</th>\n      <td>SB</td>\n      <td>1992-01-06</td>\n      <td>8.500</td>\n      <td>4996.0</td>\n      <td>8.440</td>\n      <td>2751.0</td>\n      <td>8.400</td>\n      <td>762.0</td>\n      <td>8.400</td>\n      <td>762.0</td>\n    </tr>\n    <tr>\n      <th>67</th>\n      <td>SB</td>\n      <td>1992-01-07</td>\n      <td>8.350</td>\n      <td>4846.0</td>\n      <td>8.320</td>\n      <td>4290.0</td>\n      <td>8.340</td>\n      <td>1837.0</td>\n      <td>8.340</td>\n      <td>1837.0</td>\n    </tr>\n    <tr>\n      <th>68</th>\n      <td>SB</td>\n      <td>1992-01-08</td>\n      <td>8.430</td>\n      <td>5456.0</td>\n      <td>8.460</td>\n      <td>4665.0</td>\n      <td>8.460</td>\n      <td>1564.0</td>\n      <td>8.460</td>\n      <td>1564.0</td>\n    </tr>\n    <tr>\n      <th>...</th>\n      <td>...</td>\n      <td>...</td>\n      <td>...</td>\n      <td>...</td>\n      <td>...</td>\n      <td>...</td>\n      <td>...</td>\n      <td>...</td>\n      <td>...</td>\n      <td>...</td>\n    </tr>\n    <tr>\n      <th>168965</th>\n      <td>SI</td>\n      <td>2021-12-27</td>\n      <td>22.680</td>\n      <td>1.0</td>\n      <td>23.060</td>\n      <td>108793.0</td>\n      <td>23.100</td>\n      <td>111.0</td>\n      <td>23.100</td>\n      <td>111.0</td>\n    </tr>\n    <tr>\n      <th>168966</th>\n      <td>SI</td>\n      <td>2021-12-28</td>\n      <td>23.150</td>\n      <td>211.0</td>\n      <td>23.015</td>\n      <td>73451.0</td>\n      <td>23.100</td>\n      <td>160.0</td>\n      <td>23.100</td>\n      <td>160.0</td>\n    </tr>\n    <tr>\n      <th>168967</th>\n      <td>SI</td>\n      <td>2021-12-29</td>\n      <td>22.635</td>\n      <td>172.0</td>\n      <td>22.825</td>\n      <td>98976.0</td>\n      <td>22.860</td>\n      <td>45.0</td>\n      <td>22.860</td>\n      <td>45.0</td>\n    </tr>\n    <tr>\n      <th>168968</th>\n      <td>SI</td>\n      <td>2021-12-30</td>\n      <td>23.070</td>\n      <td>344.0</td>\n      <td>23.100</td>\n      <td>75359.0</td>\n      <td>23.075</td>\n      <td>109.0</td>\n      <td>23.075</td>\n      <td>109.0</td>\n    </tr>\n    <tr>\n      <th>168969</th>\n      <td>SI</td>\n      <td>2021-12-31</td>\n      <td>23.310</td>\n      <td>230.0</td>\n      <td>23.345</td>\n      <td>392.0</td>\n      <td>23.355</td>\n      <td>96.0</td>\n      <td>23.355</td>\n      <td>96.0</td>\n    </tr>\n  </tbody>\n</table>\n<p>166581 rows × 10 columns</p>\n</div>"
     },
     "execution_count": 401,
     "metadata": {},
     "output_type": "execute_result"
    }
   ],
   "source": [
    "price_data"
   ],
   "metadata": {
    "collapsed": false,
    "pycharm": {
     "name": "#%%\n"
    }
   }
  },
  {
   "cell_type": "markdown",
   "source": [
    "# Create Daily Adjusted Return Metric for Backtesting Performance"
   ],
   "metadata": {
    "collapsed": false
   }
  },
  {
   "cell_type": "markdown",
   "source": [
    "Daily Adjusted Returns are calculated for the C2 contracts as those are the contracts that we trade within our strategies"
   ],
   "metadata": {
    "collapsed": false
   }
  },
  {
   "cell_type": "code",
   "execution_count": 402,
   "outputs": [],
   "source": [
    "price_data[\"Daily Adjusted Return\"] = price_data[\"Close Price\"] / price_data[\"Close Price\"].shift(1) - 1"
   ],
   "metadata": {
    "collapsed": false,
    "pycharm": {
     "name": "#%%\n"
    }
   }
  },
  {
   "cell_type": "code",
   "execution_count": 403,
   "outputs": [],
   "source": [
    "price_data[\"C2 - Daily Adjusted Return\"] = price_data[\"C2 - Close Price\"] / price_data[\"C2 - Close Price\"].shift(1) - 1"
   ],
   "metadata": {
    "collapsed": false,
    "pycharm": {
     "name": "#%%\n"
    }
   }
  },
  {
   "cell_type": "code",
   "execution_count": 404,
   "outputs": [],
   "source": [
    "price_data[\"C3 - Daily Adjusted Return\"] = price_data[\"C3 - Close Price\"] / price_data[\"C3 - Close Price\"].shift(1) - 1"
   ],
   "metadata": {
    "collapsed": false,
    "pycharm": {
     "name": "#%%\n"
    }
   }
  },
  {
   "cell_type": "code",
   "execution_count": 405,
   "outputs": [],
   "source": [
    "price_data[\"C4 - Daily Adjusted Return\"] = price_data[\"C4 - Close Price\"] / price_data[\"C4 - Close Price\"].shift(1) - 1"
   ],
   "metadata": {
    "collapsed": false,
    "pycharm": {
     "name": "#%%\n"
    }
   }
  },
  {
   "cell_type": "code",
   "execution_count": 406,
   "outputs": [],
   "source": [
    "# Create a flag that will be set to 0 whenever a return should be set to 0%\n",
    "price_data[\"adjustment_flag\"] = 1"
   ],
   "metadata": {
    "collapsed": false,
    "pycharm": {
     "name": "#%%\n"
    }
   }
  },
  {
   "cell_type": "code",
   "execution_count": 407,
   "outputs": [],
   "source": [
    "price_data[\"matching_contract_check\"] = price_data[\"Instrument\"].shift(1)\n",
    "price_data[\"matching_contract_check\"] = price_data[[\n",
    "    \"matching_contract_check\", \"Instrument\"\n",
    "]].apply(\n",
    "    lambda x: \"OK\" if x[0] == x[1] else np.nan, axis=1\n",
    ")"
   ],
   "metadata": {
    "collapsed": false,
    "pycharm": {
     "name": "#%%\n"
    }
   }
  },
  {
   "cell_type": "code",
   "execution_count": 408,
   "outputs": [],
   "source": [
    "price_data.dropna(subset=[\"Daily Adjusted Return\", \"matching_contract_check\"], inplace=True)"
   ],
   "metadata": {
    "collapsed": false,
    "pycharm": {
     "name": "#%%\n"
    }
   }
  },
  {
   "cell_type": "code",
   "execution_count": 409,
   "outputs": [
    {
     "data": {
      "text/plain": "       Instrument       Date  Close Price  Accumulated Volume  \\\n65             SB 1992-01-03        8.410              5154.0   \n66             SB 1992-01-06        8.500              4996.0   \n67             SB 1992-01-07        8.350              4846.0   \n68             SB 1992-01-08        8.430              5456.0   \n69             SB 1992-01-09        8.450              4213.0   \n...           ...        ...          ...                 ...   \n168965         SI 2021-12-27       22.680                 1.0   \n168966         SI 2021-12-28       23.150               211.0   \n168967         SI 2021-12-29       22.635               172.0   \n168968         SI 2021-12-30       23.070               344.0   \n168969         SI 2021-12-31       23.310               230.0   \n\n        C2 - Close Price  C2 - Accumulated Volume  C3 - Close Price  \\\n65                 8.370                   3388.0             8.370   \n66                 8.440                   2751.0             8.400   \n67                 8.320                   4290.0             8.340   \n68                 8.460                   4665.0             8.460   \n69                 8.440                   4566.0             8.470   \n...                  ...                      ...               ...   \n168965            23.060                 108793.0            23.100   \n168966            23.015                  73451.0            23.100   \n168967            22.825                  98976.0            22.860   \n168968            23.100                  75359.0            23.075   \n168969            23.345                    392.0            23.355   \n\n        C3 - Accumulated Volume  C4 - Close Price  C4 - Accumulated Volume  \\\n65                        769.0             8.370                    769.0   \n66                        762.0             8.400                    762.0   \n67                       1837.0             8.340                   1837.0   \n68                       1564.0             8.460                   1564.0   \n69                       2396.0             8.470                   2396.0   \n...                         ...               ...                      ...   \n168965                    111.0            23.100                    111.0   \n168966                    160.0            23.100                    160.0   \n168967                     45.0            22.860                     45.0   \n168968                    109.0            23.075                    109.0   \n168969                     96.0            23.355                     96.0   \n\n        Daily Adjusted Return  C2 - Daily Adjusted Return  \\\n65                  -0.020955                   -0.018757   \n66                   0.010702                    0.008363   \n67                  -0.017647                   -0.014218   \n68                   0.009581                    0.016827   \n69                   0.002372                   -0.002364   \n...                       ...                         ...   \n168965              -0.006788                    0.007207   \n168966               0.020723                   -0.001951   \n168967              -0.022246                   -0.008255   \n168968               0.019218                    0.012048   \n168969               0.010403                    0.010606   \n\n        C3 - Daily Adjusted Return  C4 - Daily Adjusted Return  \\\n65                       -0.012972                   -0.012972   \n66                        0.003584                    0.003584   \n67                       -0.007143                   -0.007143   \n68                        0.014388                    0.014388   \n69                        0.001182                    0.001182   \n...                            ...                         ...   \n168965                    0.007853                    0.007853   \n168966                    0.000000                    0.000000   \n168967                   -0.010390                   -0.010390   \n168968                    0.009405                    0.009405   \n168969                    0.012134                    0.012134   \n\n        adjustment_flag matching_contract_check  \n65                    1                      OK  \n66                    1                      OK  \n67                    1                      OK  \n68                    1                      OK  \n69                    1                      OK  \n...                 ...                     ...  \n168965                1                      OK  \n168966                1                      OK  \n168967                1                      OK  \n168968                1                      OK  \n168969                1                      OK  \n\n[166554 rows x 16 columns]",
      "text/html": "<div>\n<style scoped>\n    .dataframe tbody tr th:only-of-type {\n        vertical-align: middle;\n    }\n\n    .dataframe tbody tr th {\n        vertical-align: top;\n    }\n\n    .dataframe thead th {\n        text-align: right;\n    }\n</style>\n<table border=\"1\" class=\"dataframe\">\n  <thead>\n    <tr style=\"text-align: right;\">\n      <th></th>\n      <th>Instrument</th>\n      <th>Date</th>\n      <th>Close Price</th>\n      <th>Accumulated Volume</th>\n      <th>C2 - Close Price</th>\n      <th>C2 - Accumulated Volume</th>\n      <th>C3 - Close Price</th>\n      <th>C3 - Accumulated Volume</th>\n      <th>C4 - Close Price</th>\n      <th>C4 - Accumulated Volume</th>\n      <th>Daily Adjusted Return</th>\n      <th>C2 - Daily Adjusted Return</th>\n      <th>C3 - Daily Adjusted Return</th>\n      <th>C4 - Daily Adjusted Return</th>\n      <th>adjustment_flag</th>\n      <th>matching_contract_check</th>\n    </tr>\n  </thead>\n  <tbody>\n    <tr>\n      <th>65</th>\n      <td>SB</td>\n      <td>1992-01-03</td>\n      <td>8.410</td>\n      <td>5154.0</td>\n      <td>8.370</td>\n      <td>3388.0</td>\n      <td>8.370</td>\n      <td>769.0</td>\n      <td>8.370</td>\n      <td>769.0</td>\n      <td>-0.020955</td>\n      <td>-0.018757</td>\n      <td>-0.012972</td>\n      <td>-0.012972</td>\n      <td>1</td>\n      <td>OK</td>\n    </tr>\n    <tr>\n      <th>66</th>\n      <td>SB</td>\n      <td>1992-01-06</td>\n      <td>8.500</td>\n      <td>4996.0</td>\n      <td>8.440</td>\n      <td>2751.0</td>\n      <td>8.400</td>\n      <td>762.0</td>\n      <td>8.400</td>\n      <td>762.0</td>\n      <td>0.010702</td>\n      <td>0.008363</td>\n      <td>0.003584</td>\n      <td>0.003584</td>\n      <td>1</td>\n      <td>OK</td>\n    </tr>\n    <tr>\n      <th>67</th>\n      <td>SB</td>\n      <td>1992-01-07</td>\n      <td>8.350</td>\n      <td>4846.0</td>\n      <td>8.320</td>\n      <td>4290.0</td>\n      <td>8.340</td>\n      <td>1837.0</td>\n      <td>8.340</td>\n      <td>1837.0</td>\n      <td>-0.017647</td>\n      <td>-0.014218</td>\n      <td>-0.007143</td>\n      <td>-0.007143</td>\n      <td>1</td>\n      <td>OK</td>\n    </tr>\n    <tr>\n      <th>68</th>\n      <td>SB</td>\n      <td>1992-01-08</td>\n      <td>8.430</td>\n      <td>5456.0</td>\n      <td>8.460</td>\n      <td>4665.0</td>\n      <td>8.460</td>\n      <td>1564.0</td>\n      <td>8.460</td>\n      <td>1564.0</td>\n      <td>0.009581</td>\n      <td>0.016827</td>\n      <td>0.014388</td>\n      <td>0.014388</td>\n      <td>1</td>\n      <td>OK</td>\n    </tr>\n    <tr>\n      <th>69</th>\n      <td>SB</td>\n      <td>1992-01-09</td>\n      <td>8.450</td>\n      <td>4213.0</td>\n      <td>8.440</td>\n      <td>4566.0</td>\n      <td>8.470</td>\n      <td>2396.0</td>\n      <td>8.470</td>\n      <td>2396.0</td>\n      <td>0.002372</td>\n      <td>-0.002364</td>\n      <td>0.001182</td>\n      <td>0.001182</td>\n      <td>1</td>\n      <td>OK</td>\n    </tr>\n    <tr>\n      <th>...</th>\n      <td>...</td>\n      <td>...</td>\n      <td>...</td>\n      <td>...</td>\n      <td>...</td>\n      <td>...</td>\n      <td>...</td>\n      <td>...</td>\n      <td>...</td>\n      <td>...</td>\n      <td>...</td>\n      <td>...</td>\n      <td>...</td>\n      <td>...</td>\n      <td>...</td>\n      <td>...</td>\n    </tr>\n    <tr>\n      <th>168965</th>\n      <td>SI</td>\n      <td>2021-12-27</td>\n      <td>22.680</td>\n      <td>1.0</td>\n      <td>23.060</td>\n      <td>108793.0</td>\n      <td>23.100</td>\n      <td>111.0</td>\n      <td>23.100</td>\n      <td>111.0</td>\n      <td>-0.006788</td>\n      <td>0.007207</td>\n      <td>0.007853</td>\n      <td>0.007853</td>\n      <td>1</td>\n      <td>OK</td>\n    </tr>\n    <tr>\n      <th>168966</th>\n      <td>SI</td>\n      <td>2021-12-28</td>\n      <td>23.150</td>\n      <td>211.0</td>\n      <td>23.015</td>\n      <td>73451.0</td>\n      <td>23.100</td>\n      <td>160.0</td>\n      <td>23.100</td>\n      <td>160.0</td>\n      <td>0.020723</td>\n      <td>-0.001951</td>\n      <td>0.000000</td>\n      <td>0.000000</td>\n      <td>1</td>\n      <td>OK</td>\n    </tr>\n    <tr>\n      <th>168967</th>\n      <td>SI</td>\n      <td>2021-12-29</td>\n      <td>22.635</td>\n      <td>172.0</td>\n      <td>22.825</td>\n      <td>98976.0</td>\n      <td>22.860</td>\n      <td>45.0</td>\n      <td>22.860</td>\n      <td>45.0</td>\n      <td>-0.022246</td>\n      <td>-0.008255</td>\n      <td>-0.010390</td>\n      <td>-0.010390</td>\n      <td>1</td>\n      <td>OK</td>\n    </tr>\n    <tr>\n      <th>168968</th>\n      <td>SI</td>\n      <td>2021-12-30</td>\n      <td>23.070</td>\n      <td>344.0</td>\n      <td>23.100</td>\n      <td>75359.0</td>\n      <td>23.075</td>\n      <td>109.0</td>\n      <td>23.075</td>\n      <td>109.0</td>\n      <td>0.019218</td>\n      <td>0.012048</td>\n      <td>0.009405</td>\n      <td>0.009405</td>\n      <td>1</td>\n      <td>OK</td>\n    </tr>\n    <tr>\n      <th>168969</th>\n      <td>SI</td>\n      <td>2021-12-31</td>\n      <td>23.310</td>\n      <td>230.0</td>\n      <td>23.345</td>\n      <td>392.0</td>\n      <td>23.355</td>\n      <td>96.0</td>\n      <td>23.355</td>\n      <td>96.0</td>\n      <td>0.010403</td>\n      <td>0.010606</td>\n      <td>0.012134</td>\n      <td>0.012134</td>\n      <td>1</td>\n      <td>OK</td>\n    </tr>\n  </tbody>\n</table>\n<p>166554 rows × 16 columns</p>\n</div>"
     },
     "execution_count": 409,
     "metadata": {},
     "output_type": "execute_result"
    }
   ],
   "source": [
    "price_data"
   ],
   "metadata": {
    "collapsed": false,
    "pycharm": {
     "name": "#%%\n"
    }
   }
  },
  {
   "cell_type": "markdown",
   "source": [
    "For every contract, there are rules specified as to when the contracts expire. For the adjusted daily return metric, we assume that any commodity position is exited 3 days prior to the expiration and re-entered 3 trading days post the expiration at a 0% cost. Hence, the return during this exit window will be exactly 0%"
   ],
   "metadata": {
    "collapsed": false
   }
  },
  {
   "cell_type": "code",
   "execution_count": 410,
   "outputs": [],
   "source": [
    "price_data[\"Year\"] = price_data.Date.dt.year\n",
    "price_data[\"Month\"] = price_data.Date.dt.month\n",
    "price_data[\"Day\"] = price_data.Date.dt.day\n",
    "price_data[\"Day of Week\"] = price_data.Date.dt.day_of_week"
   ],
   "metadata": {
    "collapsed": false,
    "pycharm": {
     "name": "#%%\n"
    }
   }
  },
  {
   "cell_type": "markdown",
   "source": [
    "Sugar No. 11"
   ],
   "metadata": {
    "collapsed": false
   }
  },
  {
   "cell_type": "code",
   "execution_count": 411,
   "outputs": [],
   "source": [
    "# The rules for Sugar No. 11 state that expiry is conditional on the last trading day so we need to find the last & first trading days for our exit window. This can be reused for other contracts\n",
    "last_tr_days = price_data.groupby([\n",
    "    \"Instrument\",\n",
    "    \"Year\",\n",
    "    \"Month\"\n",
    "]).agg(\n",
    "    last_tr_day = (\"Day\", \"max\"),\n",
    "    first_tr_day = (\"Day\", \"min\"),\n",
    ").reset_index()"
   ],
   "metadata": {
    "collapsed": false,
    "pycharm": {
     "name": "#%%\n"
    }
   }
  },
  {
   "cell_type": "code",
   "execution_count": 412,
   "outputs": [],
   "source": [
    "price_data = price_data.merge(last_tr_days, how=\"left\")"
   ],
   "metadata": {
    "collapsed": false,
    "pycharm": {
     "name": "#%%\n"
    }
   }
  },
  {
   "cell_type": "code",
   "execution_count": 413,
   "outputs": [],
   "source": [
    "price_data[\"adjustment_flag\"] = price_data[[\n",
    "    \"adjustment_flag\",\n",
    "    \"Instrument\",\n",
    "    \"Month\",\n",
    "    \"Day\",\n",
    "    \"last_tr_day\",\n",
    "    \"first_tr_day\"\n",
    "]].apply(\n",
    "    lambda x: 0 if x[1] == \"SB\" and ((x[2] in [2, 4, 6, 9] and x[3] >= x[4] - 3) or (x[2] in [3, 5, 7, 10] and x[3] <= x[5] + 2)) else x[0],\n",
    "    axis=1\n",
    ")"
   ],
   "metadata": {
    "collapsed": false,
    "pycharm": {
     "name": "#%%\n"
    }
   }
  },
  {
   "cell_type": "markdown",
   "source": [
    "Sugar White"
   ],
   "metadata": {
    "collapsed": false
   }
  },
  {
   "cell_type": "code",
   "execution_count": 414,
   "outputs": [],
   "source": [
    "price_data[\"adjustment_flag\"] = price_data[[\n",
    "    \"adjustment_flag\",\n",
    "    \"Instrument\",\n",
    "    \"Month\",\n",
    "    \"Day\",\n",
    "    \"last_tr_day\",\n",
    "    \"first_tr_day\"\n",
    "]].apply(\n",
    "    lambda x: 0 if x[1] == \"LSU\" and x[2] in [2, 4, 7, 9, 11] and x[4] - 16 + 3 >= x[3] >= x[4] - 16 - 3 else x[0],\n",
    "    axis=1\n",
    ")"
   ],
   "metadata": {
    "collapsed": false,
    "pycharm": {
     "name": "#%%\n"
    }
   }
  },
  {
   "cell_type": "markdown",
   "source": [
    "Coffee \"C\""
   ],
   "metadata": {
    "collapsed": false
   }
  },
  {
   "cell_type": "code",
   "execution_count": 415,
   "outputs": [],
   "source": [
    "# For coffee we need \"8 business days prior to ...\" so for that we need to rank the trading days\n",
    "price_data[\"business_day_rank\"] = price_data.groupby([\n",
    "    \"Instrument\",\n",
    "    \"Year\",\n",
    "    \"Month\"\n",
    "])[\"Day\"].rank(\"average\", ascending=True)\n",
    "\n",
    "price_data[\"business_day_rev_rank\"] = price_data.groupby([\n",
    "    \"Instrument\",\n",
    "    \"Year\",\n",
    "    \"Month\"\n",
    "])[\"Day\"].rank(\"average\", ascending=False)"
   ],
   "metadata": {
    "collapsed": false,
    "pycharm": {
     "name": "#%%\n"
    }
   }
  },
  {
   "cell_type": "code",
   "execution_count": 416,
   "outputs": [],
   "source": [
    "price_data[\"adjustment_flag\"] = price_data[[\n",
    "    \"adjustment_flag\",\n",
    "    \"Instrument\",\n",
    "    \"Month\",\n",
    "    \"business_day_rev_rank\"\n",
    "]].apply(\n",
    "    lambda x: 0 if x[1] == \"KC\" and x[2] in [3, 5, 7, 9, 12] and 8 + 3 >= x[3] >= 8 - 3 else x[0],\n",
    "    axis=1\n",
    ")"
   ],
   "metadata": {
    "collapsed": false,
    "pycharm": {
     "name": "#%%\n"
    }
   }
  },
  {
   "cell_type": "markdown",
   "source": [],
   "metadata": {
    "collapsed": false
   }
  },
  {
   "cell_type": "code",
   "execution_count": 417,
   "outputs": [],
   "source": [
    "price_data[\"adjustment_flag\"] = price_data[[\n",
    "    \"adjustment_flag\",\n",
    "    \"Instrument\",\n",
    "    \"Month\",\n",
    "    \"business_day_rev_rank\"\n",
    "]].apply(\n",
    "    lambda x: 0 if x[1] == \"ICF\" and x[2] in [3, 5, 7, 9, 12] and 6 + 3 >= x[3] >= 6 - 3 else x[0],\n",
    "    axis=1\n",
    ")"
   ],
   "metadata": {
    "collapsed": false,
    "pycharm": {
     "name": "#%%\n"
    }
   }
  },
  {
   "cell_type": "markdown",
   "source": [
    "Cotton No. 2"
   ],
   "metadata": {
    "collapsed": false
   }
  },
  {
   "cell_type": "code",
   "execution_count": 418,
   "outputs": [],
   "source": [
    "price_data[\"adjustment_flag\"] = price_data[[\n",
    "    \"adjustment_flag\",\n",
    "    \"Instrument\",\n",
    "    \"Month\",\n",
    "    \"business_day_rev_rank\"\n",
    "]].apply(\n",
    "    lambda x: 0 if x[1] == \"CT\" and x[2] in [3, 5, 7, 10, 12] and 17 + 3 >= x[3] >= 17 - 3 else x[0],\n",
    "    axis=1\n",
    ")"
   ],
   "metadata": {
    "collapsed": false,
    "pycharm": {
     "name": "#%%\n"
    }
   }
  },
  {
   "cell_type": "markdown",
   "source": [
    "Chicago Wheat"
   ],
   "metadata": {
    "collapsed": false
   }
  },
  {
   "cell_type": "code",
   "execution_count": 419,
   "outputs": [],
   "source": [
    "price_data[\"adjustment_flag\"] = price_data[[\n",
    "    \"adjustment_flag\",\n",
    "    \"Instrument\",\n",
    "    \"Month\",\n",
    "    \"Day\"\n",
    "]].apply(\n",
    "    lambda x: 0 if x[1] == \"W\" and x[2] in [3, 5, 7, 9, 12] and 14 + 3 >= x[3] >= 14 - 3 else x[0],\n",
    "    axis=1\n",
    ")"
   ],
   "metadata": {
    "collapsed": false,
    "pycharm": {
     "name": "#%%\n"
    }
   }
  },
  {
   "cell_type": "markdown",
   "source": [
    "Kansas Wheat"
   ],
   "metadata": {
    "collapsed": false
   }
  },
  {
   "cell_type": "code",
   "execution_count": 420,
   "outputs": [],
   "source": [
    "price_data[\"adjustment_flag\"] = price_data[[\n",
    "    \"adjustment_flag\",\n",
    "    \"Instrument\",\n",
    "    \"Month\",\n",
    "    \"Day\"\n",
    "]].apply(\n",
    "    lambda x: 0 if x[1] == \"KW\" and x[2] in [3, 5, 7, 9, 12] and 14 + 3 >= x[3] >= 14 - 3 else x[0],\n",
    "    axis=1\n",
    ")"
   ],
   "metadata": {
    "collapsed": false,
    "pycharm": {
     "name": "#%%\n"
    }
   }
  },
  {
   "cell_type": "markdown",
   "source": [
    "Corn"
   ],
   "metadata": {
    "collapsed": false
   }
  },
  {
   "cell_type": "code",
   "execution_count": 421,
   "outputs": [],
   "source": [
    "price_data[\"adjustment_flag\"] = price_data[[\n",
    "    \"adjustment_flag\",\n",
    "    \"Instrument\",\n",
    "    \"Month\",\n",
    "    \"Day\"\n",
    "]].apply(\n",
    "    lambda x: 0 if x[1] == \"C\" and x[2] in [3, 5, 7, 9, 12] and 14 + 3 >= x[3] >= 14 - 3 else x[0],\n",
    "    axis=1\n",
    ")"
   ],
   "metadata": {
    "collapsed": false,
    "pycharm": {
     "name": "#%%\n"
    }
   }
  },
  {
   "cell_type": "markdown",
   "source": [
    "Soybeans"
   ],
   "metadata": {
    "collapsed": false
   }
  },
  {
   "cell_type": "code",
   "execution_count": 422,
   "outputs": [],
   "source": [
    "price_data[\"adjustment_flag\"] = price_data[[\n",
    "    \"adjustment_flag\",\n",
    "    \"Instrument\",\n",
    "    \"Month\",\n",
    "    \"Day\"\n",
    "]].apply(\n",
    "    lambda x: 0 if x[1] == \"S\" and x[2] in [1, 3, 5, 7, 8, 9, 11] and 14 + 3 >= x[3] >= 14 - 3 else x[0],\n",
    "    axis=1\n",
    ")"
   ],
   "metadata": {
    "collapsed": false,
    "pycharm": {
     "name": "#%%\n"
    }
   }
  },
  {
   "cell_type": "markdown",
   "source": [
    "Cocoa"
   ],
   "metadata": {
    "collapsed": false
   }
  },
  {
   "cell_type": "code",
   "execution_count": 423,
   "outputs": [],
   "source": [
    "price_data[\"adjustment_flag\"] = price_data[[\n",
    "    \"adjustment_flag\",\n",
    "    \"Instrument\",\n",
    "    \"Month\",\n",
    "    \"business_day_rev_rank\"\n",
    "]].apply(\n",
    "    lambda x: 0 if x[1] == \"CC\" and x[2] in [3, 5, 7, 9, 12] and 11 + 3 >= x[3] >= 11 - 3 else x[0],\n",
    "    axis=1\n",
    ")"
   ],
   "metadata": {
    "collapsed": false,
    "pycharm": {
     "name": "#%%\n"
    }
   }
  },
  {
   "cell_type": "markdown",
   "source": [
    "Live Cattle"
   ],
   "metadata": {
    "collapsed": false
   }
  },
  {
   "cell_type": "code",
   "execution_count": 424,
   "outputs": [],
   "source": [
    "price_data[\"adjustment_flag\"] = price_data[[\n",
    "    \"adjustment_flag\",\n",
    "    \"Instrument\",\n",
    "    \"Month\",\n",
    "    \"Day\",\n",
    "    \"last_tr_day\",\n",
    "    \"first_tr_day\"\n",
    "]].apply(\n",
    "    lambda x: 0 if x[1] == \"LC\" and ((x[2] in [2, 4, 6, 8, 10, 12] and x[3] >= x[4] - 3) or (x[2] in [3, 5, 7, 9, 11, 1] and x[3] <= x[5] + 2)) else x[0],\n",
    "    axis=1\n",
    ")"
   ],
   "metadata": {
    "collapsed": false,
    "pycharm": {
     "name": "#%%\n"
    }
   }
  },
  {
   "cell_type": "markdown",
   "source": [
    "Lean Hogs"
   ],
   "metadata": {
    "collapsed": false
   }
  },
  {
   "cell_type": "code",
   "execution_count": 425,
   "outputs": [],
   "source": [
    "price_data[\"adjustment_flag\"] = price_data[[\n",
    "    \"adjustment_flag\",\n",
    "    \"Instrument\",\n",
    "    \"Month\",\n",
    "    \"business_day_rank\"\n",
    "]].apply(\n",
    "    lambda x: 0 if x[1] == \"LH\" and x[2] in [2, 4, 5, 6, 7, 8, 10, 12] and 10 + 3 >= x[3] >= 10 - 3 else x[0],\n",
    "    axis=1\n",
    ")"
   ],
   "metadata": {
    "collapsed": false,
    "pycharm": {
     "name": "#%%\n"
    }
   }
  },
  {
   "cell_type": "markdown",
   "source": [
    "Feeder Cattle"
   ],
   "metadata": {
    "collapsed": false
   }
  },
  {
   "cell_type": "code",
   "execution_count": 426,
   "outputs": [],
   "source": [
    "# For feeder cattle we need to find the last tradeable Thursday of a contract month\n",
    "# The rules for Sugar No. 11 state that expiry is conditional on the last trading day so we need to find the last & first trading days for our exit window. This can be reused for other contracts\n",
    "thursdays = price_data[(price_data[\"Day of Week\"] == 3) & (price_data[\"Instrument\"] == \"FC\")].groupby([\n",
    "    \"Instrument\",\n",
    "    \"Year\",\n",
    "    \"Month\"\n",
    "]).agg(\n",
    "    last_thursday=(\"Day\", \"max\"),\n",
    ").reset_index()"
   ],
   "metadata": {
    "collapsed": false,
    "pycharm": {
     "name": "#%%\n"
    }
   }
  },
  {
   "cell_type": "code",
   "execution_count": 427,
   "outputs": [],
   "source": [
    "import calendar"
   ],
   "metadata": {
    "collapsed": false,
    "pycharm": {
     "name": "#%%\n"
    }
   }
  },
  {
   "cell_type": "code",
   "execution_count": 428,
   "outputs": [],
   "source": [
    "thursdays = thursdays.sort_values(by=[\"Instrument\", \"Year\", \"Month\"], ascending=True)\n",
    "thursdays[\"previous_month_thursday\"] = thursdays[\"last_thursday\"].shift(1)\n",
    "thursdays[\"previous_month\"] = thursdays[\"Month\"].shift(1)\n",
    "thursdays[\"previous_year\"] = thursdays[\"Year\"].shift(1)\n",
    "thursdays[\"days_post_thursday\"] = thursdays[\n",
    "    [\"previous_year\", \"previous_month\", \"previous_month_thursday\"]\n",
    "].apply(\n",
    "    lambda x: max(0, calendar.monthrange(int(x[0]), int(x[1]))[1] - x[2] - 3) if not pd.isnull(x[0]) else 0, axis=1\n",
    ")\n",
    "thursdays = thursdays[[\"Instrument\", \"Year\", \"Month\", \"last_thursday\", \"days_post_thursday\"]]"
   ],
   "metadata": {
    "collapsed": false,
    "pycharm": {
     "name": "#%%\n"
    }
   }
  },
  {
   "cell_type": "code",
   "execution_count": 429,
   "outputs": [],
   "source": [
    "price_data = price_data.merge(thursdays, how=\"left\")"
   ],
   "metadata": {
    "collapsed": false,
    "pycharm": {
     "name": "#%%\n"
    }
   }
  },
  {
   "cell_type": "code",
   "execution_count": 430,
   "outputs": [],
   "source": [
    "price_data[\"adjustment_flag\"] = price_data[[\n",
    "    \"adjustment_flag\",\n",
    "    \"Instrument\",\n",
    "    \"Month\",\n",
    "    \"Day\",\n",
    "    \"last_thursday\",\n",
    "    \"days_post_thursday\"\n",
    "]].apply(\n",
    "    lambda x: 0 if x[1] == \"FC\" and (\n",
    "        (x[2] in [1, 3, 4, 5, 8, 9, 10, 11] and x[4] - 3 <= x[3] <= x[4] + 3) or\n",
    "        (x[2] in [2, 4, 5, 6, 9, 10, 11, 12] and x[3] <= x[5])\n",
    "    ) else x[0],\n",
    "    axis=1\n",
    ")"
   ],
   "metadata": {
    "collapsed": false,
    "pycharm": {
     "name": "#%%\n"
    }
   }
  },
  {
   "cell_type": "markdown",
   "source": [
    "COMEX Copper"
   ],
   "metadata": {
    "collapsed": false
   }
  },
  {
   "cell_type": "code",
   "execution_count": 431,
   "outputs": [],
   "source": [
    "price_data[\"adjustment_flag\"] = price_data[[\n",
    "    \"adjustment_flag\",\n",
    "    \"Instrument\",\n",
    "    \"Month\",\n",
    "    \"business_day_rev_rank\",\n",
    "    \"business_day_rank\"\n",
    "]].apply(\n",
    "    lambda x: 0 if x[1] == \"HG\" and (\n",
    "        (x[2] in [3, 5, 7, 9, 12] and 3 + 3 >= x[3] >= 3 - 3) or\n",
    "        (x[2] in [4, 6, 8, 10, 1] and x[4] == 1)\n",
    "    ) else x[0],\n",
    "    axis=1\n",
    ")"
   ],
   "metadata": {
    "collapsed": false,
    "pycharm": {
     "name": "#%%\n"
    }
   }
  },
  {
   "cell_type": "markdown",
   "source": [
    "SHFE Aluminum"
   ],
   "metadata": {
    "collapsed": false
   }
  },
  {
   "cell_type": "code",
   "execution_count": 432,
   "outputs": [],
   "source": [
    "price_data[\"adjustment_flag\"] = price_data[[\n",
    "    \"adjustment_flag\",\n",
    "    \"Instrument\",\n",
    "    \"Month\",\n",
    "    \"Day\"\n",
    "]].apply(\n",
    "    lambda x: 0 if x[1] == \"SAF\" and 15 + 3 >= x[3] >= 15 - 3 else x[0],\n",
    "    axis=1\n",
    ")"
   ],
   "metadata": {
    "collapsed": false,
    "pycharm": {
     "name": "#%%\n"
    }
   }
  },
  {
   "cell_type": "markdown",
   "source": [
    "SHFE Zinc"
   ],
   "metadata": {
    "collapsed": false
   }
  },
  {
   "cell_type": "code",
   "execution_count": 433,
   "outputs": [],
   "source": [
    "price_data[\"adjustment_flag\"] = price_data[[\n",
    "    \"adjustment_flag\",\n",
    "    \"Instrument\",\n",
    "    \"Month\",\n",
    "    \"Day\"\n",
    "]].apply(\n",
    "    lambda x: 0 if x[1] == \"SZN\" and 15 + 3 >= x[3] >= 15 - 3 else x[0],\n",
    "    axis=1\n",
    ")"
   ],
   "metadata": {
    "collapsed": false,
    "pycharm": {
     "name": "#%%\n"
    }
   }
  },
  {
   "cell_type": "markdown",
   "source": [
    "SHFE Nickel"
   ],
   "metadata": {
    "collapsed": false
   }
  },
  {
   "cell_type": "code",
   "execution_count": 434,
   "outputs": [],
   "source": [
    "price_data[\"adjustment_flag\"] = price_data[[\n",
    "    \"adjustment_flag\",\n",
    "    \"Instrument\",\n",
    "    \"Month\",\n",
    "    \"Day\"\n",
    "]].apply(\n",
    "    lambda x: 0 if x[1] == \"SNI\" and 15 + 3 >= x[3] >= 15 - 3 else x[0],\n",
    "    axis=1\n",
    ")"
   ],
   "metadata": {
    "collapsed": false,
    "pycharm": {
     "name": "#%%\n"
    }
   }
  },
  {
   "cell_type": "markdown",
   "source": [
    "SHFE Lead"
   ],
   "metadata": {
    "collapsed": false
   }
  },
  {
   "cell_type": "code",
   "execution_count": 435,
   "outputs": [],
   "source": [
    "price_data[\"adjustment_flag\"] = price_data[[\n",
    "    \"adjustment_flag\",\n",
    "    \"Instrument\",\n",
    "    \"Month\",\n",
    "    \"Day\"\n",
    "]].apply(\n",
    "    lambda x: 0 if x[1] == \"SPB\" and 15 + 3 >= x[3] >= 15 - 3 else x[0],\n",
    "    axis=1\n",
    ")"
   ],
   "metadata": {
    "collapsed": false,
    "pycharm": {
     "name": "#%%\n"
    }
   }
  },
  {
   "cell_type": "markdown",
   "source": [
    "COMEX Gold"
   ],
   "metadata": {
    "collapsed": false
   }
  },
  {
   "cell_type": "code",
   "execution_count": 436,
   "outputs": [],
   "source": [
    "price_data[\"adjustment_flag\"] = price_data[[\n",
    "    \"adjustment_flag\",\n",
    "    \"Instrument\",\n",
    "    \"Month\",\n",
    "    \"business_day_rev_rank\",\n",
    "    \"business_day_rank\"\n",
    "]].apply(\n",
    "    lambda x: 0 if x[1] == \"GC\" and (\n",
    "        (3 + 3 >= x[3] >= 3 - 3) or\n",
    "        (x[4] == 1)\n",
    "    ) else x[0],\n",
    "    axis=1\n",
    ")"
   ],
   "metadata": {
    "collapsed": false,
    "pycharm": {
     "name": "#%%\n"
    }
   }
  },
  {
   "cell_type": "markdown",
   "source": [
    "COMEX Silver"
   ],
   "metadata": {
    "collapsed": false
   }
  },
  {
   "cell_type": "code",
   "execution_count": 437,
   "outputs": [],
   "source": [
    "price_data[\"adjustment_flag\"] = price_data[[\n",
    "    \"adjustment_flag\",\n",
    "    \"Instrument\",\n",
    "    \"Month\",\n",
    "    \"business_day_rev_rank\",\n",
    "    \"business_day_rank\"\n",
    "]].apply(\n",
    "    lambda x: 0 if x[1] == \"SI\" and (\n",
    "        (3 + 3 >= x[3] >= 3 - 3) or\n",
    "        (x[4] == 1)\n",
    "    ) else x[0],\n",
    "    axis=1\n",
    ")"
   ],
   "metadata": {
    "collapsed": false,
    "pycharm": {
     "name": "#%%\n"
    }
   }
  },
  {
   "cell_type": "markdown",
   "source": [
    "WTI Crude Oil"
   ],
   "metadata": {
    "collapsed": false
   }
  },
  {
   "cell_type": "code",
   "execution_count": 438,
   "outputs": [],
   "source": [
    "price_data[\"adjustment_flag\"] = price_data[[\n",
    "    \"adjustment_flag\",\n",
    "    \"Instrument\",\n",
    "    \"Month\",\n",
    "    \"Day\"\n",
    "]].apply(\n",
    "    lambda x: 0 if x[1] == \"CL\" and 22 + 3 >= x[3] >= 22 - 3 else x[0],\n",
    "    axis=1\n",
    ")"
   ],
   "metadata": {
    "collapsed": false,
    "pycharm": {
     "name": "#%%\n"
    }
   }
  },
  {
   "cell_type": "markdown",
   "source": [
    "Natural Gas"
   ],
   "metadata": {
    "collapsed": false
   }
  },
  {
   "cell_type": "code",
   "execution_count": 439,
   "outputs": [],
   "source": [
    "price_data[\"adjustment_flag\"] = price_data[[\n",
    "    \"adjustment_flag\",\n",
    "    \"Instrument\",\n",
    "    \"Month\",\n",
    "    \"business_day_rev_rank\",\n",
    "    \"business_day_rank\"\n",
    "]].apply(\n",
    "    lambda x: 0 if x[1] == \"NG\" and (\n",
    "        (3 + 3 >= x[3] >= 3 - 3) or\n",
    "        (x[4] == 1)\n",
    "    ) else x[0],\n",
    "    axis=1\n",
    ")"
   ],
   "metadata": {
    "collapsed": false,
    "pycharm": {
     "name": "#%%\n"
    }
   }
  },
  {
   "cell_type": "markdown",
   "source": [
    "Brent Crude Oil"
   ],
   "metadata": {
    "collapsed": false
   }
  },
  {
   "cell_type": "code",
   "execution_count": 440,
   "outputs": [],
   "source": [
    "price_data[\"adjustment_flag\"] = price_data[[\n",
    "    \"adjustment_flag\",\n",
    "    \"Instrument\",\n",
    "    \"Month\",\n",
    "    \"business_day_rev_rank\",\n",
    "    \"business_day_rank\"\n",
    "]].apply(\n",
    "    lambda x: 0 if x[1] == \"LCO\" and (\n",
    "        (3 >= x[3]) or\n",
    "        (x[4] <= 3)\n",
    "    ) else x[0],\n",
    "    axis=1\n",
    ")"
   ],
   "metadata": {
    "collapsed": false,
    "pycharm": {
     "name": "#%%\n"
    }
   }
  },
  {
   "cell_type": "markdown",
   "source": [
    "Low Sulphur Gasoil"
   ],
   "metadata": {
    "collapsed": false
   }
  },
  {
   "cell_type": "code",
   "execution_count": 441,
   "outputs": [],
   "source": [
    "price_data[\"adjustment_flag\"] = price_data[[\n",
    "    \"adjustment_flag\",\n",
    "    \"Instrument\",\n",
    "    \"Month\",\n",
    "    \"Day\"\n",
    "]].apply(\n",
    "    lambda x: 0 if x[1] == \"LGO\" and 12 + 3 >= x[3] >= 12 - 3 else x[0],\n",
    "    axis=1\n",
    ")"
   ],
   "metadata": {
    "collapsed": false,
    "pycharm": {
     "name": "#%%\n"
    }
   }
  },
  {
   "cell_type": "markdown",
   "source": [
    "RBOB Gasoline"
   ],
   "metadata": {
    "collapsed": false
   }
  },
  {
   "cell_type": "code",
   "execution_count": 442,
   "outputs": [],
   "source": [
    "price_data[\"adjustment_flag\"] = price_data[[\n",
    "    \"adjustment_flag\",\n",
    "    \"Instrument\",\n",
    "    \"Month\",\n",
    "    \"business_day_rev_rank\",\n",
    "    \"business_day_rank\"\n",
    "]].apply(\n",
    "    lambda x: 0 if x[1] == \"RB\" and (\n",
    "        (3 >= x[3]) or\n",
    "        (x[4] <= 3)\n",
    "    ) else x[0],\n",
    "    axis=1\n",
    ")"
   ],
   "metadata": {
    "collapsed": false,
    "pycharm": {
     "name": "#%%\n"
    }
   }
  },
  {
   "cell_type": "markdown",
   "source": [
    "ULS Diesel"
   ],
   "metadata": {
    "collapsed": false
   }
  },
  {
   "cell_type": "code",
   "execution_count": 443,
   "outputs": [],
   "source": [
    "price_data[\"adjustment_flag\"] = price_data[[\n",
    "    \"adjustment_flag\",\n",
    "    \"Instrument\",\n",
    "    \"Month\",\n",
    "    \"business_day_rev_rank\",\n",
    "    \"business_day_rank\"\n",
    "]].apply(\n",
    "    lambda x: 0 if x[1] == \"HO\" and (\n",
    "        (3 >= x[3]) or\n",
    "        (x[4] <= 3)\n",
    "    ) else x[0],\n",
    "    axis=1\n",
    ")"
   ],
   "metadata": {
    "collapsed": false,
    "pycharm": {
     "name": "#%%\n"
    }
   }
  },
  {
   "cell_type": "markdown",
   "source": [
    "Heating Oil - Low Sulphur"
   ],
   "metadata": {
    "collapsed": false
   }
  },
  {
   "cell_type": "code",
   "execution_count": 444,
   "outputs": [],
   "source": [
    "price_data[\"adjustment_flag\"] = price_data[[\n",
    "    \"adjustment_flag\",\n",
    "    \"Instrument\",\n",
    "    \"Month\",\n",
    "    \"business_day_rev_rank\",\n",
    "    \"business_day_rank\"\n",
    "]].apply(\n",
    "    lambda x: 0 if x[1] == \"LHO\" and (\n",
    "        (4 >= x[3]) or\n",
    "        (x[4] <= 2)\n",
    "    ) else x[0],\n",
    "    axis=1\n",
    ")"
   ],
   "metadata": {
    "collapsed": false,
    "pycharm": {
     "name": "#%%\n"
    }
   }
  },
  {
   "cell_type": "markdown",
   "source": [
    "# Finish Cleaned Dataset"
   ],
   "metadata": {
    "collapsed": false,
    "pycharm": {
     "name": "#%% md\n"
    }
   }
  },
  {
   "cell_type": "code",
   "execution_count": 445,
   "outputs": [],
   "source": [
    "# Set adjusted returns to 0 where necessary\n",
    "price_data[\"Daily Adjusted Return\"] = price_data[[\n",
    "    \"Daily Adjusted Return\", \"adjustment_flag\"\n",
    "]].apply(\n",
    "    lambda x: x[0] if x[1] == 1 else 0,\n",
    "    axis=1\n",
    ")\n",
    "\n",
    "price_data[\"C2 - Daily Adjusted Return\"] = price_data[[\n",
    "    \"C2 - Daily Adjusted Return\", \"adjustment_flag\"\n",
    "]].apply(\n",
    "    lambda x: x[0] if x[1] == 1 else 0,\n",
    "    axis=1\n",
    ")\n",
    "\n",
    "price_data[\"C3 - Daily Adjusted Return\"] = price_data[[\n",
    "    \"C3 - Daily Adjusted Return\", \"adjustment_flag\"\n",
    "]].apply(\n",
    "    lambda x: x[0] if x[1] == 1 else 0,\n",
    "    axis=1\n",
    ")\n",
    "\n",
    "price_data[\"C4 - Daily Adjusted Return\"] = price_data[[\n",
    "    \"C4 - Daily Adjusted Return\", \"adjustment_flag\"\n",
    "]].apply(\n",
    "    lambda x: x[0] if x[1] == 1 else 0,\n",
    "    axis=1\n",
    ")"
   ],
   "metadata": {
    "collapsed": false,
    "pycharm": {
     "name": "#%%\n"
    }
   }
  },
  {
   "cell_type": "code",
   "execution_count": 446,
   "outputs": [
    {
     "data": {
      "text/plain": "Index(['Instrument', 'Date', 'Close Price', 'Accumulated Volume',\n       'C2 - Close Price', 'C2 - Accumulated Volume', 'C3 - Close Price',\n       'C3 - Accumulated Volume', 'C4 - Close Price',\n       'C4 - Accumulated Volume', 'Daily Adjusted Return',\n       'C2 - Daily Adjusted Return', 'C3 - Daily Adjusted Return',\n       'C4 - Daily Adjusted Return', 'adjustment_flag',\n       'matching_contract_check', 'Year', 'Month', 'Day', 'Day of Week',\n       'last_tr_day', 'first_tr_day', 'business_day_rank',\n       'business_day_rev_rank', 'last_thursday', 'days_post_thursday'],\n      dtype='object')"
     },
     "execution_count": 446,
     "metadata": {},
     "output_type": "execute_result"
    }
   ],
   "source": [
    "price_data.columns"
   ],
   "metadata": {
    "collapsed": false,
    "pycharm": {
     "name": "#%%\n"
    }
   }
  },
  {
   "cell_type": "code",
   "execution_count": 447,
   "outputs": [],
   "source": [
    "price_data[['Instrument', 'Date', 'Year', 'Month',\n",
    "            'Day', 'Day of Week', 'Close Price', 'Accumulated Volume',\n",
    "            'C2 - Close Price', 'C2 - Accumulated Volume', 'C3 - Close Price',\n",
    "            'C3 - Accumulated Volume', 'C4 - Close Price',\n",
    "            'C4 - Accumulated Volume', 'Daily Adjusted Return',\n",
    "            'C2 - Daily Adjusted Return', 'C3 - Daily Adjusted Return',\n",
    "            'C4 - Daily Adjusted Return']].to_csv(\n",
    "    \"price_data_cleaned.csv\", index=False\n",
    ")"
   ],
   "metadata": {
    "collapsed": false,
    "pycharm": {
     "name": "#%%\n"
    }
   }
  }
 ],
 "metadata": {
  "kernelspec": {
   "display_name": "Python 3",
   "language": "python",
   "name": "python3"
  },
  "language_info": {
   "codemirror_mode": {
    "name": "ipython",
    "version": 2
   },
   "file_extension": ".py",
   "mimetype": "text/x-python",
   "name": "python",
   "nbconvert_exporter": "python",
   "pygments_lexer": "ipython2",
   "version": "2.7.6"
  }
 },
 "nbformat": 4,
 "nbformat_minor": 0
}