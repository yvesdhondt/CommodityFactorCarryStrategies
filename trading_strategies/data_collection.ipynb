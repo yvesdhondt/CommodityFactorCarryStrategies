{
 "cells": [
  {
   "cell_type": "markdown",
   "source": [
    "Retrieved index constituent data from:\n",
    "https://en.wikipedia.org/wiki/S%26P_GSCI\n",
    "https://en.wikipedia.org/wiki/Bloomberg_Commodity_Index"
   ],
   "metadata": {
    "collapsed": false,
    "pycharm": {
     "name": "#%% md\n"
    }
   }
  },
  {
   "cell_type": "code",
   "execution_count": 1,
   "metadata": {
    "collapsed": true
   },
   "outputs": [],
   "source": [
    "import eikon as ek\n",
    "import numpy as np\n",
    "import pandas as pd\n",
    "import json\n",
    "import datetime as dt\n",
    "import traceback"
   ]
  },
  {
   "cell_type": "code",
   "execution_count": 2,
   "outputs": [],
   "source": [
    "def initialize_eikon():\n",
    "    with open(\"config.json\") as f:\n",
    "        key = json.load(f)[\"eikon_key\"]\n",
    "\n",
    "    ek.set_app_key(key)"
   ],
   "metadata": {
    "collapsed": false,
    "pycharm": {
     "name": "#%%\n"
    }
   }
  },
  {
   "cell_type": "code",
   "execution_count": 3,
   "outputs": [],
   "source": [
    "def load_universe():\n",
    "    \"\"\"\n",
    "    Get the universe of futures contracts to trade\n",
    "\n",
    "    Returns: a dictionary of Eikon continuous futures tickers grouped by the asset subclass\n",
    "\n",
    "    \"\"\"\n",
    "    universe_df = pd.read_csv(\"universe.csv\")\n",
    "\n",
    "    return_dict = {}\n",
    "    for c in universe_df.type.unique():\n",
    "        return_dict[c] = list(universe_df[universe_df.type == c].eikon_ticker)\n",
    "\n",
    "    return return_dict"
   ],
   "metadata": {
    "collapsed": false,
    "pycharm": {
     "name": "#%%\n"
    }
   }
  },
  {
   "cell_type": "code",
   "execution_count": 7,
   "outputs": [],
   "source": [
    "def get_price_data(ticker: str, start_date: dt.date, end_date: dt.date):\n",
    "    \"\"\"\n",
    "    Get historical price data on a single contract\n",
    "\n",
    "    Args:\n",
    "        ticker: the ticker of the contract to get\n",
    "        start_date: the start date of the time series\n",
    "        end_date: the end date of the time series\n",
    "\n",
    "    Returns: a data frame containing historical price data on the contract\n",
    "\n",
    "    \"\"\"\n",
    "    data = ek.get_data(\n",
    "        ticker,\n",
    "        [\n",
    "            'TR.CLOSEPRICE.date',\n",
    "            'TR.CLOSEPRICE',\n",
    "            'TR.ACCUMULATEDVOLUME'\n",
    "        ],\n",
    "        {'SDate': start_date.strftime(\"%Y-%m-%d\"), 'Frq': 'D', 'EDate': end_date.strftime(\"%Y-%m-%d\")}\n",
    "    )\n",
    "\n",
    "    data = data[0]\n",
    "\n",
    "    data = data[data.Date != \"\"].copy()\n",
    "\n",
    "    data.Date = data.Date.apply(lambda x: dt.date(int(x[0:4]), int(x[5:7]), int(x[8:10])))\n",
    "\n",
    "    return data"
   ],
   "metadata": {
    "collapsed": false,
    "pycharm": {
     "name": "#%%\n"
    }
   }
  },
  {
   "cell_type": "code",
   "execution_count": 5,
   "outputs": [],
   "source": [
    "def get_multiple_price_data(universe, start_date, end_date, continuation: int = 1):\n",
    "    \"\"\"\n",
    "    Get a dictionary with historical prices for all futures in the given universe\n",
    "\n",
    "    :param universe: a dictionary with all the required futures contracts\n",
    "    :param start_date: the start date to get data from\n",
    "    :param end_date: the end date to get data from\n",
    "    :param continuation: the futures continuation to fetc\n",
    "    :return: a dictionary with historical prices for each of the given futures\n",
    "    \"\"\"\n",
    "    result_collector = dict()\n",
    "\n",
    "    for asset_class in universe:\n",
    "        for ticker in universe[asset_class]:\n",
    "            try:\n",
    "                ticker = ticker + \"c\" + str(continuation)\n",
    "                price_data = get_price_data(ticker, start_date, end_date)\n",
    "                result_collector[ticker] = price_data\n",
    "            except:\n",
    "                continue\n",
    "\n",
    "    return result_collector"
   ],
   "metadata": {
    "collapsed": false,
    "pycharm": {
     "name": "#%%\n"
    }
   }
  },
  {
   "cell_type": "code",
   "execution_count": 4,
   "outputs": [],
   "source": [
    "initialize_eikon()\n",
    "universe = load_universe()"
   ],
   "metadata": {
    "collapsed": false,
    "pycharm": {
     "name": "#%%\n"
    }
   }
  },
  {
   "cell_type": "code",
   "execution_count": 5,
   "outputs": [
    {
     "data": {
      "text/plain": "{'Agriculture': ['SB', 'LSU', 'KC', 'ICF', 'CT', 'W', 'KW', 'C', 'S', 'CC'],\n 'Base Metals': ['HG', 'SAF', 'SZN', 'SNI', 'SPB'],\n 'Energy': ['CL', 'NG', 'LCO', 'LGO', 'RB', 'HO', 'LHO'],\n 'Livestock': ['LC', 'LH', 'FC'],\n 'Precious Metals': ['GC', 'SI']}"
     },
     "execution_count": 5,
     "metadata": {},
     "output_type": "execute_result"
    }
   ],
   "source": [
    "universe"
   ],
   "metadata": {
    "collapsed": false,
    "pycharm": {
     "name": "#%%\n"
    }
   }
  },
  {
   "cell_type": "code",
   "execution_count": 69,
   "outputs": [],
   "source": [
    "price_data_c1 = get_multiple_price_data(\n",
    "    universe=universe,\n",
    "    start_date=dt.date(1980, 10, 1),\n",
    "    end_date=dt.date(2022, 1, 1)\n",
    ")"
   ],
   "metadata": {
    "collapsed": false,
    "pycharm": {
     "name": "#%%\n"
    }
   }
  },
  {
   "cell_type": "code",
   "execution_count": 70,
   "outputs": [
    {
     "data": {
      "text/plain": "27"
     },
     "execution_count": 70,
     "metadata": {},
     "output_type": "execute_result"
    }
   ],
   "source": [
    "len(price_data_c1.keys())"
   ],
   "metadata": {
    "collapsed": false,
    "pycharm": {
     "name": "#%%\n"
    }
   }
  },
  {
   "cell_type": "code",
   "execution_count": 71,
   "outputs": [],
   "source": [
    "pd.concat(price_data_c1.values()).to_csv(\"price_data_c1.csv\", index=False)"
   ],
   "metadata": {
    "collapsed": false,
    "pycharm": {
     "name": "#%%\n"
    }
   }
  },
  {
   "cell_type": "code",
   "execution_count": 72,
   "outputs": [],
   "source": [
    "price_data_c2 = get_multiple_price_data(\n",
    "    universe=universe,\n",
    "    start_date=dt.date(1991, 10, 1),\n",
    "    end_date=dt.date(2022, 1, 1),\n",
    "    continuation=2\n",
    ")"
   ],
   "metadata": {
    "collapsed": false,
    "pycharm": {
     "name": "#%%\n"
    }
   }
  },
  {
   "cell_type": "code",
   "execution_count": 73,
   "outputs": [
    {
     "data": {
      "text/plain": "27"
     },
     "execution_count": 73,
     "metadata": {},
     "output_type": "execute_result"
    }
   ],
   "source": [
    "len(price_data_c2.keys())"
   ],
   "metadata": {
    "collapsed": false,
    "pycharm": {
     "name": "#%%\n"
    }
   }
  },
  {
   "cell_type": "code",
   "execution_count": 74,
   "outputs": [],
   "source": [
    "pd.concat(price_data_c2.values()).to_csv(\"price_data_c2.csv\", index=False)"
   ],
   "metadata": {
    "collapsed": false,
    "pycharm": {
     "name": "#%%\n"
    }
   }
  },
  {
   "cell_type": "code",
   "execution_count": 75,
   "outputs": [],
   "source": [
    "price_data_c3 = get_multiple_price_data(\n",
    "    universe=universe,\n",
    "    start_date=dt.date(1991, 10, 1),\n",
    "    end_date=dt.date(2022, 1, 1),\n",
    "    continuation=3\n",
    ")"
   ],
   "metadata": {
    "collapsed": false,
    "pycharm": {
     "name": "#%%\n"
    }
   }
  },
  {
   "cell_type": "code",
   "execution_count": 76,
   "outputs": [
    {
     "data": {
      "text/plain": "27"
     },
     "execution_count": 76,
     "metadata": {},
     "output_type": "execute_result"
    }
   ],
   "source": [
    "len(price_data_c3.keys())"
   ],
   "metadata": {
    "collapsed": false,
    "pycharm": {
     "name": "#%%\n"
    }
   }
  },
  {
   "cell_type": "code",
   "execution_count": 77,
   "outputs": [],
   "source": [
    "pd.concat(price_data_c3.values()).to_csv(\"price_data_c3.csv\", index=False)"
   ],
   "metadata": {
    "collapsed": false,
    "pycharm": {
     "name": "#%%\n"
    }
   }
  },
  {
   "cell_type": "code",
   "execution_count": 78,
   "outputs": [],
   "source": [
    "price_data_c4 = get_multiple_price_data(\n",
    "    universe=universe,\n",
    "    start_date=dt.date(1991, 10, 1),\n",
    "    end_date=dt.date(2022, 1, 1),\n",
    "    continuation=3\n",
    ")"
   ],
   "metadata": {
    "collapsed": false,
    "pycharm": {
     "name": "#%%\n"
    }
   }
  },
  {
   "cell_type": "code",
   "execution_count": 79,
   "outputs": [
    {
     "data": {
      "text/plain": "27"
     },
     "execution_count": 79,
     "metadata": {},
     "output_type": "execute_result"
    }
   ],
   "source": [
    "len(price_data_c4.keys())"
   ],
   "metadata": {
    "collapsed": false,
    "pycharm": {
     "name": "#%%\n"
    }
   }
  },
  {
   "cell_type": "code",
   "execution_count": 80,
   "outputs": [],
   "source": [
    "pd.concat(price_data_c4.values()).to_csv(\"price_data_c4.csv\", index=False)"
   ],
   "metadata": {
    "collapsed": false,
    "pycharm": {
     "name": "#%%\n"
    }
   }
  },
  {
   "cell_type": "code",
   "execution_count": 91,
   "outputs": [],
   "source": [
    "t1 = pd.read_csv(\"price_data_c1.csv\")\n",
    "t2 = pd.read_csv(\"price_data_c2.csv\")\n",
    "t3 = pd.read_csv(\"price_data_c3.csv\")\n",
    "t4 = pd.read_csv(\"price_data_c4.csv\")\n",
    "\n",
    "t1.drop(columns=[\"Unnamed: 0\"], inplace=True)\n",
    "t2.drop(columns=[\"Unnamed: 0\"], inplace=True)\n",
    "t3.drop(columns=[\"Unnamed: 0\"], inplace=True)\n",
    "t4.drop(columns=[\"Unnamed: 0\"], inplace=True)\n",
    "\n",
    "t1[\"Continuation\"] = \"c1\"\n",
    "t2[\"Continuation\"] = \"c2\"\n",
    "t3[\"Continuation\"] = \"c3\"\n",
    "t4[\"Continuation\"] = \"c4\"\n",
    "\n",
    "t1[\"Instrument\"] = t1[\"Instrument\"].apply(lambda x: x[:-2])\n",
    "t2[\"Instrument\"] = t2[\"Instrument\"].apply(lambda x: x[:-2])\n",
    "t3[\"Instrument\"] = t3[\"Instrument\"].apply(lambda x: x[:-2])\n",
    "t4[\"Instrument\"] = t4[\"Instrument\"].apply(lambda x: x[:-2])"
   ],
   "metadata": {
    "collapsed": false,
    "pycharm": {
     "name": "#%%\n"
    }
   }
  },
  {
   "cell_type": "code",
   "execution_count": 92,
   "outputs": [
    {
     "data": {
      "text/plain": "       Instrument        Date  Close Price  Accumulated Volume Continuation\n0              SB  1980-10-01          NaN               275.0           c1\n1              SB  1987-08-31        5.250               204.0           c1\n2              SB  1988-12-30       10.000               155.0           c1\n3              SB  1989-12-29       12.450               132.0           c1\n4              SB  1991-02-28        8.950               137.0           c1\n...           ...         ...          ...                 ...          ...\n172512         SI  2021-12-27       23.100               111.0           c4\n172513         SI  2021-12-28       23.100               160.0           c4\n172514         SI  2021-12-29       22.860                45.0           c4\n172515         SI  2021-12-30       23.075               109.0           c4\n172516         SI  2021-12-31       23.355                96.0           c4\n\n[704763 rows x 5 columns]",
      "text/html": "<div>\n<style scoped>\n    .dataframe tbody tr th:only-of-type {\n        vertical-align: middle;\n    }\n\n    .dataframe tbody tr th {\n        vertical-align: top;\n    }\n\n    .dataframe thead th {\n        text-align: right;\n    }\n</style>\n<table border=\"1\" class=\"dataframe\">\n  <thead>\n    <tr style=\"text-align: right;\">\n      <th></th>\n      <th>Instrument</th>\n      <th>Date</th>\n      <th>Close Price</th>\n      <th>Accumulated Volume</th>\n      <th>Continuation</th>\n    </tr>\n  </thead>\n  <tbody>\n    <tr>\n      <th>0</th>\n      <td>SB</td>\n      <td>1980-10-01</td>\n      <td>NaN</td>\n      <td>275.0</td>\n      <td>c1</td>\n    </tr>\n    <tr>\n      <th>1</th>\n      <td>SB</td>\n      <td>1987-08-31</td>\n      <td>5.250</td>\n      <td>204.0</td>\n      <td>c1</td>\n    </tr>\n    <tr>\n      <th>2</th>\n      <td>SB</td>\n      <td>1988-12-30</td>\n      <td>10.000</td>\n      <td>155.0</td>\n      <td>c1</td>\n    </tr>\n    <tr>\n      <th>3</th>\n      <td>SB</td>\n      <td>1989-12-29</td>\n      <td>12.450</td>\n      <td>132.0</td>\n      <td>c1</td>\n    </tr>\n    <tr>\n      <th>4</th>\n      <td>SB</td>\n      <td>1991-02-28</td>\n      <td>8.950</td>\n      <td>137.0</td>\n      <td>c1</td>\n    </tr>\n    <tr>\n      <th>...</th>\n      <td>...</td>\n      <td>...</td>\n      <td>...</td>\n      <td>...</td>\n      <td>...</td>\n    </tr>\n    <tr>\n      <th>172512</th>\n      <td>SI</td>\n      <td>2021-12-27</td>\n      <td>23.100</td>\n      <td>111.0</td>\n      <td>c4</td>\n    </tr>\n    <tr>\n      <th>172513</th>\n      <td>SI</td>\n      <td>2021-12-28</td>\n      <td>23.100</td>\n      <td>160.0</td>\n      <td>c4</td>\n    </tr>\n    <tr>\n      <th>172514</th>\n      <td>SI</td>\n      <td>2021-12-29</td>\n      <td>22.860</td>\n      <td>45.0</td>\n      <td>c4</td>\n    </tr>\n    <tr>\n      <th>172515</th>\n      <td>SI</td>\n      <td>2021-12-30</td>\n      <td>23.075</td>\n      <td>109.0</td>\n      <td>c4</td>\n    </tr>\n    <tr>\n      <th>172516</th>\n      <td>SI</td>\n      <td>2021-12-31</td>\n      <td>23.355</td>\n      <td>96.0</td>\n      <td>c4</td>\n    </tr>\n  </tbody>\n</table>\n<p>704763 rows × 5 columns</p>\n</div>"
     },
     "execution_count": 92,
     "metadata": {},
     "output_type": "execute_result"
    }
   ],
   "source": [
    "test_format_1 = pd.concat([t1, t2, t3, t4])\n",
    "test_format_1"
   ],
   "metadata": {
    "collapsed": false,
    "pycharm": {
     "name": "#%%\n"
    }
   }
  },
  {
   "cell_type": "code",
   "execution_count": 7,
   "outputs": [],
   "source": [
    "t1 = pd.read_csv(\"price_data_c1.csv\")\n",
    "t2 = pd.read_csv(\"price_data_c2.csv\")\n",
    "t3 = pd.read_csv(\"price_data_c3.csv\")\n",
    "t4 = pd.read_csv(\"price_data_c4.csv\")\n",
    "\n",
    "t1.drop(columns=[\"Unnamed: 0\"], inplace=True)\n",
    "t2.drop(columns=[\"Unnamed: 0\"], inplace=True)\n",
    "t3.drop(columns=[\"Unnamed: 0\"], inplace=True)\n",
    "t4.drop(columns=[\"Unnamed: 0\"], inplace=True)\n",
    "\n",
    "t1[\"Instrument\"] = t1[\"Instrument\"].apply(lambda x: x[:-2])\n",
    "t2[\"Instrument\"] = t2[\"Instrument\"].apply(lambda x: x[:-2])\n",
    "t3[\"Instrument\"] = t3[\"Instrument\"].apply(lambda x: x[:-2])\n",
    "t4[\"Instrument\"] = t4[\"Instrument\"].apply(lambda x: x[:-2])\n",
    "\n",
    "t2.rename(\n",
    "    columns={\n",
    "        \"Accumulated Volume\": \"C2 - Accumulated Volume\",\n",
    "        \"Close Price\": \"C2 - Close Price\"\n",
    "    },\n",
    "    inplace=True\n",
    ")\n",
    "\n",
    "t3.rename(\n",
    "    columns={\n",
    "        \"Accumulated Volume\": \"C3 - Accumulated Volume\",\n",
    "        \"Close Price\": \"C3 - Close Price\"\n",
    "    },\n",
    "    inplace=True\n",
    ")\n",
    "\n",
    "t4.rename(\n",
    "    columns={\n",
    "        \"Accumulated Volume\": \"C4 - Accumulated Volume\",\n",
    "        \"Close Price\": \"C4 - Close Price\"\n",
    "    },\n",
    "    inplace=True\n",
    ")"
   ],
   "metadata": {
    "collapsed": false,
    "pycharm": {
     "name": "#%%\n"
    }
   }
  },
  {
   "cell_type": "code",
   "execution_count": 8,
   "outputs": [
    {
     "data": {
      "text/plain": "       Instrument        Date  Close Price  Accumulated Volume  \\\n18             SB  1991-10-01        8.880                15.0   \n19             SB  1991-10-02        8.850               152.0   \n20             SB  1991-10-03        8.550                82.0   \n21             SB  1991-10-04        8.660                52.0   \n22             SB  1991-10-07        8.750                27.0   \n...           ...         ...          ...                 ...   \n184232         SI  2021-12-27       22.680                 1.0   \n184233         SI  2021-12-28       23.150               211.0   \n184234         SI  2021-12-29       22.635               172.0   \n184235         SI  2021-12-30       23.070               344.0   \n184236         SI  2021-12-31       23.310               230.0   \n\n        C2 - Close Price  C2 - Accumulated Volume  C3 - Close Price  \\\n18                 8.770                   2007.0             8.730   \n19                 8.740                   1317.0             8.720   \n20                 8.480                   3825.0             8.480   \n21                 8.590                    915.0             8.550   \n22                 8.650                   1109.0             8.640   \n...                  ...                      ...               ...   \n184232            23.060                 108793.0            23.100   \n184233            23.015                  73451.0            23.100   \n184234            22.825                  98976.0            22.860   \n184235            23.100                  75359.0            23.075   \n184236            23.345                    392.0            23.355   \n\n        C3 - Accumulated Volume  C4 - Close Price  C4 - Accumulated Volume  \n18                        549.0             8.730                    549.0  \n19                        430.0             8.720                    430.0  \n20                        865.0             8.480                    865.0  \n21                         74.0             8.550                     74.0  \n22                        110.0             8.640                    110.0  \n...                         ...               ...                      ...  \n184232                    111.0            23.100                    111.0  \n184233                    160.0            23.100                    160.0  \n184234                     45.0            22.860                     45.0  \n184235                    109.0            23.075                    109.0  \n184236                     96.0            23.355                     96.0  \n\n[169158 rows x 10 columns]",
      "text/html": "<div>\n<style scoped>\n    .dataframe tbody tr th:only-of-type {\n        vertical-align: middle;\n    }\n\n    .dataframe tbody tr th {\n        vertical-align: top;\n    }\n\n    .dataframe thead th {\n        text-align: right;\n    }\n</style>\n<table border=\"1\" class=\"dataframe\">\n  <thead>\n    <tr style=\"text-align: right;\">\n      <th></th>\n      <th>Instrument</th>\n      <th>Date</th>\n      <th>Close Price</th>\n      <th>Accumulated Volume</th>\n      <th>C2 - Close Price</th>\n      <th>C2 - Accumulated Volume</th>\n      <th>C3 - Close Price</th>\n      <th>C3 - Accumulated Volume</th>\n      <th>C4 - Close Price</th>\n      <th>C4 - Accumulated Volume</th>\n    </tr>\n  </thead>\n  <tbody>\n    <tr>\n      <th>18</th>\n      <td>SB</td>\n      <td>1991-10-01</td>\n      <td>8.880</td>\n      <td>15.0</td>\n      <td>8.770</td>\n      <td>2007.0</td>\n      <td>8.730</td>\n      <td>549.0</td>\n      <td>8.730</td>\n      <td>549.0</td>\n    </tr>\n    <tr>\n      <th>19</th>\n      <td>SB</td>\n      <td>1991-10-02</td>\n      <td>8.850</td>\n      <td>152.0</td>\n      <td>8.740</td>\n      <td>1317.0</td>\n      <td>8.720</td>\n      <td>430.0</td>\n      <td>8.720</td>\n      <td>430.0</td>\n    </tr>\n    <tr>\n      <th>20</th>\n      <td>SB</td>\n      <td>1991-10-03</td>\n      <td>8.550</td>\n      <td>82.0</td>\n      <td>8.480</td>\n      <td>3825.0</td>\n      <td>8.480</td>\n      <td>865.0</td>\n      <td>8.480</td>\n      <td>865.0</td>\n    </tr>\n    <tr>\n      <th>21</th>\n      <td>SB</td>\n      <td>1991-10-04</td>\n      <td>8.660</td>\n      <td>52.0</td>\n      <td>8.590</td>\n      <td>915.0</td>\n      <td>8.550</td>\n      <td>74.0</td>\n      <td>8.550</td>\n      <td>74.0</td>\n    </tr>\n    <tr>\n      <th>22</th>\n      <td>SB</td>\n      <td>1991-10-07</td>\n      <td>8.750</td>\n      <td>27.0</td>\n      <td>8.650</td>\n      <td>1109.0</td>\n      <td>8.640</td>\n      <td>110.0</td>\n      <td>8.640</td>\n      <td>110.0</td>\n    </tr>\n    <tr>\n      <th>...</th>\n      <td>...</td>\n      <td>...</td>\n      <td>...</td>\n      <td>...</td>\n      <td>...</td>\n      <td>...</td>\n      <td>...</td>\n      <td>...</td>\n      <td>...</td>\n      <td>...</td>\n    </tr>\n    <tr>\n      <th>184232</th>\n      <td>SI</td>\n      <td>2021-12-27</td>\n      <td>22.680</td>\n      <td>1.0</td>\n      <td>23.060</td>\n      <td>108793.0</td>\n      <td>23.100</td>\n      <td>111.0</td>\n      <td>23.100</td>\n      <td>111.0</td>\n    </tr>\n    <tr>\n      <th>184233</th>\n      <td>SI</td>\n      <td>2021-12-28</td>\n      <td>23.150</td>\n      <td>211.0</td>\n      <td>23.015</td>\n      <td>73451.0</td>\n      <td>23.100</td>\n      <td>160.0</td>\n      <td>23.100</td>\n      <td>160.0</td>\n    </tr>\n    <tr>\n      <th>184234</th>\n      <td>SI</td>\n      <td>2021-12-29</td>\n      <td>22.635</td>\n      <td>172.0</td>\n      <td>22.825</td>\n      <td>98976.0</td>\n      <td>22.860</td>\n      <td>45.0</td>\n      <td>22.860</td>\n      <td>45.0</td>\n    </tr>\n    <tr>\n      <th>184235</th>\n      <td>SI</td>\n      <td>2021-12-30</td>\n      <td>23.070</td>\n      <td>344.0</td>\n      <td>23.100</td>\n      <td>75359.0</td>\n      <td>23.075</td>\n      <td>109.0</td>\n      <td>23.075</td>\n      <td>109.0</td>\n    </tr>\n    <tr>\n      <th>184236</th>\n      <td>SI</td>\n      <td>2021-12-31</td>\n      <td>23.310</td>\n      <td>230.0</td>\n      <td>23.345</td>\n      <td>392.0</td>\n      <td>23.355</td>\n      <td>96.0</td>\n      <td>23.355</td>\n      <td>96.0</td>\n    </tr>\n  </tbody>\n</table>\n<p>169158 rows × 10 columns</p>\n</div>"
     },
     "execution_count": 8,
     "metadata": {},
     "output_type": "execute_result"
    }
   ],
   "source": [
    "test_format_2 = t1.merge(t2, how=\"left\").merge(t3, how=\"left\").merge(t4, how=\"left\")\n",
    "test_format_2[~pd.isnull(test_format_2[\"C2 - Close Price\"])]"
   ],
   "metadata": {
    "collapsed": false,
    "pycharm": {
     "name": "#%%\n"
    }
   }
  },
  {
   "cell_type": "markdown",
   "source": [
    "# Stock & Bond Indices"
   ],
   "metadata": {
    "collapsed": false,
    "pycharm": {
     "name": "#%% md\n"
    }
   }
  },
  {
   "cell_type": "code",
   "execution_count": 19,
   "outputs": [],
   "source": [
    "bond_index = get_price_data(\n",
    "    ticker=\".SBBIG\",\n",
    "    start_date=dt.date(1980, 10, 1),\n",
    "    end_date=dt.date(2022, 1, 1)\n",
    ")"
   ],
   "metadata": {
    "collapsed": false,
    "pycharm": {
     "name": "#%%\n"
    }
   }
  },
  {
   "cell_type": "code",
   "execution_count": 20,
   "outputs": [
    {
     "data": {
      "text/plain": "     Instrument        Date  Close Price  Accumulated Volume\n0        .SBBIG  1980-10-01         <NA>                <NA>\n1        .SBBIG  1995-01-03     466.3319                <NA>\n2        .SBBIG  1995-01-04     467.9437                <NA>\n3        .SBBIG  1995-01-05     467.1224                <NA>\n4        .SBBIG  1995-01-06     467.4298                <NA>\n...         ...         ...          ...                 ...\n6910     .SBBIG  2021-12-27    1939.9205                <NA>\n6911     .SBBIG  2021-12-28     1940.458                <NA>\n6912     .SBBIG  2021-12-29    1935.1257                <NA>\n6913     .SBBIG  2021-12-30    1938.2683                <NA>\n6914     .SBBIG  2021-12-31     1940.665                <NA>\n\n[6915 rows x 4 columns]",
      "text/html": "<div>\n<style scoped>\n    .dataframe tbody tr th:only-of-type {\n        vertical-align: middle;\n    }\n\n    .dataframe tbody tr th {\n        vertical-align: top;\n    }\n\n    .dataframe thead th {\n        text-align: right;\n    }\n</style>\n<table border=\"1\" class=\"dataframe\">\n  <thead>\n    <tr style=\"text-align: right;\">\n      <th></th>\n      <th>Instrument</th>\n      <th>Date</th>\n      <th>Close Price</th>\n      <th>Accumulated Volume</th>\n    </tr>\n  </thead>\n  <tbody>\n    <tr>\n      <th>0</th>\n      <td>.SBBIG</td>\n      <td>1980-10-01</td>\n      <td>&lt;NA&gt;</td>\n      <td>&lt;NA&gt;</td>\n    </tr>\n    <tr>\n      <th>1</th>\n      <td>.SBBIG</td>\n      <td>1995-01-03</td>\n      <td>466.3319</td>\n      <td>&lt;NA&gt;</td>\n    </tr>\n    <tr>\n      <th>2</th>\n      <td>.SBBIG</td>\n      <td>1995-01-04</td>\n      <td>467.9437</td>\n      <td>&lt;NA&gt;</td>\n    </tr>\n    <tr>\n      <th>3</th>\n      <td>.SBBIG</td>\n      <td>1995-01-05</td>\n      <td>467.1224</td>\n      <td>&lt;NA&gt;</td>\n    </tr>\n    <tr>\n      <th>4</th>\n      <td>.SBBIG</td>\n      <td>1995-01-06</td>\n      <td>467.4298</td>\n      <td>&lt;NA&gt;</td>\n    </tr>\n    <tr>\n      <th>...</th>\n      <td>...</td>\n      <td>...</td>\n      <td>...</td>\n      <td>...</td>\n    </tr>\n    <tr>\n      <th>6910</th>\n      <td>.SBBIG</td>\n      <td>2021-12-27</td>\n      <td>1939.9205</td>\n      <td>&lt;NA&gt;</td>\n    </tr>\n    <tr>\n      <th>6911</th>\n      <td>.SBBIG</td>\n      <td>2021-12-28</td>\n      <td>1940.458</td>\n      <td>&lt;NA&gt;</td>\n    </tr>\n    <tr>\n      <th>6912</th>\n      <td>.SBBIG</td>\n      <td>2021-12-29</td>\n      <td>1935.1257</td>\n      <td>&lt;NA&gt;</td>\n    </tr>\n    <tr>\n      <th>6913</th>\n      <td>.SBBIG</td>\n      <td>2021-12-30</td>\n      <td>1938.2683</td>\n      <td>&lt;NA&gt;</td>\n    </tr>\n    <tr>\n      <th>6914</th>\n      <td>.SBBIG</td>\n      <td>2021-12-31</td>\n      <td>1940.665</td>\n      <td>&lt;NA&gt;</td>\n    </tr>\n  </tbody>\n</table>\n<p>6915 rows × 4 columns</p>\n</div>"
     },
     "execution_count": 20,
     "metadata": {},
     "output_type": "execute_result"
    }
   ],
   "source": [
    "bond_index"
   ],
   "metadata": {
    "collapsed": false,
    "pycharm": {
     "name": "#%%\n"
    }
   }
  },
  {
   "cell_type": "code",
   "execution_count": 21,
   "outputs": [],
   "source": [
    "sp500_tr_index = get_price_data(\n",
    "    ticker=\".SPXTR\",\n",
    "    start_date=dt.date(1980, 10, 1),\n",
    "    end_date=dt.date(2022, 1, 1)\n",
    ")"
   ],
   "metadata": {
    "collapsed": false,
    "pycharm": {
     "name": "#%%\n"
    }
   }
  },
  {
   "cell_type": "code",
   "execution_count": 22,
   "outputs": [
    {
     "data": {
      "text/plain": "     Instrument        Date  Close Price  Accumulated Volume\n0        .SPXTR  1980-10-01         <NA>                <NA>\n1        .SPXTR  1988-01-05       258.77                   0\n2        .SPXTR  1988-01-06       259.03                   0\n3        .SPXTR  1988-01-07      261.211                   0\n4        .SPXTR  1988-01-08      243.545                   0\n...         ...         ...          ...                 ...\n8568     .SPXTR  2021-12-27   10037.6683                <NA>\n8569     .SPXTR  2021-12-28   10027.5329                <NA>\n8570     .SPXTR  2021-12-29    10041.611                <NA>\n8571     .SPXTR  2021-12-30   10012.5135                <NA>\n8572     .SPXTR  2021-12-31    9986.6979                <NA>\n\n[8573 rows x 4 columns]",
      "text/html": "<div>\n<style scoped>\n    .dataframe tbody tr th:only-of-type {\n        vertical-align: middle;\n    }\n\n    .dataframe tbody tr th {\n        vertical-align: top;\n    }\n\n    .dataframe thead th {\n        text-align: right;\n    }\n</style>\n<table border=\"1\" class=\"dataframe\">\n  <thead>\n    <tr style=\"text-align: right;\">\n      <th></th>\n      <th>Instrument</th>\n      <th>Date</th>\n      <th>Close Price</th>\n      <th>Accumulated Volume</th>\n    </tr>\n  </thead>\n  <tbody>\n    <tr>\n      <th>0</th>\n      <td>.SPXTR</td>\n      <td>1980-10-01</td>\n      <td>&lt;NA&gt;</td>\n      <td>&lt;NA&gt;</td>\n    </tr>\n    <tr>\n      <th>1</th>\n      <td>.SPXTR</td>\n      <td>1988-01-05</td>\n      <td>258.77</td>\n      <td>0</td>\n    </tr>\n    <tr>\n      <th>2</th>\n      <td>.SPXTR</td>\n      <td>1988-01-06</td>\n      <td>259.03</td>\n      <td>0</td>\n    </tr>\n    <tr>\n      <th>3</th>\n      <td>.SPXTR</td>\n      <td>1988-01-07</td>\n      <td>261.211</td>\n      <td>0</td>\n    </tr>\n    <tr>\n      <th>4</th>\n      <td>.SPXTR</td>\n      <td>1988-01-08</td>\n      <td>243.545</td>\n      <td>0</td>\n    </tr>\n    <tr>\n      <th>...</th>\n      <td>...</td>\n      <td>...</td>\n      <td>...</td>\n      <td>...</td>\n    </tr>\n    <tr>\n      <th>8568</th>\n      <td>.SPXTR</td>\n      <td>2021-12-27</td>\n      <td>10037.6683</td>\n      <td>&lt;NA&gt;</td>\n    </tr>\n    <tr>\n      <th>8569</th>\n      <td>.SPXTR</td>\n      <td>2021-12-28</td>\n      <td>10027.5329</td>\n      <td>&lt;NA&gt;</td>\n    </tr>\n    <tr>\n      <th>8570</th>\n      <td>.SPXTR</td>\n      <td>2021-12-29</td>\n      <td>10041.611</td>\n      <td>&lt;NA&gt;</td>\n    </tr>\n    <tr>\n      <th>8571</th>\n      <td>.SPXTR</td>\n      <td>2021-12-30</td>\n      <td>10012.5135</td>\n      <td>&lt;NA&gt;</td>\n    </tr>\n    <tr>\n      <th>8572</th>\n      <td>.SPXTR</td>\n      <td>2021-12-31</td>\n      <td>9986.6979</td>\n      <td>&lt;NA&gt;</td>\n    </tr>\n  </tbody>\n</table>\n<p>8573 rows × 4 columns</p>\n</div>"
     },
     "execution_count": 22,
     "metadata": {},
     "output_type": "execute_result"
    }
   ],
   "source": [
    "sp500_tr_index"
   ],
   "metadata": {
    "collapsed": false,
    "pycharm": {
     "name": "#%%\n"
    }
   }
  },
  {
   "cell_type": "code",
   "execution_count": 23,
   "outputs": [],
   "source": [
    "russell_2000_tr_index = get_price_data(\n",
    "    ticker=\".RUTTR\",\n",
    "    start_date=dt.date(1980, 10, 1),\n",
    "    end_date=dt.date(2022, 1, 1)\n",
    ")"
   ],
   "metadata": {
    "collapsed": false,
    "pycharm": {
     "name": "#%%\n"
    }
   }
  },
  {
   "cell_type": "code",
   "execution_count": 24,
   "outputs": [
    {
     "data": {
      "text/plain": "     Instrument        Date  Close Price  Accumulated Volume\n0        .RUTTR  1980-10-01         <NA>                <NA>\n1        .RUTTR  1995-06-02       989.48                <NA>\n2        .RUTTR  1995-06-05        996.5                <NA>\n3        .RUTTR  1995-06-06       998.22                <NA>\n4        .RUTTR  1995-06-07       998.79                <NA>\n...         ...         ...          ...                 ...\n6695     .RUTTR  2021-12-27   11701.1068                <NA>\n6696     .RUTTR  2021-12-28   11624.1488                <NA>\n6697     .RUTTR  2021-12-29   11638.7674                <NA>\n6698     .RUTTR  2021-12-30    11639.858                <NA>\n6699     .RUTTR  2021-12-31   11622.2838                <NA>\n\n[6700 rows x 4 columns]",
      "text/html": "<div>\n<style scoped>\n    .dataframe tbody tr th:only-of-type {\n        vertical-align: middle;\n    }\n\n    .dataframe tbody tr th {\n        vertical-align: top;\n    }\n\n    .dataframe thead th {\n        text-align: right;\n    }\n</style>\n<table border=\"1\" class=\"dataframe\">\n  <thead>\n    <tr style=\"text-align: right;\">\n      <th></th>\n      <th>Instrument</th>\n      <th>Date</th>\n      <th>Close Price</th>\n      <th>Accumulated Volume</th>\n    </tr>\n  </thead>\n  <tbody>\n    <tr>\n      <th>0</th>\n      <td>.RUTTR</td>\n      <td>1980-10-01</td>\n      <td>&lt;NA&gt;</td>\n      <td>&lt;NA&gt;</td>\n    </tr>\n    <tr>\n      <th>1</th>\n      <td>.RUTTR</td>\n      <td>1995-06-02</td>\n      <td>989.48</td>\n      <td>&lt;NA&gt;</td>\n    </tr>\n    <tr>\n      <th>2</th>\n      <td>.RUTTR</td>\n      <td>1995-06-05</td>\n      <td>996.5</td>\n      <td>&lt;NA&gt;</td>\n    </tr>\n    <tr>\n      <th>3</th>\n      <td>.RUTTR</td>\n      <td>1995-06-06</td>\n      <td>998.22</td>\n      <td>&lt;NA&gt;</td>\n    </tr>\n    <tr>\n      <th>4</th>\n      <td>.RUTTR</td>\n      <td>1995-06-07</td>\n      <td>998.79</td>\n      <td>&lt;NA&gt;</td>\n    </tr>\n    <tr>\n      <th>...</th>\n      <td>...</td>\n      <td>...</td>\n      <td>...</td>\n      <td>...</td>\n    </tr>\n    <tr>\n      <th>6695</th>\n      <td>.RUTTR</td>\n      <td>2021-12-27</td>\n      <td>11701.1068</td>\n      <td>&lt;NA&gt;</td>\n    </tr>\n    <tr>\n      <th>6696</th>\n      <td>.RUTTR</td>\n      <td>2021-12-28</td>\n      <td>11624.1488</td>\n      <td>&lt;NA&gt;</td>\n    </tr>\n    <tr>\n      <th>6697</th>\n      <td>.RUTTR</td>\n      <td>2021-12-29</td>\n      <td>11638.7674</td>\n      <td>&lt;NA&gt;</td>\n    </tr>\n    <tr>\n      <th>6698</th>\n      <td>.RUTTR</td>\n      <td>2021-12-30</td>\n      <td>11639.858</td>\n      <td>&lt;NA&gt;</td>\n    </tr>\n    <tr>\n      <th>6699</th>\n      <td>.RUTTR</td>\n      <td>2021-12-31</td>\n      <td>11622.2838</td>\n      <td>&lt;NA&gt;</td>\n    </tr>\n  </tbody>\n</table>\n<p>6700 rows × 4 columns</p>\n</div>"
     },
     "execution_count": 24,
     "metadata": {},
     "output_type": "execute_result"
    }
   ],
   "source": [
    "russell_2000_tr_index"
   ],
   "metadata": {
    "collapsed": false,
    "pycharm": {
     "name": "#%%\n"
    }
   }
  },
  {
   "cell_type": "code",
   "source": [
    "bond_index.rename(\n",
    "    columns={\"Close Price\": \"USBIG\"},\n",
    "    inplace=True\n",
    ")\n",
    "bond_index.drop(\n",
    "    columns=[\"Accumulated Volume\", \"Instrument\"],\n",
    "    inplace=True\n",
    ")\n",
    "\n",
    "sp500_tr_index.rename(\n",
    "    columns={\"Close Price\": \"SP500\"},\n",
    "    inplace=True\n",
    ")\n",
    "sp500_tr_index.drop(\n",
    "    columns=[\"Accumulated Volume\", \"Instrument\"],\n",
    "    inplace=True\n",
    ")\n",
    "\n",
    "russell_2000_tr_index.rename(\n",
    "    columns={\"Close Price\": \"RUS2000\"},\n",
    "    inplace=True\n",
    ")\n",
    "russell_2000_tr_index.drop(\n",
    "    columns=[\"Accumulated Volume\", \"Instrument\"],\n",
    "    inplace=True\n",
    ")"
   ],
   "metadata": {
    "collapsed": false,
    "pycharm": {
     "name": "#%%\n"
    }
   },
   "execution_count": 26,
   "outputs": []
  },
  {
   "cell_type": "code",
   "execution_count": 37,
   "outputs": [],
   "source": [
    "market_indices = bond_index.merge(sp500_tr_index, how=\"outer\").merge(russell_2000_tr_index, how=\"outer\").dropna()"
   ],
   "metadata": {
    "collapsed": false,
    "pycharm": {
     "name": "#%%\n"
    }
   }
  },
  {
   "cell_type": "code",
   "execution_count": 38,
   "outputs": [
    {
     "data": {
      "text/plain": "           Date     USBIG     SP500  RUS2000\n109  1995-06-02  521.2857   675.398   989.48\n110  1995-06-05  521.6984  679.3172    996.5\n111  1995-06-06  521.2241  679.3641   998.22\n112  1995-06-07  519.2062  676.2942   998.79\n113  1995-06-08  517.5915  675.3885  1002.14",
      "text/html": "<div>\n<style scoped>\n    .dataframe tbody tr th:only-of-type {\n        vertical-align: middle;\n    }\n\n    .dataframe tbody tr th {\n        vertical-align: top;\n    }\n\n    .dataframe thead th {\n        text-align: right;\n    }\n</style>\n<table border=\"1\" class=\"dataframe\">\n  <thead>\n    <tr style=\"text-align: right;\">\n      <th></th>\n      <th>Date</th>\n      <th>USBIG</th>\n      <th>SP500</th>\n      <th>RUS2000</th>\n    </tr>\n  </thead>\n  <tbody>\n    <tr>\n      <th>109</th>\n      <td>1995-06-02</td>\n      <td>521.2857</td>\n      <td>675.398</td>\n      <td>989.48</td>\n    </tr>\n    <tr>\n      <th>110</th>\n      <td>1995-06-05</td>\n      <td>521.6984</td>\n      <td>679.3172</td>\n      <td>996.5</td>\n    </tr>\n    <tr>\n      <th>111</th>\n      <td>1995-06-06</td>\n      <td>521.2241</td>\n      <td>679.3641</td>\n      <td>998.22</td>\n    </tr>\n    <tr>\n      <th>112</th>\n      <td>1995-06-07</td>\n      <td>519.2062</td>\n      <td>676.2942</td>\n      <td>998.79</td>\n    </tr>\n    <tr>\n      <th>113</th>\n      <td>1995-06-08</td>\n      <td>517.5915</td>\n      <td>675.3885</td>\n      <td>1002.14</td>\n    </tr>\n  </tbody>\n</table>\n</div>"
     },
     "execution_count": 38,
     "metadata": {},
     "output_type": "execute_result"
    }
   ],
   "source": [
    "market_indices.head(5)"
   ],
   "metadata": {
    "collapsed": false,
    "pycharm": {
     "name": "#%%\n"
    }
   }
  },
  {
   "cell_type": "code",
   "execution_count": 39,
   "outputs": [],
   "source": [
    "market_indices[\"USBIG_Return\"] = market_indices[\"USBIG\"] / market_indices[\"USBIG\"].shift(1) - 1\n",
    "market_indices[\"SP500_Return\"] = market_indices[\"SP500\"] / market_indices[\"SP500\"].shift(1) - 1\n",
    "market_indices[\"RUS2000_Return\"] = market_indices[\"RUS2000\"] / market_indices[\"RUS2000\"].shift(1) - 1"
   ],
   "metadata": {
    "collapsed": false,
    "pycharm": {
     "name": "#%%\n"
    }
   }
  },
  {
   "cell_type": "code",
   "execution_count": 40,
   "outputs": [
    {
     "data": {
      "text/plain": "            Date      USBIG       SP500     RUS2000  USBIG_Return  \\\n109   1995-06-02   521.2857     675.398      989.48          <NA>   \n110   1995-06-05   521.6984    679.3172       996.5      0.000792   \n111   1995-06-06   521.2241    679.3641      998.22     -0.000909   \n112   1995-06-07   519.2062    676.2942      998.79     -0.003871   \n113   1995-06-08   517.5915    675.3885     1002.14      -0.00311   \n...          ...        ...         ...         ...           ...   \n6910  2021-12-27  1939.9205  10037.6683  11701.1068      0.000617   \n6911  2021-12-28   1940.458  10027.5329  11624.1488      0.000277   \n6912  2021-12-29  1935.1257   10041.611  11638.7674     -0.002748   \n6913  2021-12-30  1938.2683  10012.5135   11639.858      0.001624   \n6914  2021-12-31   1940.665   9986.6979  11622.2838      0.001237   \n\n      SP500_Return  RUS2000_Return  \n109           <NA>            <NA>  \n110       0.005803        0.007095  \n111       0.000069        0.001726  \n112      -0.004519        0.000571  \n113      -0.001339        0.003354  \n...            ...             ...  \n6910      0.013875        0.008893  \n6911      -0.00101       -0.006577  \n6912      0.001404        0.001258  \n6913     -0.002898        0.000094  \n6914     -0.002578        -0.00151  \n\n[6623 rows x 7 columns]",
      "text/html": "<div>\n<style scoped>\n    .dataframe tbody tr th:only-of-type {\n        vertical-align: middle;\n    }\n\n    .dataframe tbody tr th {\n        vertical-align: top;\n    }\n\n    .dataframe thead th {\n        text-align: right;\n    }\n</style>\n<table border=\"1\" class=\"dataframe\">\n  <thead>\n    <tr style=\"text-align: right;\">\n      <th></th>\n      <th>Date</th>\n      <th>USBIG</th>\n      <th>SP500</th>\n      <th>RUS2000</th>\n      <th>USBIG_Return</th>\n      <th>SP500_Return</th>\n      <th>RUS2000_Return</th>\n    </tr>\n  </thead>\n  <tbody>\n    <tr>\n      <th>109</th>\n      <td>1995-06-02</td>\n      <td>521.2857</td>\n      <td>675.398</td>\n      <td>989.48</td>\n      <td>&lt;NA&gt;</td>\n      <td>&lt;NA&gt;</td>\n      <td>&lt;NA&gt;</td>\n    </tr>\n    <tr>\n      <th>110</th>\n      <td>1995-06-05</td>\n      <td>521.6984</td>\n      <td>679.3172</td>\n      <td>996.5</td>\n      <td>0.000792</td>\n      <td>0.005803</td>\n      <td>0.007095</td>\n    </tr>\n    <tr>\n      <th>111</th>\n      <td>1995-06-06</td>\n      <td>521.2241</td>\n      <td>679.3641</td>\n      <td>998.22</td>\n      <td>-0.000909</td>\n      <td>0.000069</td>\n      <td>0.001726</td>\n    </tr>\n    <tr>\n      <th>112</th>\n      <td>1995-06-07</td>\n      <td>519.2062</td>\n      <td>676.2942</td>\n      <td>998.79</td>\n      <td>-0.003871</td>\n      <td>-0.004519</td>\n      <td>0.000571</td>\n    </tr>\n    <tr>\n      <th>113</th>\n      <td>1995-06-08</td>\n      <td>517.5915</td>\n      <td>675.3885</td>\n      <td>1002.14</td>\n      <td>-0.00311</td>\n      <td>-0.001339</td>\n      <td>0.003354</td>\n    </tr>\n    <tr>\n      <th>...</th>\n      <td>...</td>\n      <td>...</td>\n      <td>...</td>\n      <td>...</td>\n      <td>...</td>\n      <td>...</td>\n      <td>...</td>\n    </tr>\n    <tr>\n      <th>6910</th>\n      <td>2021-12-27</td>\n      <td>1939.9205</td>\n      <td>10037.6683</td>\n      <td>11701.1068</td>\n      <td>0.000617</td>\n      <td>0.013875</td>\n      <td>0.008893</td>\n    </tr>\n    <tr>\n      <th>6911</th>\n      <td>2021-12-28</td>\n      <td>1940.458</td>\n      <td>10027.5329</td>\n      <td>11624.1488</td>\n      <td>0.000277</td>\n      <td>-0.00101</td>\n      <td>-0.006577</td>\n    </tr>\n    <tr>\n      <th>6912</th>\n      <td>2021-12-29</td>\n      <td>1935.1257</td>\n      <td>10041.611</td>\n      <td>11638.7674</td>\n      <td>-0.002748</td>\n      <td>0.001404</td>\n      <td>0.001258</td>\n    </tr>\n    <tr>\n      <th>6913</th>\n      <td>2021-12-30</td>\n      <td>1938.2683</td>\n      <td>10012.5135</td>\n      <td>11639.858</td>\n      <td>0.001624</td>\n      <td>-0.002898</td>\n      <td>0.000094</td>\n    </tr>\n    <tr>\n      <th>6914</th>\n      <td>2021-12-31</td>\n      <td>1940.665</td>\n      <td>9986.6979</td>\n      <td>11622.2838</td>\n      <td>0.001237</td>\n      <td>-0.002578</td>\n      <td>-0.00151</td>\n    </tr>\n  </tbody>\n</table>\n<p>6623 rows × 7 columns</p>\n</div>"
     },
     "execution_count": 40,
     "metadata": {},
     "output_type": "execute_result"
    }
   ],
   "source": [
    "market_indices"
   ],
   "metadata": {
    "collapsed": false,
    "pycharm": {
     "name": "#%%\n"
    }
   }
  },
  {
   "cell_type": "code",
   "execution_count": 41,
   "outputs": [],
   "source": [
    "market_indices.to_csv(\"market_indices.csv\", index=False)"
   ],
   "metadata": {
    "collapsed": false,
    "pycharm": {
     "name": "#%%\n"
    }
   }
  }
 ],
 "metadata": {
  "kernelspec": {
   "display_name": "Python 3",
   "language": "python",
   "name": "python3"
  },
  "language_info": {
   "codemirror_mode": {
    "name": "ipython",
    "version": 2
   },
   "file_extension": ".py",
   "mimetype": "text/x-python",
   "name": "python",
   "nbconvert_exporter": "python",
   "pygments_lexer": "ipython2",
   "version": "2.7.6"
  }
 },
 "nbformat": 4,
 "nbformat_minor": 0
}